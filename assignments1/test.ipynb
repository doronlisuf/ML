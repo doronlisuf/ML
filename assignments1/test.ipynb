{
 "cells": [
  {
   "cell_type": "markdown",
   "metadata": {},
   "source": [
    "## Test Notebook ( PLEASE DOWNLOAD OUR MODEL FROM THE README! )"
   ]
  },
  {
   "cell_type": "code",
   "execution_count": null,
   "metadata": {},
   "outputs": [],
   "source": [
    "import numpy as np\n",
    "import numpy.random as npr\n",
    "import matplotlib.pyplot as plt\n",
    "%matplotlib inline\n",
    "plt.style.use('bmh')\n",
    "import tensorflow as tf\n",
    "from tensorflow import keras\n",
    "from tensorflow.keras import models\n",
    "from sklearn.model_selection import train_test_split\n",
    "from keras.applications.xception import preprocess_input\n",
    "from sklearn.metrics import confusion_matrix\n",
    "import seaborn as sns\n",
    "import pandas as pd"
   ]
  },
  {
   "cell_type": "code",
   "execution_count": null,
   "metadata": {},
   "outputs": [],
   "source": [
    "model = models.load_model('my_model.hdf5')\n",
    "classes = ['Stadium', 'Building/s', 'Traffic Sign', \n",
    "           'Forest', 'Flower/s', 'Street', \n",
    "           'Classroom', 'Bridge', 'Statue', 'Lake']"
   ]
  },
  {
   "cell_type": "code",
   "execution_count": null,
   "metadata": {},
   "outputs": [],
   "source": [
    "# LOAD IN YOUR TEST DATA / LABELS HERE\n",
    "data_test = np.load('YOUR-DATA.npy') # Data loaded in D x N\n",
    "labels_test = np.load('YOUR-DATA.npy')"
   ]
  },
  {
   "cell_type": "code",
   "execution_count": null,
   "metadata": {},
   "outputs": [],
   "source": [
    "def test_model(test_data, test_labels):\n",
    "    ''' \n",
    "        This function take in test data and test labels to be passed into our model.\n",
    "    \n",
    "        It outputs the accuracy score, the predicted labels, and a confusion matrix.\n",
    "        \n",
    "        NOTE: We use labels 0-9 instead of 1-10 for the confusion matrix.\n",
    "    \n",
    "    '''\n",
    "    \n",
    "    # Convert integer encoded labels to 0-9\n",
    "    new_labels = test_labels - 1\n",
    "    \n",
    "    # Preprocess data\n",
    "    data_test_preprocessed = preprocess_input(test_data.T.reshape(-1,300,300,3)) # Do not transpose if data is N x D\n",
    "    \n",
    "    # Predict labels from input data\n",
    "    preds = model.predict(data_test_preprocessed)\n",
    "    \n",
    "    # Convert predictions back to integer encoding\n",
    "    int_preds = np.argmax(preds,axis=1)\n",
    "    \n",
    "    num_correct = 0 # Initialize counter for accuracy\n",
    "    \n",
    "    # Compute accuracy metric\n",
    "    for i in range(len(new_labels)):\n",
    "        if (int_preds[i] == new_labels[i]):\n",
    "            num_correct += 1\n",
    "    \n",
    "    print('Accuracy: ', num_correct / len(new_labels))\n",
    "    print('\\nPredicted Labels: ', preds)\n",
    "    \n",
    "    # Plot confusion matrix\n",
    "    print('Confusion Matrix: ')\n",
    "    conf = pd.DataFrame(confusion_matrix(new_labels,int_preds),\n",
    "                        index= [i for i in \"0123456789\"], \n",
    "                        columns=[i for i in \"0123456789\"]\n",
    "                       )\n",
    "    plt.figure(figsize=(8,8))\n",
    "    sns.heatmap(conf, annot=True,cbar=False,fmt=\"d\")"
   ]
  },
  {
   "cell_type": "code",
   "execution_count": null,
   "metadata": {
    "scrolled": false
   },
   "outputs": [],
   "source": [
    "test_model(data_test, labels_test)"
   ]
  },
  {
   "cell_type": "code",
   "execution_count": null,
   "metadata": {},
   "outputs": [],
   "source": []
  }
 ],
 "metadata": {
  "kernelspec": {
   "display_name": "Python 3",
   "language": "python",
   "name": "python3"
  },
  "language_info": {
   "codemirror_mode": {
    "name": "ipython",
    "version": 3
   },
   "file_extension": ".py",
   "mimetype": "text/x-python",
   "name": "python",
   "nbconvert_exporter": "python",
   "pygments_lexer": "ipython3",
   "version": "3.8.5"
  }
 },
 "nbformat": 4,
 "nbformat_minor": 4
}
