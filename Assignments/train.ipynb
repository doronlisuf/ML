{
 "cells": [
  {
   "cell_type": "code",
   "execution_count": null,
   "metadata": {},
   "outputs": [],
   "source": [
    "import numpy as np\n",
    "import numpy.random as npr\n",
    "import matplotlib.pyplot as plt\n",
    "%matplotlib inline\n",
    "plt.style.use('bmh')\n",
    "import tensorflow as tf\n",
    "from tensorflow import keras\n",
    "from tensorflow.keras import regularizers, preprocessing\n",
    "from keras.constraints import maxnorm\n",
    "from tensorflow.keras import datasets, layers, models, Sequential\n",
    "from tensorflow.keras.layers import Dense, Dropout, Activation, Flatten, Conv2D, MaxPooling2D\n",
    "from sklearn.model_selection import train_test_split\n",
    "from sklearn.decomposition import PCA"
   ]
  },
  {
   "cell_type": "code",
   "execution_count": null,
   "metadata": {},
   "outputs": [],
   "source": [
    "# Loading Data\n",
    "data_train = np.load('data_train.npy')\n",
    "labels_train = np.load('labels_train.npy')\n",
    "print('Data:', data_train.shape)\n",
    "print('Labels:', labels_train.shape, '\\n')\n",
    "\n",
    "# Split the data into training and test\n",
    "X_train, X_test, y_train, y_test = train_test_split(data_train.T, labels_train, test_size=0.2)\n",
    "print('Training and Test Split')\n",
    "print('Train data:', X_train.shape)\n",
    "print('Test data:', X_test.shape)\n",
    "print('Train labels:', y_train.shape)\n",
    "print('Test labels:', y_test.shape, '\\n')\n",
    "\n",
    "# Names of the classes\n",
    "classes = ['Stadium', 'Building/s', 'Traffic Sign', \n",
    "           'Forest', 'Flower/s', 'Street', \n",
    "           'Classroom', 'Bridge', 'Statue', 'Lake']\n",
    "\n",
    "# Reshape the data\n",
    "data_train_reshaped = (data_train / 255.0).reshape(-1,300,300,3)\n",
    "print('Scaled data:',data_train_reshaped.shape, '\\n')\n",
    "\n",
    "# Function plots a sample\n",
    "def plot_sample(X, y, index):\n",
    "    plt.figure(figsize = (30,5))\n",
    "    plt.imshow(X[:,index].reshape(300,300,3))\n",
    "    plt.xlabel(classes[int(y[int(index)])-1])\n",
    "\n",
    "# Adjust the labels to start at 0\n",
    "new_labels = labels_train - 1\n",
    "print('New labels:', np.unique(new_labels),'\\n')\n",
    "\n",
    "# One hot encoding \n",
    "one_hot_labels = tf.keras.utils.to_categorical(new_labels)\n",
    "train_one_hot_labels = tf.keras.utils.to_categorical(y_train-1)\n",
    "\n",
    "print('Size of the one hot labels:',one_hot_labels.shape,'\\n')\n",
    "np.save('one_hot_labels',one_hot_labels)\n",
    "\n",
    "tf.compat.v1.reset_default_graph()"
   ]
  },
  {
   "cell_type": "code",
   "execution_count": null,
   "metadata": {},
   "outputs": [],
   "source": [
    "def plt_history(hist):\n",
    "    \n",
    "    fig,ax = plt.subplots(2,1,figsize=(10,7))\n",
    "    \n",
    "    # Plot Accuracy\n",
    "    ax[0].plot(hist.history['accuracy'], label='Train Accuracy')\n",
    "    ax[0].plot(hist.history['val_accuracy'], label='Test Accuracy')\n",
    "    ax[0].set_ylabel('Accuracy')\n",
    "    ax[0].legend(loc='lower right')\n",
    "    ax[0].set_title('Accuracy Evaluation')\n",
    "    \n",
    "    # Plot Error\n",
    "    ax[1].plot(hist.history['loss'], label='Train Error')\n",
    "    ax[1].plot(hist.history['val_loss'], label='Test Error')\n",
    "    ax[1].set_ylabel('Error')\n",
    "    ax[1].legend(loc='upper right')\n",
    "    ax[1].set_title('Error Evaluation')\n",
    "    \n",
    "    plt.show()"
   ]
  },
  {
   "cell_type": "code",
   "execution_count": null,
   "metadata": {},
   "outputs": [],
   "source": [
    "from keras.applications.xception import preprocess_input, Xception\n",
    "xception_model = Xception(weights='imagenet', include_top=False, input_shape=(300,300,3))"
   ]
  },
  {
   "cell_type": "code",
   "execution_count": null,
   "metadata": {},
   "outputs": [],
   "source": [
    "X_train_pp = preprocess_input(X_train.reshape(-1,300,300,3))\n",
    "data_train_preprocessed = preprocess_input(data_train.T.reshape(-1,300,300,3))\n",
    "\n",
    "last_layer2 = xception_model.get_layer(\"block14_sepconv2_bn\")\n",
    "\n",
    "xception_layers = keras.Model(inputs=xception_model.inputs, outputs=last_layer2.output)\n",
    "xception_model2=Sequential()\n",
    "xception_model2.add(xception_layers)\n",
    "xception_model2.add(Flatten())\n",
    "xception_model2.add(Dense(10,activation='softmax'))\n",
    "\n",
    "xception_model2.layers[0].trainable=False\n",
    "\n",
    "xception_model2.compile(loss='categorical_crossentropy',optimizer='adam',metrics=['accuracy'])\n",
    "xception_model2.summary()"
   ]
  },
  {
   "cell_type": "code",
   "execution_count": null,
   "metadata": {},
   "outputs": [],
   "source": [
    "data_train.T.reshape(-1,300,300,3).shape"
   ]
  },
  {
   "cell_type": "code",
   "execution_count": null,
   "metadata": {},
   "outputs": [],
   "source": [
    "callback = tf.keras.callbacks.EarlyStopping(monitor='val_accuracy',patience=15)"
   ]
  },
  {
   "cell_type": "code",
   "execution_count": null,
   "metadata": {},
   "outputs": [],
   "source": [
    "xception_model2.layers[0].trainable = True\n",
    "\n",
    "for layer in xception_model2.layers[0].layers[:-10]:\n",
    "    layer.trainable = False\n",
    "for layer in xception_model2.layers[0].layers[-10:]:\n",
    "    layer.trainable = True\n",
    "\n",
    "opt = keras.optimizers.Adam(learning_rate=0.0001)\n",
    "xception_model2.compile(loss='categorical_crossentropy', optimizer=opt, metrics=['accuracy'])\n",
    "\n",
    "history = xception_model2.fit(data_train_preprocessed,\n",
    "                              one_hot_labels, \n",
    "                              batch_size=128, \n",
    "                              epochs=200,\n",
    "                              validation_split = 0.2, \n",
    "                              callbacks=[callback])\n",
    "plt_history(history)\n",
    "xception_model2.summary()"
   ]
  },
  {
   "cell_type": "code",
   "execution_count": null,
   "metadata": {},
   "outputs": [],
   "source": [
    "# Save the model\n",
    "xception_model2.save('my_model.hdf5')"
   ]
  },
  {
   "cell_type": "code",
   "execution_count": null,
   "metadata": {},
   "outputs": [],
   "source": []
  },
  {
   "cell_type": "code",
   "execution_count": null,
   "metadata": {},
   "outputs": [],
   "source": []
  },
  {
   "cell_type": "code",
   "execution_count": null,
   "metadata": {},
   "outputs": [],
   "source": []
  },
  {
   "cell_type": "code",
   "execution_count": null,
   "metadata": {},
   "outputs": [],
   "source": []
  },
  {
   "cell_type": "code",
   "execution_count": null,
   "metadata": {},
   "outputs": [],
   "source": []
  }
 ],
 "metadata": {
  "kernelspec": {
   "display_name": "Tensorflow-2.6.0",
   "language": "python",
   "name": "tensorflow-2.6.0"
  },
  "language_info": {
   "codemirror_mode": {
    "name": "ipython",
    "version": 3
   },
   "file_extension": ".py",
   "mimetype": "text/x-python",
   "name": "python",
   "nbconvert_exporter": "python",
   "pygments_lexer": "ipython3",
   "version": "3.9.7"
  }
 },
 "nbformat": 4,
 "nbformat_minor": 4
}
