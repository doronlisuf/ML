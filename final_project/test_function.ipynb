{
 "cells": [
  {
   "cell_type": "code",
   "execution_count": 19,
   "metadata": {},
   "outputs": [],
   "source": [
    "import numpy as np\n",
    "import numpy.random as npr\n",
    "import matplotlib.pyplot as plt\n",
    "from sklearn.model_selection import train_test_split\n",
    "from sklearn.preprocessing import StandardScaler\n",
    "from sklearn.neighbors import KNeighborsClassifier\n",
    "from sklearn.naive_bayes import GaussianNB\n",
    "import numpy.random as npr\n",
    "import cv2\n",
    "from sklearn.model_selection import train_test_split\n",
    "from sklearn.preprocessing import StandardScaler\n",
    "from sklearn.metrics import classification_report, confusion_matrix\n",
    "%matplotlib inline\n",
    "plt.style.use('bmh')"
   ]
  },
  {
   "cell_type": "code",
   "execution_count": 20,
   "metadata": {},
   "outputs": [],
   "source": [
    "import matplotlib.pyplot as plt\n",
    "import numpy as np\n",
    "import os\n",
    "import PIL\n",
    "import tensorflow as tf\n",
    "\n",
    "from tensorflow import keras\n",
    "from tensorflow.keras import layers\n",
    "from tensorflow.keras.models import Sequential\n",
    "from tensorflow import keras"
   ]
  },
  {
   "cell_type": "code",
   "execution_count": 21,
   "metadata": {},
   "outputs": [
    {
     "name": "stdout",
     "output_type": "stream",
     "text": [
      "(270000, 3124) (3124,)\n",
      "3124\n"
     ]
    }
   ],
   "source": [
    "# Loading Data. replace 'data_train.npy' with 'data_test.npy' and 'labels_train.npy' with 'labels_test.npy'\n",
    "data_test = np.load('data_train.npy')\n",
    "labels_test = np.load('labels_train.npy')\n",
    "\n",
    "labels_names =['Stadium','Building','Traffic Sign','Forest','Flowers',\n",
    "              'Street','Classroom','Bridge','Statue','Lake']\n",
    "\n",
    "print(data_test.shape, labels_test.shape)\n",
    "print(labels_test.shape[0])"
   ]
  },
  {
   "cell_type": "code",
   "execution_count": 22,
   "metadata": {},
   "outputs": [],
   "source": [
    "#loading the model\n",
    "from keras.models import load_model\n",
    "\n",
    "y_final_new = labels_test - 1 #to have 0-9 instead of 1-10\n",
    "number_of_images = labels_test.shape[0]\n",
    "data_test_resized = np.resize(data_test.transpose(),(number_of_images,300,300,3))\n",
    "\n",
    "#load\n",
    "model_new = tf.keras.models.load_model('final_model.h5')\n",
    "\n",
    "predictions = model_new.predict(data_test_resized)\n",
    "scores_cnn = tf.nn.softmax(predictions)\n",
    "scores_cnn_np = np.array(scores_cnn)"
   ]
  },
  {
   "cell_type": "code",
   "execution_count": 23,
   "metadata": {},
   "outputs": [
    {
     "name": "stdout",
     "output_type": "stream",
     "text": [
      "[[9.9079543e-01 9.1863545e-03 5.1192855e-14 ... 1.7908429e-05\n",
      "  3.6165286e-11 6.2105220e-13]\n",
      " [6.6515387e-12 8.3858591e-09 9.5687491e-10 ... 1.9841862e-06\n",
      "  1.2398922e-10 2.7879628e-06]\n",
      " [3.1756457e-12 2.6104717e-12 1.0230800e-10 ... 1.1725881e-06\n",
      "  1.8123186e-09 5.4435304e-06]\n",
      " ...\n",
      " [4.8206741e-15 6.8168629e-14 4.4090747e-08 ... 2.5778425e-07\n",
      "  8.9761741e-08 1.9176966e-11]\n",
      " [4.0633331e-05 9.9991417e-01 2.8218333e-06 ... 1.8134955e-05\n",
      "  2.1393196e-05 5.7280893e-08]\n",
      " [7.7930008e-06 6.1542792e-08 9.9760121e-01 ... 2.6216949e-04\n",
      "  2.1064575e-03 6.0389903e-07]]\n",
      "[[302   2   2   0   1   1   0   3   1   0]\n",
      " [  0 307   0   1   0   1   2   7   6   1]\n",
      " [  0   2 298   0   0   1   0   1   5   1]\n",
      " [  0   1   0 304   0   0   0   2   0   0]\n",
      " [  0   1   1   3 304   0   0   0   0   0]\n",
      " [  0   0   2   0   0 304   0   5   1   2]\n",
      " [  2   0   0   0   0   2 313   0   0   0]\n",
      " [  2   2   2   3   0   1   0 298   2   1]\n",
      " [  0   2   0   0   0   1   0   2 305   0]\n",
      " [  1   0   1   0   0   2   0   9   0 298]]\n",
      "              precision    recall  f1-score   support\n",
      "\n",
      "         1.0       0.98      0.97      0.98       312\n",
      "         2.0       0.97      0.94      0.96       325\n",
      "         3.0       0.97      0.97      0.97       308\n",
      "         4.0       0.98      0.99      0.98       307\n",
      "         5.0       1.00      0.98      0.99       309\n",
      "         6.0       0.97      0.97      0.97       314\n",
      "         7.0       0.99      0.99      0.99       317\n",
      "         8.0       0.91      0.96      0.93       311\n",
      "         9.0       0.95      0.98      0.97       310\n",
      "        10.0       0.98      0.96      0.97       311\n",
      "\n",
      "    accuracy                           0.97      3124\n",
      "   macro avg       0.97      0.97      0.97      3124\n",
      "weighted avg       0.97      0.97      0.97      3124\n",
      "\n"
     ]
    }
   ],
   "source": [
    "#prediciting the classifications\n",
    "final_scores = scores_cnn_np\n",
    "print(final_scores)\n",
    "num_pred = final_scores.shape[0]\n",
    "final_predictions = np.zeros(num_pred)\n",
    "#final_scores.shape\n",
    "for i in range(num_pred):\n",
    "    index = np.where(final_scores[i,:] == np.amax(final_scores[i,:]))\n",
    "    final_predictions[i] = index[0] + 1\n",
    "    \n",
    "#final_predictions\n",
    "\n",
    "conf_matrix_boost = confusion_matrix(labels_test, final_predictions)\n",
    "class_report_boost = classification_report(labels_test, final_predictions)\n",
    "print(conf_matrix_boost)\n",
    "print(class_report_boost)"
   ]
  },
  {
   "cell_type": "code",
   "execution_count": null,
   "metadata": {},
   "outputs": [],
   "source": []
  }
 ],
 "metadata": {
  "kernelspec": {
   "display_name": "Python 3 (ipykernel)",
   "language": "python",
   "name": "python3"
  },
  "language_info": {
   "codemirror_mode": {
    "name": "ipython",
    "version": 3
   },
   "file_extension": ".py",
   "mimetype": "text/x-python",
   "name": "python",
   "nbconvert_exporter": "python",
   "pygments_lexer": "ipython3",
   "version": "3.8.1"
  }
 },
 "nbformat": 4,
 "nbformat_minor": 5
}
