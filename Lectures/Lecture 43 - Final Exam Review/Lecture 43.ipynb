{
 "cells": [
  {
   "cell_type": "markdown",
   "id": "7fd4ffd0",
   "metadata": {},
   "source": [
    "**<h1 align=\"center\"><font color=blue> Course Evaluations</font></h1>**\n",
    "\n",
    "The final course evaluations are extremely valuable. They are used in (i) improvement of the course, (ii) understanding (and improve) the course impact in students' education as voiced by students, (iii) promotion packages, (iv) performance evaluation, (v) College/University national standings.\n",
    "\n",
    "Please feel out the course evaluations! Evaluations are due **Friday, December 10**. \n",
    "\n",
    "* https://ufl.bluera.com/ufl/"
   ]
  },
  {
   "cell_type": "markdown",
   "id": "32651c07",
   "metadata": {},
   "source": [
    "___"
   ]
  },
  {
   "cell_type": "markdown",
   "id": "86c8d40d",
   "metadata": {},
   "source": [
    "**<h1 align=\"center\"><font color=orange> Final Exam In-Person vs Online</font></h1>**\n",
    "\n",
    "The final exam for EEL3850 is scheduled for **Wednesday, December 15 @ 3:00 pm - 5:30 pm**.\n",
    "\n",
    "The exam will be offered in-person or online. Please select which modality you prefer to take the exam on Wedesnday December 15:\n",
    "\n",
    "* https://ufl.instructure.com/courses/435230/quizzes/1053637"
   ]
  },
  {
   "cell_type": "markdown",
   "id": "a5d52438",
   "metadata": {},
   "source": [
    "___"
   ]
  },
  {
   "cell_type": "markdown",
   "id": "48be82b9",
   "metadata": {},
   "source": [
    "**<h1 align=\"center\"><font color=green> Office Hours</font></h1>**\n",
    "\n",
    "For the rest of this week, I will be offering my usual office hours tomorrow 12/09 (10am).\n",
    "\n",
    "* If you want to meet next week, please send me an email so we can schedule a time."
   ]
  },
  {
   "cell_type": "markdown",
   "id": "2287ef48",
   "metadata": {},
   "source": [
    "___"
   ]
  },
  {
   "cell_type": "markdown",
   "id": "bd06e816",
   "metadata": {},
   "source": [
    "# Lecture 43 - Final Exam Review"
   ]
  },
  {
   "cell_type": "markdown",
   "id": "76fd008f",
   "metadata": {},
   "source": [
    "* You are allowed 1-page letter-sized front and back of formulas (handwritten or typed)\n",
    "* You are allowed scientific calculator\n",
    "* Closed book, closed notes\n",
    "\n",
    "Please do not include:\n",
    "* pseudo-code, solved exercises or written definitions in your formula sheet\n",
    "\n",
    "**<font color=orange>TOTAL TIME:</font> 2 hours + 15 minutes**\n",
    "\n",
    "**<font color=red>Communications between students or anyone else during the exam is considered cheating. Turn off all Slack notifications and other communications channels!</font>**"
   ]
  },
  {
   "cell_type": "markdown",
   "id": "0d270b21",
   "metadata": {},
   "source": [
    "## Final Exam Coverage\n",
    "\n",
    "The midterm exam will cover all materials from Lecture 19-42. These include:\n",
    "\n",
    "1. **Non-parametric Learning <font color=blue>(Lectures 19-25)</font>**\n",
    "    * Clustering\n",
    "    * K-Means Clustering\n",
    "    * Cluster validity metrics\n",
    "    * Probabilitic classifier\n",
    "    * k-Nearest Neighbors\n",
    "    * Weighted k-NN\n",
    "    \n",
    "2. **Discriminative Classification <font color=blue>(Lectures 25-30)</font>**\n",
    "    * Discriminative vs Probabilistic Classification\n",
    "    * Fisher's (Linear) Discriminant Analysis (LDA)\n",
    "    * The Perceptron Algorithm\n",
    "    * Logistic Regression\n",
    "    \n",
    "3. **Kernel Machine <font color=blue>(Lectures 31-33)</font>**\n",
    "    * Kernel Machines\n",
    "    * RBF kernel\n",
    "        * Infitinite-dimenional feature space\n",
    "    * Kernel trick\n",
    "    * Lagrange optimization\n",
    "    * Hard-margin Support Vector Machine (SVM)\n",
    "    * Slack variables\n",
    "    * Soft-Margin SVM\n",
    "    \n",
    "4. **Artificial Neural Networks<font color=blue>(Lectures 34-37)</font>**\n",
    "    * Multi-Layer Perceptron (MLP)\n",
    "    * Universal Approximation Theorem\n",
    "    * Activation functions: ReLU, leaky ReLu, sigmoid, tanh, softmax, linear\n",
    "    * Backpropagation\n",
    "    * Vanishing gradients\n",
    "    * Exploding gradients\n",
    "    * Learning curves\n",
    "    * Network architecture\n",
    "    * Output Encoding: integer, one-hot, binary\n",
    "    * Optimization Techniques with Gradient Descent\n",
    "        * Accelerated Gradient Descent strategies: momentum term\n",
    "        * Adaptive Learning Rate: Adam\n",
    "    * Online vs Batch vs Mini-Batch learning\n",
    "    * Stopping Criteria\n",
    "    * Data scaling/normalization\n",
    "    * Network pruning\n",
    "    * Ensemble Learning: boosting, bagging\n",
    "    * Dropout\n",
    "    * Batch normalization\n",
    "\n",
    "5. **Deep Learning <font color=blue>(Lectures 38-39)</font>**\n",
    "    * Deep Learning (DL)\n",
    "    * DL vs ML\n",
    "    * Convolutional Neural Networks (CNNs)\n",
    "    * Pooling layers, stride\n",
    "    * Convolutional layers\n",
    "    \n",
    "6. **Dimensionality Reduction and Manifold Learning <font color=blue>(Lectures 40-42)</font>**\n",
    "    * Curse of Dimensionality\n",
    "    * Principal Component Analysis (PCA)\n",
    "    * PCA vs LDA\n",
    "    * Kernel PCA\n",
    "    * Manifold Learning\n",
    "    * Multi-Dimensional Scaling (MDS)\n",
    "    * ISOMAP\n",
    "    * Locally Linear Embedding (LLE)"
   ]
  },
  {
   "cell_type": "markdown",
   "id": "01fcd05d",
   "metadata": {},
   "source": [
    "## How to prepare for exam\n",
    "\n",
    "**This is a suggestion only.**\n",
    "\n",
    "1. Review/read Notebooks from lectures 19-42.\n",
    "\n",
    "2. Create your formula sheet. **Do not include pseudo-code or solutions to examples in homework assignments.** In case of doubt, confirm with me if your formula sheet meets the requirements.\n",
    "\n",
    "3. Review/redo exercises from Part 1 of HW3, HW4 and HW5. \n",
    "\n",
    "4. Review/redo exercises from SA4 and SA6.\n",
    "\n",
    "5. Review discussion boards 3, 4 and 5.\n",
    "\n",
    "6. Solve practice exam. Time yourself."
   ]
  },
  {
   "cell_type": "markdown",
   "id": "d677ed01",
   "metadata": {},
   "source": [
    "___"
   ]
  },
  {
   "cell_type": "markdown",
   "id": "a42c946c",
   "metadata": {},
   "source": [
    "**<h1 align=\"center\">Q & A</h1>**"
   ]
  },
  {
   "cell_type": "markdown",
   "id": "d4f428f6",
   "metadata": {},
   "source": [
    "___"
   ]
  },
  {
   "cell_type": "markdown",
   "id": "f8e86e80",
   "metadata": {},
   "source": [
    "## Final Project - Deliverables\n",
    "\n",
    "## 1. Code\n",
    "\n",
    "Your code submission should include 2 main functions: training function and a test function.\n",
    "\n",
    "**Training Function**\n",
    "\n",
    "* The inputs to this function may vary, but it should at least have input variables such as training data and training labels.\n",
    "\n",
    "* Include **all** parameters used to train the final model, including learning rate, pre-processing steps, and any other methodology/parameter choices.\n",
    "\n",
    "* Comment your code. This will make it easier to read and in case I need to change/test any parameter.\n",
    "\n",
    "* Your training function should save the model\n",
    "    * Instructions with Keras: https://www.tensorflow.org/guide/keras/save_and_serialize\n",
    "    * Instruction with PyTorch: https://pytorch.org/tutorials/beginner/saving_loading_models.html\n",
    "    \n",
    "* **Do not forget to push this file to your GitHub repository**\n",
    "\n",
    "\n",
    "**Test Function**\n",
    "\n",
    "* The inputs to this function may vary, at least it should include the test samples and labels (in the same format, i.e., ```numpy``` arrays).\n",
    "\n",
    "* Your test function **should not** train the model from scratch -- you will loose points if this happens\n",
    "\n",
    "* Instead, your test function will load the model you saved during training and evaluate performance in the provided test samples.\n",
    "\n",
    "* Comment your code. This will make it easier to read and in case I need to change/test any parameter.\n",
    "\n",
    "* If you wish, you can create a separate test function for the extra credit competition.\n",
    "\n",
    "**READ ME file**\n",
    "\n",
    "* Edit the READ-ME of your GitHub group repository.\n",
    "\n",
    "* It should include all dependencies (libraries) that your code uses.\n",
    "\n",
    "* It should indicate which file I should use to test your model on the test data.\n",
    "\n",
    "* It should include a brief description of how to use your function.\n",
    "    * Example for test function: step 1: load data - give example; step 2: pass it to test function - give example; step 3: describe what the expected output should look like.\n",
    "    \n",
    "    \n",
    "**Miscellaneous**\n",
    "\n",
    "* Your repository may contain other files."
   ]
  },
  {
   "cell_type": "markdown",
   "id": "bafcb925",
   "metadata": {},
   "source": [
    "## 2. Report\n",
    "\n",
    "* **Format:** IEEE transactions (single spaced, double column). Use template available [here](https://www.ieee.org/conferences/publishing/templates.html).\n",
    "* **Maximum number of pages:** 4\n",
    "\n",
    "* **Sections:**\n",
    "    1. **Abstract.** A summary description of the contents of the report and your findings.\n",
    "    2. **Introduction.** Overview of your experiment/s and a literature review. For the literature review, include any references to any relevant papers for your experiment/s. So, whatever you decide to do, search the ACM and IEEE (or other) literature for relevant papers to read and refer to.\n",
    "    3. **Implementation.** Describe and outline any specific implementation details for your project. A reader should be able to recreate your implementation and experiments from your project report. If you participate in the extra credit contest, be sure to describe the methodology on how you will identify emotional tones or other sounds that were not in the training data.\n",
    "    4. **Experiments.** Carefully describe your experiments with the training data set and any data augmentation set you constructed or existing data sets. Include a description for the goal of each experiment and experimental findings. This is the bulk of what you will be graded on - if your experimental design is not sound or your experiments do not make sense, you will lose points.\n",
    "    5. **Conclusions.** Describe any conclusions or things you learned from the project. Your conclusions must follow from what you did. Do not copy something out of a paper or say something that has no experimental support in the Experiments section.\n",
    "    6. **References.** Listing of all references in IEEE bibliography format.\n",
    "    \n",
    "    \n",
    "* Examples of experiments: testing whether adding more data improves performance, testing different parameter settings, testing different normalization techniques, pre-processing and feature engineering steps, data augmentation schemes, and many more.\n",
    "    * The experiments section is the *bulk* of your work.\n",
    "* Your conclusions should be based on the experiments section."
   ]
  },
  {
   "cell_type": "markdown",
   "id": "9917a649",
   "metadata": {},
   "source": [
    "## 3. Self- & Peer-Evaluations\n",
    "\n",
    "Do not worry about sending this form until your project is completed and submitted.\n",
    "\n",
    "Evaluate yourself and your teammates fairly. I expect a full contributing member to obtain an average of 10. \n",
    "\n",
    "* https://ufl.instructure.com/courses/435230/assignments/4907191\n",
    "\n",
    "* Due: Saturday, December 11 -- day after project submission"
   ]
  },
  {
   "cell_type": "markdown",
   "id": "1bdd4bd3",
   "metadata": {},
   "source": [
    "## 4. Grading\n",
    "\n",
    "1. **25% Implementation**\n",
    "\n",
    "2. **25% Accuracy** on *easy* test set. Full points on this component will be obtained if you correctly classify 90% of the blind test data or have a classification accuracy rate greater than the average classification accuracy rate of the class (whichever is lower).\n",
    "\n",
    "3. **40% project report**\n",
    "\n",
    "4. **10% data collection** (already completed)\n",
    "\n",
    "**Final Grade**: \n",
    "$$p \\cdot( 0.25\\times\\text{implementation} + 0.25\\times\\text{performance} + 0.4\\times\\text{report} + 0.1\\times\\text{data collection})$$\n",
    "where $p$ is the average percentage from the self- and peer-evaluation form.    "
   ]
  },
  {
   "cell_type": "markdown",
   "id": "1649f532",
   "metadata": {},
   "source": [
    "___"
   ]
  },
  {
   "cell_type": "markdown",
   "id": "31a8572c",
   "metadata": {},
   "source": [
    "## Final Project - Implementation Discussion\n",
    "\n",
    "### 1. Test Data Sets\n",
    "\n",
    "You should expect both the *easy* and *hard* test sets to have the same format as the training data. In particular, I will provide you with:\n",
    "\n",
    "**Easy Test Set**: holdout samples collected from the class. \n",
    "\n",
    "* Composed of natural images for all 10 labels\n",
    "* You will be given the files: \"data_test.npy\" and \"labels_test.npy\".\n",
    "\n",
    "**Hard Test Set**: contains samples collected from the class + other samples of same classes + unknown class samples.\n",
    "* Contains all 10 classes plus an unknown class (label -1).\n",
    "\n",
    "You can perform any data augmentation you'd like and add more data by either collecting new data or using publicly available data.\n",
    "\n",
    "\n",
    "### 2. Implementations\n",
    "\n",
    "* Before presenting data to a model (specially ANNs), shuffle it to avoid catastrophic forgetting\n",
    "\n",
    "* Apply the **same** transformations used during training to the test set\n",
    "    * Your test function should automatically do this.\n",
    "    * You can save any standardization/normalization values used in training, linear transformation (e.g. with PCA)\n",
    "\n",
    "* How to recognize a new class? \n",
    "    * If your output layer is a one-hot encoding of the class labels (9-dimensional output), you can make use of softmax activation function\n",
    "\n",
    "* Save and push trained model to your repository"
   ]
  },
  {
   "cell_type": "markdown",
   "id": "148abeb6",
   "metadata": {},
   "source": [
    "___"
   ]
  },
  {
   "cell_type": "markdown",
   "id": "bc0876aa",
   "metadata": {},
   "source": [
    "**<h1 align=\"center\"><font color=orange> Good luck on your exams</font></h1>**\n",
    "\n",
    "**<h1 align=\"center\"><font color=blue> Go Gators!</font></h1>**"
   ]
  }
 ],
 "metadata": {
  "kernelspec": {
   "display_name": "Python 3",
   "language": "python",
   "name": "python3"
  },
  "language_info": {
   "codemirror_mode": {
    "name": "ipython",
    "version": 3
   },
   "file_extension": ".py",
   "mimetype": "text/x-python",
   "name": "python",
   "nbconvert_exporter": "python",
   "pygments_lexer": "ipython3",
   "version": "3.8.8"
  },
  "latex_envs": {
   "LaTeX_envs_menu_present": true,
   "autoclose": false,
   "autocomplete": true,
   "bibliofile": "biblio.bib",
   "cite_by": "apalike",
   "current_citInitial": 1,
   "eqLabelWithNumbers": true,
   "eqNumInitial": 1,
   "hotkeys": {
    "equation": "Ctrl-E",
    "itemize": "Ctrl-I"
   },
   "labels_anchors": false,
   "latex_user_defs": false,
   "report_style_numbering": false,
   "user_envs_cfg": false
  },
  "varInspector": {
   "cols": {
    "lenName": 16,
    "lenType": 16,
    "lenVar": 40
   },
   "kernels_config": {
    "python": {
     "delete_cmd_postfix": "",
     "delete_cmd_prefix": "del ",
     "library": "var_list.py",
     "varRefreshCmd": "print(var_dic_list())"
    },
    "r": {
     "delete_cmd_postfix": ") ",
     "delete_cmd_prefix": "rm(",
     "library": "var_list.r",
     "varRefreshCmd": "cat(var_dic_list()) "
    }
   },
   "types_to_exclude": [
    "module",
    "function",
    "builtin_function_or_method",
    "instance",
    "_Feature"
   ],
   "window_display": false
  }
 },
 "nbformat": 4,
 "nbformat_minor": 5
}
