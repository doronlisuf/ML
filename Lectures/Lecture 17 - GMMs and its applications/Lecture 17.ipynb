{
 "cells": [
  {
   "cell_type": "markdown",
   "metadata": {},
   "source": [
    "# Lecture 17 - Gaussian Mixture Models"
   ]
  },
  {
   "cell_type": "code",
   "execution_count": null,
   "metadata": {},
   "outputs": [],
   "source": [
    "from scipy.stats import multivariate_normal\n",
    "import numpy as np\n",
    "import numpy.random as npr\n",
    "\n",
    "import matplotlib.pyplot as plt\n",
    "%matplotlib inline\n",
    "plt.style.use('bmh')"
   ]
  },
  {
   "cell_type": "markdown",
   "metadata": {},
   "source": [
    "# Gaussian Mixture Models\n",
    "\n",
    "A **Gaussian Mixture Model** or **GMM** is a probabilistic model that assumes a data likelihood to be a weighted sum of Gaussian distributions with unknown parameters.\n",
    "\n",
    "$$p(\\mathbf{x}|\\Theta) = \\sum_{k=1}^K \\pi_k N(\\mathbf{x}|\\mathbf{\\mu}_k,\\Sigma_k)$$\n",
    "\n",
    "where $\\Theta=\\{\\pi_k, \\mu_k, \\Sigma_k\\}_{k=1}^K$, $0 \\leq \\pi_k \\leq 1$ and $\\sum_{k=1}^K \\pi_k = 1$.\n",
    "\n",
    "* When standard distributions (such as Gamma, Exponential, Gaussian, etc.) are not sufficient to characterize a *complicated* data likelihood, we can instead characterize it as the sum of weighted Gaussians distributions\n",
    "\n",
    "* Another way that GMMs are most commonly used for is to partition data in subgroups"
   ]
  },
  {
   "cell_type": "markdown",
   "metadata": {},
   "source": [
    "## Data Likelihood as a Gaussian Mixture Model"
   ]
  },
  {
   "cell_type": "markdown",
   "metadata": {},
   "source": [
    "* GMMs can be used to learn a complex distribution that represent a dataset. Thus, it can be used within the probabilistic generative classifier framework to model complex data likelihoods.\n",
    "\n",
    "* GMMs are also commonly used for **clustering**. Here a GMM is fit to a dataset with the goal of partitioning it into clusters."
   ]
  },
  {
   "cell_type": "markdown",
   "metadata": {},
   "source": [
    "**<font color=blue>Step 1</font>**\n",
    "\n",
    "Describe the **observed data likelihood**, $\\mathcal{L}^o$. As seen last class:\n",
    "\n",
    "$$\\mathcal{L}^0 = \\prod_{i=1}^N \\sum_{k=1}^K \\pi_k \\mathcal{N}(x_i|\\mu_k, \\Sigma_k)$$"
   ]
  },
  {
   "cell_type": "markdown",
   "metadata": {},
   "source": [
    "**<font color=blue>Step 2</font>**\n",
    "\n",
    "Describe the log-likelihood function:\n",
    "\n",
    "\\begin{align}\n",
    "\\mathcal{L} &= \\ln\\left(\\prod_{i=1}^N \\sum_{k=1}^K \\pi_k \\mathcal{N}(x_i|\\mu_k, \\Sigma_k)\\right)\\\\\n",
    "\\iff \\mathcal{L} &= \\sum_{i=1}^N \\ln \\left( \\sum_{k=1}^K \\pi_k \\mathcal{N}(x_i|\\mu_k, \\Sigma_k) \\right)\n",
    "\\end{align}"
   ]
  },
  {
   "cell_type": "markdown",
   "metadata": {},
   "source": [
    "**<font color=blue>Step 3</font>**\n",
    "\n",
    "Optimize for the parameters $\\Theta=\\{\\pi_k, \\mu_k,\\Sigma_k\\}_{k=1}^K$\n",
    "\n",
    "$$\\frac{\\partial \\mathcal{L}}{\\partial \\mu_k} = 0, \\frac{\\partial \\mathcal{L}}{\\partial \\Sigma_k} = 0, \\text{ and }, \\frac{\\partial \\mathcal{L}}{\\partial \\pi_k} = 0$$\n",
    "\n",
    "but this is a difficult problem to maximize!\n",
    "\n",
    "* A common approach for estimating the parameters of a GMM given a data set is by using the **Expectation-Maximization (EM) algorithm**."
   ]
  },
  {
   "cell_type": "markdown",
   "metadata": {},
   "source": [
    "### Applications of (Gaussian) Mixture Models\n",
    "\n",
    "* **Data Representation and Inference**. Represent *any* data set using a complex distribution. You may want to describe your data with a distribution but the data does not fit into a standard form (e.g. Gamma, Gaussian, Exponential, etc.), then you can use a (Gaussian) Mixture Model to describe the data. Having a representation of your data in a distribution form is a very powerful tool that, other than having a model of the data, allows you infer about new samples, make predictions, etc.\n",
    "    * Having a parametric form for a real world model, allows us to apply it in simulation and use it for designing/optimizing decision-making solutions.\n",
    "\n",
    "* **Clustering.** Partition the data into groups. Note that in the GMMs formulation we did not add the concept of labels/targets. So GMMs are an **unsupervised learning** model. It represents the data with a very complex likelihood and then we can decompose that likelihood to partition the data into categories. This is also known as **clustering**.\n",
    "    * Commonly used in financial institutions to learn different group of individuals with specific characteristics of interest."
   ]
  },
  {
   "cell_type": "markdown",
   "metadata": {},
   "source": [
    "# Expectation-Maximization (EM) algorithm"
   ]
  },
  {
   "cell_type": "markdown",
   "metadata": {},
   "source": [
    "## Hidden Latent Variables"
   ]
  },
  {
   "cell_type": "markdown",
   "metadata": {},
   "source": [
    "The **Expectation-Maximization** or **EM** algorithm is used to find the Maximum Likelihood Estimators (MLE) (or MAP estimators) for model parameters when data is incomplete, has missing data points, or has unobserved (hidden) latent variables (such as the case of censored data). \n",
    "\n",
    "* For all of these cases, the MLE optimization is very difficult to obtain by simply taking the derivative and solve for the parameters.\n",
    "\n",
    "**<font color=orange>Step 1</font>**\n",
    "The first step of EM is to characterized the observed likelihood $\\mathcal{L}^0$.\n",
    "\n",
    "**<font color=orange>Step 2</font>**\n",
    "Introduce *hidden latent variables* (also referred to as *hidden variables*) that simplify the observed data likelihood, $\\mathcal{L}$.\n",
    "\n",
    "**<font color=orange>Step 3</font>**\n",
    "Use the hidden variables to define the *complete likelihood* $\\mathcal{L}^c$.\n",
    "\n",
    "With this, we build the EM optimization function:\n",
    "\n",
    "$$\\arg_{z,\\Theta} \\max Q(\\Theta,\\Theta^t)$$\n",
    "\n",
    "where \n",
    "\n",
    "$$Q(\\Theta,\\Theta^t) = E[\\ln(\\mathcal{L^c})|X,\\Theta^t]$$\n",
    "\n",
    "$E[\\bullet]$ denotes expected value and $t$ denotes *iteration*. At $t=0$, we start with random values for the parameters $\\Theta$."
   ]
  },
  {
   "cell_type": "markdown",
   "metadata": {},
   "source": [
    "Once we have this, the EM algorithm will alternate between E-step and M-step:\n",
    "\n",
    "1. **<font color=blue>E-step</font> (Expectation step)** Estimate the hidden variables. While holding $\\Theta$ fixed, find the variables $z$ that maximize $E[\\ln(\\mathcal{L^c})]$.\n",
    "\n",
    "2. **<font color=blue>M-step</font> (Maximization step)** Estimate the parameters of the complete data likelihood $\\mathcal{L}^c$. While holding the newly found variables $z$, find the best values for the parameters $\\Theta$ that maximize $E[\\ln(\\mathcal{L^c})]$.\n",
    "\n",
    "and it keeps iterating between E-step and M-step until convergence or until a certain number of iterations is reached.\n",
    "\n",
    "* EM is an **alternating optimization** algorithm, as it alternates between E-step and M-step in order to find the hidden variables and best set of parameters, respectively.\n",
    "    * In the first step ($t=0$), EM will start with a random guess for the value of the parameters $\\Theta$ in order to perform the E-step.\n",
    "    * What is the problem with alternating optimization algorithms in general?\n",
    "\n",
    "* EM is a general algorithm that can be applied to a variety of problems (not just the examples we are learning today). \n",
    "\n",
    "* EM is heavily tied with Maximum Likelihood Estimation (MLE). It is commonly used to simplify difficult MLE problems.\n",
    "    * It was originally introduced by Dempster, Laird, and Rubin in 1977 in a paper called \"Maximum Likelihood from Incomplete Data via the EM Algorithm\"."
   ]
  },
  {
   "cell_type": "markdown",
   "metadata": {},
   "source": [
    "## Optimizing GMM with the EM Algorithm"
   ]
  },
  {
   "cell_type": "markdown",
   "metadata": {},
   "source": [
    "The observed data likelihood for a Gaussian Mixture Model (GMM) is\n",
    "\n",
    "$$\\mathcal{L}^0 = \\prod_{i=1}^N \\sum_{k=1}^K \\pi_k \\mathcal{N}(x_i|\\mu_k, \\Sigma_k)$$"
   ]
  },
  {
   "cell_type": "markdown",
   "metadata": {},
   "source": [
    "**What hidden variables can we add to simplify this problem?**\n",
    "\n",
    "* In this example, a hidden variable can be the label of the Gaussian from which $x_i$ was drawn from.\n",
    "\n",
    "$$z_i: \\text{label of the Gaussian from which $x_i$ was drawn from}$$\n",
    "\n",
    "If we know $z_i$, then for each data point we know which Gaussian it was drawn from along with its respective parameter $\\mu_{z_i}$ and $\\Sigma_{z_i}$ and its respective weight $\\pi_{z_i}$. So, each data point would had been drawn from $\\pi_{z_i}N(x_i|\\mu_{z_i}, \\Sigma_{z_i})$. \n",
    "\n",
    "Then, assuming we have $\\{z_i\\}_{i=1}^N$, we can write the complete data likelihood:\n",
    "\n",
    "$$\\mathcal{L}^c = \\prod_{i=1}^N \\pi_{z_i}\\mathcal{N}(x_i|\\mathbf{\\mu}_{z_i},\\Sigma_{z_i})$$"
   ]
  },
  {
   "cell_type": "markdown",
   "metadata": {},
   "source": [
    "Now we can iterate between the **E-step** and **M-step** of the EM algorithm until we find convergence or we have reached a threshold for a number of iterations."
   ]
  },
  {
   "cell_type": "markdown",
   "metadata": {},
   "source": [
    "# Optimization Function\n",
    "\n",
    "We can now extent the optimization function:\n",
    "\n",
    "\\begin{align}\n",
    "Q(\\Theta,\\Theta^t) &= E[\\ln(\\mathcal{L^c})|X,\\Theta^t] \\\\\n",
    "&= \\sum_{\\mathbf{z}} \\ln(\\mathcal{L^c}) P(z|X,\\Theta^t) \\\\\n",
    "&= \\sum_{z_i=1}^K \\ln(\\mathcal{L^c}) P(\\mathbf{z}_i|\\mathbf{x}_i,\\Theta^t)\n",
    "\\end{align}"
   ]
  },
  {
   "cell_type": "markdown",
   "metadata": {},
   "source": [
    "**<font color=blue>E-step</font>**\n",
    "\n",
    "In order to complete the E-STEP, we need to know how to compute $P(\\mathbf{z}_i|\\mathbf{x}_i,\\Theta^t)$. \n",
    "\n",
    "* This is the posterior probability of the label $z_i$ for data sample $x_i$.\n",
    "\n",
    "* So we want to assign the label $z_i$ to the data sample $x_i$ for which the posterior probability is maximized (just like in Naive Bayes classification).\n",
    "\n",
    "Recall from **Bayes' Rule**: for two non-empty events $A$ and $B$, $P(A|B) = \\frac{P(B|A)P(A)}{P(B)}$. We can use this theorem to rewrite $P(\\mathbf{z}_i|\\mathbf{x}_i,\\Theta^t)$:\n",
    "\n",
    "\\begin{align}\n",
    "P(\\mathbf{z}_i|\\mathbf{x}_i,\\Theta^t) &= \\frac{P(\\mathbf{x}_i|\\mathbf{z}_i,\\Theta^t)P(\\mathbf{z}_i|\\Theta^t)}{P(\\mathbf{x}_i|\\Theta^t)} \\\\\n",
    "&= \\frac{P(\\mathbf{x}_i|\\mathbf{\\mu}_{z_i}^t, \\Sigma_{z_i}^t) \\pi_{z_i}^t}{\\sum_{z_i=1}^K \\pi_{z_i}^t P(\\mathbf{x}_i|\\mathbf{\\mu}_{z_i}^t, \\Sigma_{z_i}^t)} \\\\\n",
    "&= C_{ik}\n",
    "\\end{align}\n",
    "\n",
    "This is called the **memberships** or **responsabilities** matrix, which contains the label assignment for point $x_i$ in each Gaussian component $k.\n",
    "\n",
    "* In the E-STEP we estimate the membership matrix $C_{ik} = P(\\mathbf{z}_i|\\mathbf{x}_i,\\Theta^t)$. This matrix is of size $N\\times K$ that contains the likelihoods of each point belonging in each one of the Gaussians.\n",
    "\n",
    "* A good check when implementing this matrix is to make sure that the sum of the rows are equal to 1!\n",
    "\n",
    "**This completes the Expectation step (E-step) in EM**. Now, we derive the update equations for the parameters $\\Theta=\\{\\pi_k,\\mu_k,\\Sigma_k\\}_{k=1}^K$  in the Maximization step."
   ]
  },
  {
   "cell_type": "markdown",
   "metadata": {},
   "source": [
    "**<font color=blue>M-step</font>**\n",
    "\n",
    "In the **M-step**, we are going to use (and hold constant) the membership matrix $C_{ik}$ we learned from the E-step.\n",
    "\n",
    "We will know estimate the new set of parameters $\\Theta=\\{\\pi_k,\\mu_k,\\Sigma_k\\}_{k=1}^K$ that maximize $Q(\\Theta,\\Theta^t)$, i.e.\n",
    "\n",
    "$$\\arg_{\\mathbf{\\Theta}}\\max Q(\\Theta,\\Theta^t)$$\n",
    "\n",
    "Without loss of generality, let's assume that the covariance matrices are isotropic: $\\Sigma_k = \\sigma_k^2\\mathbf{I}$, then we can rewrite it as:\n",
    "\n",
    "\\begin{align}\n",
    "Q(\\Theta, \\Theta^t) &= \\sum_{z_i=1}^K \\ln(\\mathcal{L^c}) P(\\mathbf{z}_i|\\mathbf{x}_i,\\Theta^t)\\\\\n",
    "&= \\sum_{z_i=1}^K \\ln\\left(\\prod_{i=1}^N \\pi_{z_i}\\mathcal{N}(x_i|\\mathbf{\\mu}_{z_i},\\Sigma_{z_i})\\right) P(\\mathbf{z}_i|\\mathbf{x}_i,\\Theta^t) \\\\\n",
    "&= \\sum_{k=1}^K \\ln\\left(\\prod_{i=1}^N \\pi_k\\mathcal{N}(x_i|\\mathbf{\\mu}_k,\\Sigma_k)\\right) P(\\mathbf{z}_i =k|\\mathbf{x}_i,\\Theta^t) \\\\\n",
    "&= \\sum_{k=1}^K \\sum_{i=1}^N \\left(\\ln(\\pi_k) + \\ln\\left(\\mathcal{N}(x_i|\\mathbf{\\mu}_k,\\Sigma_k)\\right) \\right) C_{ik}\\\\\n",
    "&= \\sum_{k=1}^K \\sum_{i=1}^N \\left( \\ln(\\pi_k) -\\frac{1}{2}\\ln(2\\pi) -\\frac{1}{2}\\ln(\\sigma_k^2) - \\frac{1}{2\\sigma^2_k}\\Vert \\mathbf{x}_i -\\mu_k\\Vert_2^2 \\right) C_{ik}\n",
    "\\end{align}\n",
    "\n",
    "So, now we want to solve:\n",
    "\n",
    "\\begin{align}\n",
    "\\frac{\\partial Q(\\Theta,\\Theta^t)}{\\partial \\mu_k} &= 0 \\\\\n",
    "\\frac{\\partial Q(\\Theta,\\Theta^t)}{\\partial \\sigma_k^2} &= 0 \\\\\n",
    "\\frac{\\partial Q(\\Theta,\\Theta^t)}{\\partial \\pi_k} &= 0 \n",
    "\\end{align}"
   ]
  },
  {
   "cell_type": "markdown",
   "metadata": {},
   "source": [
    "### Solving for $\\mu_k$\n",
    "\n",
    "\\begin{align}\n",
    "0 &= \\frac{\\partial Q(\\Theta,\\Theta^t)}{\\partial \\mu_k} \\\\\n",
    "0 &= \\sum_{i=1}^N \\left(\\frac{1}{\\sigma^2_k}(\\mathbf{x}_i -\\mu_k)\\right) C_{ik}\\\\\n",
    "0 &= \\sum_{i=1}^N (\\mathbf{x}_i -\\mu_k) C_{ik} \\\\\n",
    "0 &= \\sum_{i=1}^N \\mathbf{x}_i C_{ik} - \\sum_{i=1}^N \\mu_k C_{ik} \\\\\n",
    "\\sum_{i=1}^N \\mathbf{x}_i C_{ik} &= \\mu_k \\sum_{i=1}^N C_{ik} \\\\\n",
    "\\mu_k &= \\frac{\\sum_{i=1}^N \\mathbf{x}_i C_{ik}}{\\sum_{i=1}^N C_{ik}}\n",
    "\\end{align}\n",
    "\n",
    "\n",
    "* We can interpret this as a **weighted mean**, where the weights represent the likelihood of each point belonging to cluster $k$."
   ]
  },
  {
   "cell_type": "markdown",
   "metadata": {},
   "source": [
    "### Solving for $\\sigma_k^2$\n",
    "\n",
    "\\begin{align}\n",
    "0 &= \\frac{\\partial Q(\\Theta,\\Theta^t)}{\\partial \\sigma_k^2} \\\\\n",
    "0 &= \\sum_{i=1}^N \\left( -\\frac{1}{2\\sigma_k^2} + \\frac{2}{(2\\sigma_k^2)^2} \\Vert x_i-\\mu_k\\Vert_2^2 \\right) C_{ik}\\\\\n",
    "\\frac{1}{2\\sigma_k^2}\\sum_{i=1}^N C_{ik} &= \\frac{2}{(2\\sigma_k^2)^2} \\sum_{i=1}^N C_{ik} \\Vert x_i-\\mu_k\\Vert_2^2 \\\\\n",
    "\\sigma_k\\sum_{i=1}^N C_{ik} &= \\sum_{i=1}^N C_{ik} \\Vert x_i-\\mu_k\\Vert_2^2 \\\\\n",
    "\\sigma_k &= \\frac{\\sum_{i=1}^N C_{ik} \\Vert x_i-\\mu_k\\Vert_2^2}{\\sum_{i=1}^N C_{ik}}\n",
    "\\end{align}\n",
    "\n",
    "* Again, assuming that the covariance of each cluster is isotropic, that is, $\\Sigma_k = \\sigma_k^2\\mathbf{I}$.\n",
    "\n",
    "* For the variance, this can be interpreted as how much each data point contributes to the k-th cluster."
   ]
  },
  {
   "cell_type": "markdown",
   "metadata": {},
   "source": [
    "### Solving for $\\pi_k$\n",
    "\n",
    "For $\\pi_k$ we have the contraint that $\\sum_{k=1}^K \\pi_k =1$. Then we need to incorporate it into $Q(\\Theta, \\Theta^t)$ using Lagrange Multipliers.\n",
    "\n",
    "$$Q_{\\pi}(\\Theta,\\Theta^t) = Q(\\Theta,\\Theta^t) - \\lambda \\left(\\sum_{k=1}^K\\pi_k - 1\\right)$$\n",
    "\n",
    "where $\\lambda$ is called the Lagrange multiplier.\n",
    "\n",
    "\\begin{align}\n",
    "0 &= \\frac{\\partial Q_{\\pi}(\\Theta,\\Theta^t)}{\\partial \\pi_k} \\\\\n",
    "0 &= \\sum_{i=1}^N C_{ik} \\frac{1}{\\pi_k} - \\lambda \\\\\n",
    "\\pi_k &= \\frac{\\sum_{i=1}^N C_{ik}}{\\lambda}\n",
    "\\end{align}\n",
    "\n",
    "Since $\\sum_k \\pi_k = 1$, then:\n",
    "\n",
    "\\begin{align}\n",
    "\\sum_{k=1}^K \\pi_k &= 1\\\\\n",
    "\\sum_{k=1}^K \\frac{\\sum_{i=1}^N C_{ik}}{\\lambda} &= 1 \\\\\n",
    "\\lambda &= \\sum_{i=1}^N \\sum_{k=1}^K C_{ik}\n",
    "\\end{align}\n",
    "\n",
    "So:\n",
    "\n",
    "\\begin{align}\n",
    "\\pi_k &= \\frac{\\sum_{i=1}^N C_{ik}}{\\lambda} \\\\\n",
    "\\pi_k &= \\frac{\\sum_{i=1}^N C_{ik}}{\\sum_{i=1}^N \\sum_{k=1}^K C_{ik}} \\\\\n",
    "&= \\frac{\\sum_{i=1}^N C_{ik}}{\\sum_{i=1}^N 1}\\text{, because }C_{ik} = \\sum_{k=1}^K P(z_i = k|x_i,\\Theta^t)\\text{ is a (discrete) distribution}\\\\\n",
    "&= \\frac{\\sum_{i=1}^N C_{ik}}{N}\n",
    "\\end{align}\n",
    "\n",
    "* The $\\pi_k$'s are summing up all its responsabilites over all data points."
   ]
  },
  {
   "cell_type": "markdown",
   "metadata": {},
   "source": [
    "## Implementation - Pseudo-Code\n",
    "\n",
    "We now have everything we need to implement the EM algorithm for Gaussian Mixtures.\n",
    "\n",
    "* The pseudo-code for the algorithm is:"
   ]
  },
  {
   "cell_type": "code",
   "execution_count": 1,
   "metadata": {},
   "outputs": [
    {
     "data": {
      "image/png": "[encoded data removed]",
      "text/plain": [
       "<IPython.core.display.Image object>"
      ]
     },
     "execution_count": 1,
     "metadata": {
      "image/png": {
       "width": 700
      }
     },
     "output_type": "execute_result"
    }
   ],
   "source": [
    "from IPython.display import Image\n",
    "Image('figures/PseudoCode_EMforGMM.png',width=700)"
   ]
  },
  {
   "cell_type": "markdown",
   "metadata": {},
   "source": [
    "## Alternating Optimization\n",
    "\n",
    "* Does the EM algorithm find the **global minima**?\n",
    "\n",
    "* Given a data set with an unknown number of groups/clusters, can you come up with a strategy for determining the \"right\" number of groups?"
   ]
  },
  {
   "cell_type": "markdown",
   "metadata": {},
   "source": [
    "## Simulating Gaussian Mixture Models"
   ]
  },
  {
   "cell_type": "markdown",
   "metadata": {},
   "source": [
    "**<font color=blue>Exercise:</font> In code, how would you draw a sample from a Gaussian Mixture Model? Or from a mixture model in general?**\n",
    "\n",
    "* Note that in a Gaussian Mixture Model we are assuming that each data point $x_i$ was drawn from only one Gaussian. \n",
    "\n",
    "* Each data point $x_i$ has a *hard membership*.\n",
    "\n",
    "* Each Gaussian in the Mixture Model will have its own $0 \\leq \\pi_k \\leq 1$."
   ]
  },
  {
   "cell_type": "markdown",
   "metadata": {},
   "source": [
    "To simulate an event with arbitary probability $P_E$:\n",
    "\n",
    "1. Generate a random number R that is equally likely to be between 0 and 1.\n",
    "\n",
    "2. If $R \\le P_E$, then in the simulation, the event occurs. Otherwise it does not occur."
   ]
  },
  {
   "cell_type": "code",
   "execution_count": null,
   "metadata": {},
   "outputs": [],
   "source": [
    "import numpy.random as npr"
   ]
  },
  {
   "cell_type": "code",
   "execution_count": null,
   "metadata": {},
   "outputs": [],
   "source": [
    "?npr.uniform"
   ]
  },
  {
   "cell_type": "code",
   "execution_count": null,
   "metadata": {},
   "outputs": [],
   "source": [
    "# Example simulation\n",
    "Pe=0.13\n",
    "\n",
    "num_sims=100_000\n",
    "event_count=0\n",
    "for sim in range(num_sims):\n",
    "    \n",
    "    # TO BE FINISHED IN CLASS\n",
    "        \n",
    "print('According to the simulation Pe =~', event_count/num_sims)"
   ]
  },
  {
   "cell_type": "markdown",
   "metadata": {},
   "source": [
    "Let's consider the case where we have 4 Gaussian in the Mixture model with weights $[0.4,0.25,0.25,0.1]$:"
   ]
  },
  {
   "cell_type": "code",
   "execution_count": null,
   "metadata": {},
   "outputs": [],
   "source": [
    "Pis = [.4, .25, .25, .1]\n",
    "\n",
    "plt.bar(range(1,5), Pis)\n",
    "plt.xticks(range(1,5),['$G_1$','$G_2$','$G_3$','$G_4$'])\n",
    "plt.ylabel('Prior Probability \\nfor each Gaussian component');"
   ]
  },
  {
   "cell_type": "markdown",
   "metadata": {},
   "source": [
    "We need to first (randomly) select a Gaussian and then draw a point from it.\n",
    "\n",
    "* How do you select from this set of Gaussians?\n",
    "\n",
    "* We can sum up the $\\pi$'s as we move from left to right and plot the running sums (or cumulative sum), then we can sample a Gaussian using a Uniform random number generator."
   ]
  },
  {
   "cell_type": "code",
   "execution_count": null,
   "metadata": {},
   "outputs": [],
   "source": [
    "plt.bar(range(1,5), np.cumsum(Pis))\n",
    "\n",
    "plt.xticks(range(1,5),['$G_1$','$G_2$','$G_3$','$G_4$'])\n",
    "plt.ylabel('Cumulative Probability');"
   ]
  },
  {
   "cell_type": "code",
   "execution_count": null,
   "metadata": {},
   "outputs": [],
   "source": []
  },
  {
   "cell_type": "code",
   "execution_count": null,
   "metadata": {},
   "outputs": [],
   "source": []
  },
  {
   "cell_type": "code",
   "execution_count": null,
   "metadata": {},
   "outputs": [],
   "source": []
  },
  {
   "cell_type": "markdown",
   "metadata": {},
   "source": [
    "Putting it all together:"
   ]
  },
  {
   "cell_type": "code",
   "execution_count": null,
   "metadata": {},
   "outputs": [],
   "source": [
    "def make_GaussianMixture(N, Means, Sigs, Pis):\n",
    "    X = np.empty((0,Means.shape[1]))\n",
    "    L = np.empty(0)\n",
    "    for i in range(N):\n",
    "        rv = npr.uniform()   # sample uniform RV\n",
    "        GaussianChosen = np.where(rv < np.cumsum(Pis))[0][0]\n",
    "        L = np.append(L, GaussianChosen)\n",
    "        X = np.append(X, np.array([npr.multivariate_normal(Means[GaussianChosen], \n",
    "                                                           np.eye(Means.shape[1])*Sigs[GaussianChosen])]), axis=0)\n",
    "    return X, L"
   ]
  },
  {
   "cell_type": "code",
   "execution_count": null,
   "metadata": {},
   "outputs": [],
   "source": [
    "N = 10_000\n",
    "Means = np.array([[1,1],[0,0],[-.5, 1],[.5, 1.5]])\n",
    "Sigs = [.1, .01, .05, .05]\n",
    "Pis = [.4, .25, .25, .1]\n",
    "\n",
    "X,L = make_GaussianMixture(N, Means, Sigs, Pis)\n",
    "\n",
    "fig = plt.figure(figsize=(14,6))\n",
    "fig.add_subplot(1,2,1)\n",
    "plt.scatter(X[:,0],X[:,1], c=L)\n",
    "plt.title('Synthetic Data with known Gaussians');\n",
    "fig.add_subplot(1,2,2)\n",
    "plt.scatter(X[:,0],X[:,1])\n",
    "plt.title('Gaussian Mixture - as received from the world');"
   ]
  },
  {
   "cell_type": "markdown",
   "metadata": {},
   "source": [
    "The picture on the left, represents the entire data color-coded according to a class they belong to.\n",
    "\n",
    "In practice we are **not** given labels, and so we work directly with the unlabeled data set on the right.\n",
    "\n",
    "* We can use GMM to uncover groups in the data."
   ]
  },
  {
   "cell_type": "markdown",
   "metadata": {},
   "source": [
    "## Example: GMM as Data Likelihood Estimation or Clustering\n",
    "\n",
    "GMM is commonly used as an algorithm for density estimation. That is to say, the result of a GMM fit to some data is technically not a clustering model, but a generative probabilistic model describing the distribution of the data.\n",
    "\n",
    "However, a common practical use for the GMM is as a clustering algorithm, where we are interested in finding groups in the data."
   ]
  },
  {
   "cell_type": "markdown",
   "metadata": {},
   "source": [
    "To illustrate this, I will use the ```scikit-learn``` algorithm implementation of the GMM model:"
   ]
  },
  {
   "cell_type": "code",
   "execution_count": null,
   "metadata": {},
   "outputs": [],
   "source": [
    "from sklearn.mixture import GaussianMixture"
   ]
  },
  {
   "cell_type": "code",
   "execution_count": null,
   "metadata": {},
   "outputs": [],
   "source": [
    "?GaussianMixture"
   ]
  },
  {
   "cell_type": "code",
   "execution_count": null,
   "metadata": {},
   "outputs": [],
   "source": [
    "Nclusters = 5\n",
    "GMM = GaussianMixture(n_components=Nclusters).fit(X)\n",
    "labels = GMM.predict(X)\n",
    "prob = GMM.predict_proba(X).round(2)\n",
    "\n",
    "fig = plt.figure(figsize=(20,10))\n",
    "fig.add_subplot(2,Nclusters,1)\n",
    "plt.scatter(X[:,0],X[:,1], c=L)\n",
    "plt.title('True (Unknown) Labels');\n",
    "fig.add_subplot(2,Nclusters,2)\n",
    "plt.scatter(X[:,0],X[:,1])\n",
    "plt.title('Gaussian Mixture');\n",
    "fig.add_subplot(2,Nclusters,3)\n",
    "plt.scatter(X[:,0],X[:,1], c=labels)\n",
    "plt.title('Predicted Labels');\n",
    "for i in range(Nclusters):\n",
    "    ax = fig.add_subplot(2,Nclusters,Nclusters+i+1)\n",
    "    p1 = ax.scatter(X[:,0], X[:,1], c=prob[:,i])\n",
    "    fig.colorbar(p1, ax=ax)"
   ]
  },
  {
   "cell_type": "markdown",
   "metadata": {},
   "source": [
    "## Example: GMM as Density Estimation\n",
    "\n",
    "Consider some data generated from Scikit-Learn's ```make_moons``` function:"
   ]
  },
  {
   "cell_type": "code",
   "execution_count": null,
   "metadata": {},
   "outputs": [],
   "source": [
    "from sklearn.datasets import make_moons\n",
    "from matplotlib.patches import Ellipse\n",
    "\n",
    "Xmoon, ymoon = make_moons(200, noise=.05, random_state=0)\n",
    "plt.scatter(Xmoon[:, 0], Xmoon[:, 1]);"
   ]
  },
  {
   "cell_type": "markdown",
   "metadata": {},
   "source": [
    "Let's create a helper function that will help us visualize the locations and shapes of the GMM clusters by drawing ellipses based on the GMM output. \n",
    "\n",
    "* Let's not worry about the implementation of this helper function."
   ]
  },
  {
   "cell_type": "code",
   "execution_count": null,
   "metadata": {},
   "outputs": [],
   "source": [
    "# Code from \"Python Data Science Handbook\"\n",
    "# https://jakevdp.github.io/PythonDataScienceHandbook/05.12-gaussian-mixtures.html\n",
    "\n",
    "def draw_ellipse(position, covariance, ax=None, **kwargs):\n",
    "    \"\"\"Draw an ellipse with a given position and covariance\"\"\"\n",
    "    ax = ax or plt.gca()\n",
    "    \n",
    "    # Convert covariance to principal axes\n",
    "    if covariance.shape == (2, 2):\n",
    "        U, s, Vt = np.linalg.svd(covariance)\n",
    "        angle = np.degrees(np.arctan2(U[1, 0], U[0, 0]))\n",
    "        width, height = 2 * np.sqrt(s)\n",
    "    else:\n",
    "        angle = 0\n",
    "        width, height = 2 * np.sqrt(covariance)\n",
    "    \n",
    "    # Draw the Ellipse\n",
    "    for nsig in range(1, 4):\n",
    "        ax.add_patch(Ellipse(position, nsig * width, nsig * height,\n",
    "                             angle, **kwargs))\n",
    "        \n",
    "def plot_gmm(gmm, X, label=True, ax=None):\n",
    "    ax = ax or plt.gca()\n",
    "    labels = gmm.fit(X).predict(X)\n",
    "    if label:\n",
    "        ax.scatter(X[:, 0], X[:, 1], c=labels, s=40, cmap='viridis', zorder=2)\n",
    "    else:\n",
    "        ax.scatter(X[:, 0], X[:, 1], s=40, zorder=2)\n",
    "    ax.axis('equal')\n",
    "    \n",
    "    w_factor = 0.2 / gmm.weights_.max()\n",
    "    for pos, covar, w in zip(gmm.means_, gmm.covariances_, gmm.weights_):\n",
    "        draw_ellipse(pos, covar, alpha=w * w_factor)"
   ]
  },
  {
   "cell_type": "markdown",
   "metadata": {},
   "source": [
    "If we try to fit this with a two-component GMM viewed as a clustering model, the results are not particularly useful:"
   ]
  },
  {
   "cell_type": "code",
   "execution_count": null,
   "metadata": {},
   "outputs": [],
   "source": [
    "GMM = GaussianMixture(n_components=2, covariance_type='full', random_state=0).fit(Xmoon)\n",
    "plot_gmm(GMM, Xmoon)"
   ]
  },
  {
   "cell_type": "markdown",
   "metadata": {},
   "source": [
    "But if we instead use many more components and ignore the cluster labels, we find a fit that is much closer to the input data:"
   ]
  },
  {
   "cell_type": "code",
   "execution_count": null,
   "metadata": {},
   "outputs": [],
   "source": [
    "GMM16 = GaussianMixture(n_components=16, covariance_type='full', random_state=0).fit(Xmoon)\n",
    "plot_gmm(GMM16, Xmoon, label=False)"
   ]
  },
  {
   "cell_type": "markdown",
   "metadata": {},
   "source": [
    "Here the mixture of 16 Gaussians serves not to find separated clusters of data, but rather to model the overall distribution of the input data. This is a generative model of the distribution, meaning that the GMM gives us the recipe to generate new random data distributed similarly to our input. "
   ]
  },
  {
   "cell_type": "markdown",
   "metadata": {},
   "source": [
    "For example, here are 400 new points drawn from this 16-component GMM fit to our original data:"
   ]
  },
  {
   "cell_type": "code",
   "execution_count": null,
   "metadata": {},
   "outputs": [],
   "source": [
    "Xnew = GMM16.sample(100)\n",
    "plt.scatter(Xnew[0][:, 0], Xnew[0][:, 1]);"
   ]
  },
  {
   "cell_type": "markdown",
   "metadata": {},
   "source": [
    "GMM is convenient as a flexible means of modeling an arbitrary multi-dimensional distribution of data."
   ]
  }
 ],
 "metadata": {
  "kernelspec": {
   "display_name": "Python 3",
   "language": "python",
   "name": "python3"
  },
  "language_info": {
   "codemirror_mode": {
    "name": "ipython",
    "version": 3
   },
   "file_extension": ".py",
   "mimetype": "text/x-python",
   "name": "python",
   "nbconvert_exporter": "python",
   "pygments_lexer": "ipython3",
   "version": "3.8.8"
  },
  "latex_envs": {
   "LaTeX_envs_menu_present": true,
   "autoclose": true,
   "autocomplete": true,
   "bibliofile": "biblio.bib",
   "cite_by": "apalike",
   "current_citInitial": 1,
   "eqLabelWithNumbers": true,
   "eqNumInitial": 1,
   "hotkeys": {
    "equation": "Ctrl-E",
    "itemize": "Ctrl-I"
   },
   "labels_anchors": false,
   "latex_user_defs": false,
   "report_style_numbering": false,
   "user_envs_cfg": false
  },
  "varInspector": {
   "cols": {
    "lenName": 16,
    "lenType": 16,
    "lenVar": 40
   },
   "kernels_config": {
    "python": {
     "delete_cmd_postfix": "",
     "delete_cmd_prefix": "del ",
     "library": "var_list.py",
     "varRefreshCmd": "print(var_dic_list())"
    },
    "r": {
     "delete_cmd_postfix": ") ",
     "delete_cmd_prefix": "rm(",
     "library": "var_list.r",
     "varRefreshCmd": "cat(var_dic_list()) "
    }
   },
   "types_to_exclude": [
    "module",
    "function",
    "builtin_function_or_method",
    "instance",
    "_Feature"
   ],
   "window_display": false
  }
 },
 "nbformat": 4,
 "nbformat_minor": 2
}
