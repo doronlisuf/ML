{
 "cells": [
  {
   "cell_type": "markdown",
   "metadata": {},
   "source": [
    "# Lecture 27 - Fisher's Linear Discriminant Analysis (LDA) continued"
   ]
  },
  {
   "cell_type": "markdown",
   "metadata": {},
   "source": [
    "## Fisher's Linear Discriminant\n",
    "\n",
    "A very popular type of a linear discriminant is the **Fisher's Linear Discriminant**.\n",
    "\n",
    "* Given two classes, we can compute the mean of each class:\n",
    "$$\\mathbf{\\overrightarrow{m}}_1 = \\frac{1}{{N}_1}\\sum_{n\\in C_1} \\mathbf{\\overrightarrow{x}_n}$$\n",
    "\n",
    "$$\\mathbf{\\overrightarrow{m}_2} = \\frac{1}{N_2}\\sum_{n\\in C_2} \\mathbf{\\overrightarrow{x}_n}$$"
   ]
  },
  {
   "cell_type": "markdown",
   "metadata": {},
   "source": [
    "We can maximize the separation of the means:\n",
    "\n",
    "$$m_2 - m_1 = \\mathbf{\\overrightarrow{w}}^T(\\mathbf{\\overrightarrow{m}}_2 - \\mathbf{\\overrightarrow{m}}_1)$$\n",
    "\n",
    "* $\\mathbf{\\overrightarrow{w}}^T\\mathbf{\\overrightarrow{x}}$ takes a $D$ dimensional data point and projects it down to 1-D with a weight sum of the original features. We want to find a weighting that maximizes the separation of the class means. "
   ]
  },
  {
   "cell_type": "markdown",
   "metadata": {},
   "source": [
    "* Not only do we want well separated means for each class, but we also want each class to be *compact* to minimize overlap between the classes. \n",
    "\n",
    "* Consider the *within class variance:*\n",
    "\n",
    "\\begin{align*}\n",
    "s_k^2 = \\sum_{n \\in C_k} (y_n - m_k)^2 &= \\sum_{n \\in C_k} (\\mathbf{\\overrightarrow{w}}^T\\mathbf{\\overrightarrow{x}}_n - m_k)^2 \\\\\n",
    "&= \\mathbf{\\overrightarrow{w}}^T \\sum_{n \\in C_k} (\\mathbf{\\overrightarrow{x}}_n - \\mathbf{\\overrightarrow{m}_k}) (\\mathbf{\\overrightarrow{x}}_n - \\mathbf{\\overrightarrow{m}_k})^T \\mathbf{\\overrightarrow{w}}\n",
    "\\end{align*}"
   ]
  },
  {
   "cell_type": "markdown",
   "metadata": {},
   "source": [
    "* So, we want to minimize within class variance and maximize between class separability. How about the following objective function:\n",
    "\n",
    "\\begin{align*}\n",
    "J(\\mathbf{w}) &= \\frac{(m_2 - m_1)^2}{s_1^2 + s_2^2}\\\\\n",
    "      &= \\frac{\\mathbf{\\overrightarrow{w}}^T(\\mathbf{\\overrightarrow{m}}_2 - \\mathbf{\\overrightarrow{m}}_1)(\\mathbf{\\overrightarrow{m}}_2 - \\mathbf{\\overrightarrow{m}}_1)^T\\mathbf{\\overrightarrow{w}}}{\\sum_{n \\in C_1} (\\mathbf{\\overrightarrow{w}}^T\\mathbf{\\overrightarrow{x}}_n - m_1)^2 + \\sum_{n \\in C_2} (\\mathbf{\\overrightarrow{w}}^T\\mathbf{\\overrightarrow{x}}_n - m_2)^2}\\\\\n",
    "\t  &= \\frac{\\mathbf{\\overrightarrow{w}}^T(\\mathbf{\\overrightarrow{m}}_2 - \\mathbf{\\overrightarrow{m}}_1)(\\mathbf{\\overrightarrow{m}}_2 - \\mathbf{\\overrightarrow{m}}_1)^T\\mathbf{\\overrightarrow{w}}}{\\mathbf{\\overrightarrow{w}}^T\\left(\\sum_{n \\in C_1} (\\mathbf{\\overrightarrow{x}}_n - \\mathbf{\\overrightarrow{m}}_1)(\\mathbf{\\overrightarrow{x}}_n - \\mathbf{\\overrightarrow{m}}_1)^T + \\sum_{n \\in C_2} (\\mathbf{\\overrightarrow{x}}_n - \\mathbf{\\overrightarrow{m}}_2)(\\mathbf{\\overrightarrow{x}}_n - \\mathbf{\\overrightarrow{m}}_2)^T\\right)\\mathbf{\\overrightarrow{w}}}\\\\\n",
    "\t  &= \\frac{\\mathbf{\\overrightarrow{w}}^T\\mathbf{S}_B\\mathbf{\\overrightarrow{w}}}{\\mathbf{\\overrightarrow{w}}^T\\mathbf{S}_W\\mathbf{\\overrightarrow{w}}}\n",
    "\\end{align*}"
   ]
  },
  {
   "cell_type": "markdown",
   "metadata": {},
   "source": [
    "where\n",
    "\n",
    "$$S_B = (\\mathbf{\\overrightarrow{m}}_2 - \\mathbf{\\overrightarrow{m}}_1)(\\mathbf{\\overrightarrow{m}}_2 - \\mathbf{\\overrightarrow{m}}_1)^T$$\n",
    "\n",
    "and \n",
    "\n",
    "$$S_W= \\sum_{n \\in C_1} (\\mathbf{\\overrightarrow{x}}_n - \\mathbf{\\overrightarrow{m}}_1)(\\mathbf{\\overrightarrow{x}}_n - \\mathbf{\\overrightarrow{m}}_1)^T + \\sum_{n \\in C_2} (\\mathbf{\\overrightarrow{x}}_n - \\mathbf{\\overrightarrow{m}}_2)(\\mathbf{\\overrightarrow{x}}_n - \\mathbf{\\overrightarrow{m}}_2)^T$$"
   ]
  },
  {
   "cell_type": "markdown",
   "metadata": {},
   "source": [
    "* Ok, so let's optimize:\n",
    "\n",
    "\\begin{align*}\n",
    "\\frac{\\partial J(\\mathbf{\\overrightarrow{w}})}{\\partial \\mathbf{\\overrightarrow{w}}} &= \\frac{2(\\mathbf{\\overrightarrow{w}}^T\\mathbf{S}_W\\mathbf{\\overrightarrow{w}})\\mathbf{S}_B\\mathbf{\\overrightarrow{w}} - 2(\\mathbf{\\overrightarrow{w}}^T\\mathbf{S}_B\\mathbf{\\overrightarrow{w}})\\mathbf{S}_W\\mathbf{\\overrightarrow{w}}}{(\\mathbf{\\overrightarrow{w}}^T\\mathbf{S}_W\\mathbf{\\overrightarrow{w}})^2} = 0 \\\\\n",
    "0 &= \\ \\frac{\\mathbf{S}_B\\mathbf{\\overrightarrow{w}}}{(\\mathbf{\\overrightarrow{w}}^T\\mathbf{S}_W\\mathbf{\\overrightarrow{w}})} -\\frac{(\\mathbf{\\overrightarrow{w}}^T\\mathbf{S}_B\\mathbf{\\overrightarrow{w}})\\mathbf{S}_W\\mathbf{\\overrightarrow{w}}}{(\\mathbf{\\overrightarrow{w}}^T\\mathbf{S}_W\\mathbf{\\overrightarrow{w}})^2} \\\\\n",
    " (\\mathbf{\\overrightarrow{w}}^T\\mathbf{S}_W\\mathbf{\\overrightarrow{w}})\\mathbf{S}_B\\mathbf{\\overrightarrow{w}} &= (\\mathbf{\\overrightarrow{w}}^T\\mathbf{S}_B\\mathbf{\\overrightarrow{w}})\\mathbf{S}_W\\mathbf{\\overrightarrow{w}} \\\\\n",
    " \\mathbf{S}_B \\mathbf{\\overrightarrow{w}} &= \\frac{\\mathbf{\\overrightarrow{w}}^T\\mathbf{S}_B\\mathbf{\\overrightarrow{w}}}{\\mathbf{\\overrightarrow{w}}^T\\mathbf{S}_W\\mathbf{\\overrightarrow{w}}} \\mathbf{S}_W\\mathbf{\\overrightarrow{w}}\\\\\n",
    " \\mathbf{S}_W^{-1}\\mathbf{S}_B\\mathbf{\\overrightarrow{w}} &= \\lambda\\mathbf{\\overrightarrow{w}}\n",
    "\\end{align*}\n",
    "\n",
    "where the scalar $\\lambda = \\frac{\\mathbf{\\overrightarrow{w}}^T\\mathbf{S}_B\\mathbf{\\overrightarrow{w}}} { \\mathbf{\\overrightarrow{w}}^T\\mathbf{S}_W\\mathbf{\\overrightarrow{w}}}$"
   ]
  },
  {
   "cell_type": "markdown",
   "metadata": {},
   "source": [
    "#### *Does this look familiar?*\n",
    "\n",
    "This is the generalized eigenvalue problem!\n",
    "\n",
    "* So the direction of projection correspond to the eigenvectors of $\\mathbf{S}_W^{-1}\\mathbf{S}_B$ with the largest eigenvalues."
   ]
  },
  {
   "cell_type": "markdown",
   "metadata": {},
   "source": [
    "The solution is easy when $S_w^{-1} = (\\Sigma_1 + \\Sigma_2)^{-1}$ exists.\n",
    "\n",
    "In this case, if we use the definition of $S_B = (\\mathbf{\\overrightarrow{m}}_2 - \\mathbf{\\overrightarrow{m}}_1)(\\mathbf{\\overrightarrow{m}}_2 - \\mathbf{\\overrightarrow{m}}_1)^T$:\n",
    "\n",
    "\\begin{align*}\n",
    "S_W^{-1}S_B\\mathbf{\\overrightarrow{w}} &= \\lambda\\mathbf{\\overrightarrow{w}}\\\\\n",
    "S_W^{-1}(\\mathbf{\\overrightarrow{m}}_2-\\mathbf{\\overrightarrow{m}}_1)(\\mathbf{\\overrightarrow{m}}_2-\\mathbf{\\overrightarrow{m}}_1)^T\\mathbf{\\overrightarrow{w}} &= \\lambda\\mathbf{\\overrightarrow{w}}\n",
    "\\end{align*}\n",
    "\n",
    "Noting that $\\alpha = (\\mathbf{\\overrightarrow{m}}_2-\\mathbf{\\overrightarrow{m}}_1)^T\\mathbf{\\overrightarrow{w}}$ is a constant, this can be written as:\n",
    "\n",
    "$$S_W^{-1}(\\mathbf{\\overrightarrow{m}}_2-\\mathbf{\\overrightarrow{m}}_1) = \\frac{\\lambda}{\\alpha}\\mathbf{\\overrightarrow{w}}$$"
   ]
  },
  {
   "cell_type": "markdown",
   "metadata": {},
   "source": [
    "* Since we don't care about the magnitude of $\\mathbf{\\overrightarrow{w}}$:\n",
    "\n",
    "$$\\mathbf{\\overrightarrow{w}}^* = S_W^{-1}(\\mathbf{\\overrightarrow{m}}_2-\\mathbf{\\overrightarrow{m}}_1) = (\\Sigma_1 + \\Sigma_2)^{-1}(\\mathbf{\\overrightarrow{m}}_2-\\mathbf{\\overrightarrow{m}}_1)$$\n",
    "\n",
    "Make sure $\\mathbf{\\overrightarrow{w}}^*$ is a unit vector by taking: $\\mathbf{\\overrightarrow{w}}^* \\leftarrow \\frac{\\mathbf{\\overrightarrow{w}}^*}{\\Vert\\mathbf{\\overrightarrow{w}}^*\\Vert}$"
   ]
  },
  {
   "cell_type": "markdown",
   "metadata": {},
   "source": [
    "* Note that if the within-class covariance, $S_W$, is isotropic, so that $S_W$ is proportional to the unit matrix, we find that $\\mathbf{\\overrightarrow{w}}$ is proportional to the difference of the class means.\n",
    "\n",
    "* This result is known as *Fisher's linear discriminant*, although strictly it is not a discriminant but rather a specific choice of direction for projection of the data down to one dimension. However, the projected data can subsequently be used to construct a discriminant, by choosing a threshold $y_0$ so that we classify a new point as belonging to $C_1$ if $y(x) \\geq y_0$ and classify it as belonging to $C_2$ otherwise."
   ]
  },
  {
   "cell_type": "markdown",
   "metadata": {},
   "source": [
    "Also, note that:\n",
    "* For a classification problem with Gaussian classes of equal covariance $\\Sigma_i=\\Sigma$, the boundary is the plane of normal:\n",
    "$$\\mathbf{\\overrightarrow{w}} = \\Sigma^{-1}(\\mathbf{\\overrightarrow{m}}_i-\\mathbf{\\overrightarrow{m}}_j)$$\n",
    "\n",
    "* If $\\Sigma_2=\\Sigma_1$, this is also the LDA solution."
   ]
  },
  {
   "cell_type": "markdown",
   "metadata": {},
   "source": [
    "This gives two different **interpretations** of LDA:\n",
    "\n",
    "* It is optimal *if and only if* the classes are Gaussian and have equal covariance.\n",
    "\n",
    "* A classifier on the LDA features, is equivalent to the boundary after the approximation of the data by two Gaussians with equal covariance."
   ]
  },
  {
   "cell_type": "markdown",
   "metadata": {},
   "source": [
    "The final discriminant decision boundary is $\\mathbf{\\overrightarrow{y}} = \\mathbf{\\overrightarrow{w}}^*\\mathbf{\\overrightarrow{x}} + w_0$\n",
    "\n",
    "The *bias* term $w_0$ can be defined as:\n",
    "\n",
    "$$w_0 = \\frac{1}{2}\\left(\\frac{1}{N_1}\\sum_{n\\in C_1}\\overrightarrow{x}_n + \\frac{1}{N_2}\\sum_{n\\in C_2}\\overrightarrow{x}_n \\right)\\mathbf{\\overrightarrow{w}}^*$$\n",
    "\n",
    "* An extension to multi-class problems has a similar derivation."
   ]
  },
  {
   "cell_type": "markdown",
   "metadata": {},
   "source": [
    "**Limitations** of LDA:\n",
    "\n",
    "1. LDA produces at most $C-1$ feature projections, where $C$ is the number of classes.\n",
    "\n",
    "2. If the classification error estimates establish that more features are needed, some other method must be employed to provide those additional features.\n",
    "\n",
    "3. LDA is a parametric method (it assumes unimodal Gaussian likelihoods).\n",
    "\n",
    "4. If the distributions are significantly non-Gaussian, the LDA projections may not preserve complex structure in the data needed for classification.\n",
    "\n",
    "5. LDA will also fail if discriminatory information is not in the mean but in the variance of the data.\n",
    "\n",
    "A popular variant of LDA are the **Multi-Layer Perceptrons** (or MLPs)."
   ]
  },
  {
   "cell_type": "code",
   "execution_count": 2,
   "metadata": {},
   "outputs": [],
   "source": [
    "import numpy as np\n",
    "import matplotlib.pyplot as plt\n",
    "%matplotlib inline\n",
    "plt.style.use('bmh')"
   ]
  },
  {
   "cell_type": "code",
   "execution_count": 8,
   "metadata": {},
   "outputs": [
    {
     "name": "stdout",
     "output_type": "stream",
     "text": [
      "[[ 9.04960291e-02 -1.02389842e-02]\n",
      " [-2.08253935e+00  1.78309154e-02]\n",
      " [-9.33398834e-01 -1.87300896e-01]\n",
      " [ 3.49876528e-01 -1.44760777e-01]\n",
      " [ 2.00589673e+00 -7.94219766e-02]\n",
      " [ 2.13522544e-01 -1.57460151e-01]\n",
      " [ 5.56097310e-01  6.21930052e-02]\n",
      " [-2.66084308e+00 -2.37636330e-01]\n",
      " [-3.77930511e-01 -7.77222476e-03]\n",
      " [ 1.46613136e+00 -7.97514124e-02]\n",
      " [-8.92650400e-01 -6.14849383e-03]\n",
      " [ 9.32712188e-02 -1.66935635e-03]\n",
      " [ 7.01277473e-01 -8.82374179e-02]\n",
      " [ 1.32356005e+00  1.66617849e-01]\n",
      " [ 1.47906219e+00  1.63373798e-02]\n",
      " [-5.09725886e-02 -3.60370112e-02]\n",
      " [-1.30410470e-01  3.59645766e-02]\n",
      " [ 1.07688407e+00  1.24165518e-01]\n",
      " [ 5.39114902e-01 -6.58043098e-02]\n",
      " [-4.99683086e-01  1.08786570e-01]\n",
      " [-1.78607858e+00  7.63181306e-02]\n",
      " [ 6.83419766e-02 -1.38880605e-03]\n",
      " [ 2.08367694e+00  4.78455947e-02]\n",
      " [-9.58778840e-02 -1.53331973e-01]\n",
      " [ 7.85581993e-01 -7.86074582e-02]\n",
      " [-1.64193857e-01  7.45544348e-02]\n",
      " [ 1.09144442e+00  8.26708304e-02]\n",
      " [-3.05623743e-01 -2.23583666e-01]\n",
      " [-4.69232053e-01  1.24288541e-01]\n",
      " [-6.16416556e-01  7.72582595e-02]\n",
      " [-1.52169776e+00  4.81926461e-02]\n",
      " [ 3.46990783e+00  6.15692362e-02]\n",
      " [-1.08120468e+00  7.28945113e-03]\n",
      " [-7.03776721e-01 -1.59285793e-01]\n",
      " [-1.23496712e+00 -1.57034575e-02]\n",
      " [ 9.48222835e-01  3.55715946e-02]\n",
      " [-1.08064129e-01  1.27310340e-01]\n",
      " [ 1.28473125e+00  1.15893346e-01]\n",
      " [-8.01842546e-01 -4.72034741e-02]\n",
      " [-3.35181806e-01 -1.11415817e-01]\n",
      " [ 4.53538082e-01 -5.42384260e-02]\n",
      " [-1.43987026e+00 -1.71289007e-01]\n",
      " [-1.21609127e+00  3.94928731e-02]\n",
      " [ 8.99822824e-01  7.51859527e-02]\n",
      " [ 6.35688980e-01  8.51362045e-02]\n",
      " [-6.49853532e-01 -2.27108413e-01]\n",
      " [ 1.09655971e+00  8.47869612e-02]\n",
      " [-5.61514398e-01 -4.21794432e-02]\n",
      " [ 6.63487062e-01  9.09921723e-02]\n",
      " [ 8.05757758e-03 -9.35450033e-02]\n",
      " [-1.50566272e+00  5.08840206e-02]\n",
      " [-1.35959186e+00  1.16399697e-01]\n",
      " [-2.37217524e-01 -6.05966472e-02]\n",
      " [-2.16323221e-01 -6.00293888e-03]\n",
      " [-1.39431986e+00 -1.48613381e-01]\n",
      " [-7.19692116e-01  4.52138640e-02]\n",
      " [ 8.04216190e-01  6.60078015e-02]\n",
      " [ 1.94534169e+00 -5.49004173e-02]\n",
      " [-5.01819548e-01  4.72772313e-02]\n",
      " [-4.02510943e-01 -1.14469171e-02]\n",
      " [-9.99311232e-01 -4.49955148e-02]\n",
      " [-3.65651041e-01  1.44193350e-02]\n",
      " [-9.60918310e-01  5.74335297e-02]\n",
      " [ 1.67758643e+00  3.06059133e-02]\n",
      " [-9.03671022e-01  1.68542863e-01]\n",
      " [ 1.22092349e+00 -1.20410363e-01]\n",
      " [-1.18245522e+00 -9.88274289e-02]\n",
      " [-5.47072309e-01  1.02712699e-01]\n",
      " [-1.53239318e+00  1.80297312e-01]\n",
      " [-1.65395839e+00 -5.13286378e-02]\n",
      " [ 7.57663389e-01  2.05982386e-01]\n",
      " [-1.72101184e-01  6.21663203e-03]\n",
      " [ 4.42078705e-01  3.98760459e-02]\n",
      " [-1.73396146e+00  1.34250111e-01]\n",
      " [-1.48607074e+00  2.48317774e-02]\n",
      " [-4.05464669e-01 -1.08833052e-01]\n",
      " [ 1.24572175e-01 -1.08521150e-01]\n",
      " [-6.18187498e-01  6.06011368e-02]\n",
      " [-8.29059604e-01 -1.70282638e-01]\n",
      " [ 3.05628562e+00  1.58688811e-01]\n",
      " [ 5.65003196e-01 -8.33421784e-02]\n",
      " [-7.00474901e-01 -7.41145151e-02]\n",
      " [ 6.41030389e-01 -1.97328252e-02]\n",
      " [ 6.74344467e-01 -7.08314479e-02]\n",
      " [ 1.03973249e-01 -2.22056496e-02]\n",
      " [ 2.42794902e-01  9.86143125e-02]\n",
      " [ 5.66830348e-01  1.21153391e-01]\n",
      " [ 1.68395314e-01  1.97961486e-01]\n",
      " [ 2.55083154e-01 -1.20412456e-01]\n",
      " [ 3.40427775e-01  2.22177629e-02]\n",
      " [-1.27969774e-02  1.26539591e-01]\n",
      " [ 2.36594542e-01  6.06886503e-02]\n",
      " [-7.71623406e-01 -4.26337068e-02]\n",
      " [ 1.05050153e+00  8.03530789e-02]\n",
      " [ 4.19099847e-01  1.29194069e-01]\n",
      " [ 1.11590480e-02 -5.28767706e-02]\n",
      " [-6.58020559e-01 -1.34848963e-01]\n",
      " [ 3.69481093e-01  6.34659470e-03]\n",
      " [ 7.01513703e-01 -1.34085931e-01]\n",
      " [ 8.10599801e-01  1.41802430e-01]\n",
      " [ 1.28700412e+00  1.09266572e+00]\n",
      " [ 1.27665535e+00  9.55469976e-01]\n",
      " [ 1.00505644e+00  8.64906549e-01]\n",
      " [-9.63638929e-01  1.00787923e+00]\n",
      " [ 1.34907753e+00  9.93840892e-01]\n",
      " [ 2.97472366e-01  9.05782258e-01]\n",
      " [-3.90538408e-01  1.02244427e+00]\n",
      " [-1.25016290e+00  1.13023633e+00]\n",
      " [ 1.87064931e+00  9.12017150e-01]\n",
      " [ 1.56170132e+00  8.42812144e-01]\n",
      " [ 1.39302327e-01  1.07025071e+00]\n",
      " [ 2.51282353e+00  1.00114782e+00]\n",
      " [ 1.77867326e+00  1.13346159e+00]\n",
      " [-1.60616494e-02  1.05809737e+00]\n",
      " [ 2.06486741e+00  1.00296090e+00]\n",
      " [ 3.01039797e-01  1.13076497e+00]\n",
      " [ 1.53118023e+00  1.20918238e+00]\n",
      " [-3.43501475e-01  9.43918324e-01]\n",
      " [ 1.62566537e+00  8.01375267e-01]\n",
      " [ 2.10343245e-01  1.12809356e+00]\n",
      " [ 7.31629158e-01  1.10806077e+00]\n",
      " [ 2.54178068e+00  9.91130086e-01]\n",
      " [ 8.20989920e-02  8.71053415e-01]\n",
      " [ 9.11129479e-01  1.20624995e+00]\n",
      " [ 1.28910701e+00  1.04874880e+00]\n",
      " [ 6.07711034e-01  1.00771201e+00]\n",
      " [-1.35718638e-01  1.15899104e+00]\n",
      " [-3.70611794e-01  1.15832939e+00]\n",
      " [ 1.87165991e+00  1.08583779e+00]\n",
      " [ 1.42077015e+00  1.07457549e+00]\n",
      " [-3.19378397e-01  9.76286503e-01]\n",
      " [ 7.15331706e-01  9.62651329e-01]\n",
      " [ 1.66192819e+00  1.04029273e+00]\n",
      " [ 2.93165341e-01  9.92504154e-01]\n",
      " [ 1.44774922e+00  9.85995664e-01]\n",
      " [ 8.83170935e-02  1.09684835e+00]\n",
      " [ 2.79854342e+00  1.00219459e+00]\n",
      " [ 1.46717825e+00  1.05887140e+00]\n",
      " [ 1.30507736e+00  9.62257737e-01]\n",
      " [ 5.70874731e-01  8.27319836e-01]\n",
      " [ 2.07555055e+00  9.15442622e-01]\n",
      " [ 2.84064458e+00  1.09046730e+00]\n",
      " [-1.45726674e-01  9.18160093e-01]\n",
      " [-1.82655214e+00  9.66410268e-01]\n",
      " [ 1.09765826e+00  1.09903372e+00]\n",
      " [ 2.48013140e+00  9.98428268e-01]\n",
      " [ 1.79963222e+00  1.05799409e+00]\n",
      " [ 1.08038647e+00  9.85464824e-01]\n",
      " [ 1.67493175e+00  1.03472886e+00]\n",
      " [ 2.97917116e-01  1.17858060e+00]\n",
      " [-1.14580426e-01  1.02212959e+00]\n",
      " [ 1.16008245e+00  1.10934645e+00]\n",
      " [ 1.40817603e+00  1.01752322e+00]\n",
      " [ 2.12463325e+00  1.14033992e+00]\n",
      " [ 7.23302402e-01  8.73135350e-01]\n",
      " [ 2.09291766e+00  1.11640242e+00]\n",
      " [-1.58912219e-01  1.04927328e+00]\n",
      " [ 2.50597860e+00  1.03885506e+00]\n",
      " [ 2.21192191e+00  1.25003830e+00]\n",
      " [ 6.72498492e-01  8.48559214e-01]\n",
      " [ 4.30641580e-01  9.97885551e-01]\n",
      " [-3.05571577e-01  1.06105961e+00]\n",
      " [ 8.31878331e-01  8.60176136e-01]\n",
      " [ 1.29269445e+00  1.15045349e+00]\n",
      " [ 5.49244328e-01  1.04346102e+00]\n",
      " [ 1.08678804e+00  8.76205421e-01]\n",
      " [-7.44505074e-01  9.59883017e-01]\n",
      " [ 1.09898558e+00  1.14780747e+00]\n",
      " [ 1.12155022e+00  1.20946833e+00]\n",
      " [ 1.80597918e+00  9.37018517e-01]\n",
      " [ 6.46748486e-01  1.01956550e+00]\n",
      " [ 1.76419657e+00  9.63746557e-01]\n",
      " [ 8.80377788e-01  8.21367562e-01]\n",
      " [ 5.03197947e-01  1.12025700e+00]\n",
      " [ 1.70259081e+00  9.90834658e-01]\n",
      " [ 2.11843430e-01  1.11122346e+00]\n",
      " [ 1.47611533e+00  9.26792686e-01]\n",
      " [ 7.18320914e-01  8.17215355e-01]\n",
      " [ 2.39133136e+00  1.03813116e+00]\n",
      " [ 9.30936620e-01  1.04139169e+00]\n",
      " [ 1.89519726e+00  9.62185447e-01]\n",
      " [ 5.67485199e-01  9.47564811e-01]\n",
      " [ 4.00857301e-01  1.03578929e+00]\n",
      " [ 2.78600572e+00  1.09006874e+00]\n",
      " [ 2.57627192e+00  9.22791381e-01]\n",
      " [ 5.37001142e-01  1.06493248e+00]\n",
      " [ 6.45935201e-01  1.01254226e+00]\n",
      " [ 5.18257959e-01  9.14463435e-01]\n",
      " [-2.15476682e-01  1.08918892e+00]\n",
      " [ 1.38008420e+00  8.48916678e-01]\n",
      " [ 2.18138906e+00  1.02325618e+00]\n",
      " [ 1.22238826e+00  7.84140601e-01]\n",
      " [ 1.31530557e+00  8.00802464e-01]\n",
      " [-1.62528232e-02  8.41185018e-01]\n",
      " [ 4.28015401e-01  1.03651353e+00]\n",
      " [ 1.08300562e+00  7.66106701e-01]\n",
      " [ 1.18394653e+00  1.08395931e+00]\n",
      " [-4.64925612e-01  9.03403157e-01]\n",
      " [ 1.15875824e+00  9.46860282e-01]\n",
      " [ 2.87304452e+00  1.01896858e+00]]\n"
     ]
    },
    {
     "data": {
      "image/png": "[encoded data removed]",
      "text/plain": [
       "<Figure size 432x288 with 1 Axes>"
      ]
     },
     "metadata": {
      "needs_background": "light"
     },
     "output_type": "display_data"
    }
   ],
   "source": [
    "def fisherDiscriminant(data,t):\n",
    "    data1 = data[t==0,:]\n",
    "    data2 = data[t==1,:]\n",
    "    mean1 = np.atleast_2d(np.mean(data1,0))\n",
    "    mean2 = np.atleast_2d(np.mean(data2,0))\n",
    "    Sw1 = np.dstack([(data1[i,:]-mean1).T@(data1[i,:]-mean1) for i in range(data1.shape[0])])\n",
    "    Sw2 = np.dstack([(data2[i,:]-mean2).T@(data2[i,:]-mean2) for i in range(data2.shape[0])])\n",
    "    Sw = np.sum(Sw1,2) + np.sum(Sw2,2)\n",
    "    w = np.linalg.inv(Sw)@(mean2 - mean1).T\n",
    "    w = w/np.linalg.norm(w)\n",
    "    data_t = data@w\n",
    "    return w, data_t\n",
    "\n",
    "def discriminant(data, labels, v):\n",
    "    v_perp = np.array([v[1], -v[0]])\n",
    "    b = ((np.mean(data[labels==0,:],axis=0)+np.mean(data[labels==1,:],axis=0))/2)@v\n",
    "    lambda_vec = np.linspace(-3,3,len(data))\n",
    "    v_line = lambda_vec * v\n",
    "    decision_boundary = b * v + lambda_vec * v_perp\n",
    "    return v_line, decision_boundary\n",
    "\n",
    "# Generate Synthetic Data\n",
    "N1 = 100 #number of points for class1\n",
    "N2 = 100 #number of points for class0\n",
    "covM = [1,0.01]*np.eye(2) # covariance matrix\n",
    "data = np.random.multivariate_normal([0,0], covM, N1) #generate points  for class 1\n",
    "X = np.vstack((data, np.random.multivariate_normal([1,1], covM, N2))) #generate points for class 0\n",
    "labels = np.hstack((np.ones(N1),np.zeros(N2)))\n",
    "print(X)\n",
    "plt.scatter(X[:,0],X[:,1],c=labels); plt.show();"
   ]
  },
  {
   "cell_type": "code",
   "execution_count": 3,
   "metadata": {},
   "outputs": [
    {
     "data": {
      "image/png": "[encoded data removed]",
      "text/plain": [
       "<Figure size 720x360 with 1 Axes>"
      ]
     },
     "metadata": {
      "needs_background": "light"
     },
     "output_type": "display_data"
    }
   ],
   "source": [
    "v, Y = fisherDiscriminant(X,labels)\n",
    "\n",
    "plt.figure(figsize=(10,5))\n",
    "plt.scatter(X[:,0],X[:,1],c=labels)\n",
    "\n",
    "v_line, decision_boundary = discriminant(X, labels, v);\n",
    "\n",
    "plt.plot(v_line[0], v_line[1], 'red', linewidth=3, label='Direction of Projection')\n",
    "plt.plot(decision_boundary[0,:], decision_boundary[1,:],'blue',linewidth=3, label='Decision Boundary')\n",
    "plt.title('LDA'); plt.axis('equal'); plt.legend(loc='best',fontsize=15);"
   ]
  },
  {
   "cell_type": "markdown",
   "metadata": {},
   "source": [
    "___"
   ]
  },
  {
   "cell_type": "markdown",
   "metadata": {},
   "source": [
    "# Least Squares Classification as a Linear Discriminant Function\n",
    "\n",
    "We could use a **least squares** error function to solve for $\\mathbf{\\overrightarrow{w}}$ and $w_0$ as we did in regression.  But, there are some issues. *Can you think of any?*\n",
    "\n",
    "* In regression, the prediction label will be a continuous number between $[-1,1]$. So the predicted class label will be for example: -0.8, 0.4 or 0.01. To simplify, we can say, if the predicted class $y \\geq 0$ than is class 1 otherwise is class 0.\n",
    "* The problem that comes about is that, if we look at the distribution of our errors, in our estimation $\\epsilon = t-y$ is not Gaussian.    \n",
    "* The errors samples are assumed independent, with a mean and a variance independent from each other.\n",
    "* If we use regression, what we going end up with is an error distribution where the variance is dependent on the mean. This becomes a signal-dependent problem therefore regression is not a good approach to classification."
   ]
  }
 ],
 "metadata": {
  "kernelspec": {
   "display_name": "Python 3",
   "language": "python",
   "name": "python3"
  },
  "language_info": {
   "codemirror_mode": {
    "name": "ipython",
    "version": 3
   },
   "file_extension": ".py",
   "mimetype": "text/x-python",
   "name": "python",
   "nbconvert_exporter": "python",
   "pygments_lexer": "ipython3",
   "version": "3.8.8"
  },
  "latex_envs": {
   "LaTeX_envs_menu_present": true,
   "autoclose": false,
   "autocomplete": true,
   "bibliofile": "biblio.bib",
   "cite_by": "apalike",
   "current_citInitial": 1,
   "eqLabelWithNumbers": true,
   "eqNumInitial": 1,
   "hotkeys": {
    "equation": "Ctrl-E",
    "itemize": "Ctrl-I"
   },
   "labels_anchors": false,
   "latex_user_defs": false,
   "report_style_numbering": false,
   "user_envs_cfg": false
  },
  "varInspector": {
   "cols": {
    "lenName": 16,
    "lenType": 16,
    "lenVar": 40
   },
   "kernels_config": {
    "python": {
     "delete_cmd_postfix": "",
     "delete_cmd_prefix": "del ",
     "library": "var_list.py",
     "varRefreshCmd": "print(var_dic_list())"
    },
    "r": {
     "delete_cmd_postfix": ") ",
     "delete_cmd_prefix": "rm(",
     "library": "var_list.r",
     "varRefreshCmd": "cat(var_dic_list()) "
    }
   },
   "types_to_exclude": [
    "module",
    "function",
    "builtin_function_or_method",
    "instance",
    "_Feature"
   ],
   "window_display": false
  }
 },
 "nbformat": 4,
 "nbformat_minor": 4
}
