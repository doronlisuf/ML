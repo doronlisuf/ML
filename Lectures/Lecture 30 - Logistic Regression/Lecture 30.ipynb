{
 "cells": [
  {
   "cell_type": "markdown",
   "metadata": {},
   "source": [
    "# Lecture 30 - Logistic Regression"
   ]
  },
  {
   "cell_type": "code",
   "execution_count": null,
   "metadata": {},
   "outputs": [],
   "source": [
    "import numpy as np\n",
    "import matplotlib.pyplot as plt\n",
    "%matplotlib inline\n",
    "plt.style.use('bmh')"
   ]
  },
  {
   "cell_type": "markdown",
   "metadata": {},
   "source": [
    "# Logistic Discrimination, sometimes called Logistic Regression\n",
    "\n",
    "*Note that, despite of its name, logistic regression is a model for classification, not regression.*\n",
    "\n",
    "The **logistic discriminant** is a linear model for binary classification that can be extended to multi-class classification using the one-vs-all approach."
   ]
  },
  {
   "cell_type": "markdown",
   "metadata": {},
   "source": [
    "In logistic logistic discrimination, we do not model the class-conditional densities, $p(x|C_i)$, but rather their ratio. Let us assume we are working with a two-class problem and assume that the log likelihood ratio (or **odds ratio**) is linear:\n",
    "\n",
    "$$\\log\\frac{P(x|C_1)}{P(x|C_2)} = \\mathbf{w}^Tx + b$$\n",
    "\n",
    "* This is only true, if the classes are Gaussian-distributed!\n",
    "\n",
    "* But logistic discrimination has a wider scope of applicability; for example, $x$ may be composed of discrete attributes or may be a mixture of continuous and discrete attributes. Using Bayes’ rule, we have:\n",
    "\n",
    "\\begin{align}\n",
    "\\operatorname{logit} P(C_1|x) &=\\log \\frac{P(C_1|x)}{1-P(C_1|x)}\\\\\n",
    "&= \\log \\frac{P(x|C_1)}{P(x|C_2)} + \\log \\frac{P(C_1)}{P(C_2)} \\\\\n",
    "&= \\mathbf{w}^Tx + w_0\n",
    "\\end{align}\n",
    "\n",
    "where $w_0 = b + \\log \\frac{P(C_1)}{P(C_2)}$."
   ]
  },
  {
   "cell_type": "markdown",
   "metadata": {},
   "source": [
    "Rearranging terms, we get the probabilistic classification:\n",
    "\n",
    "$$y = P(C_1|x) = \\frac{1}{1+\\exp\\left(-(\\mathbf{w}^Tx+w_0)\\right)}$$"
   ]
  },
  {
   "cell_type": "markdown",
   "metadata": {},
   "source": [
    "This is the sigmoid function:\n",
    "\n",
    "$$\\phi(z) = \\frac{1}{1+\\exp(-z)}$$"
   ]
  },
  {
   "cell_type": "code",
   "execution_count": null,
   "metadata": {},
   "outputs": [],
   "source": [
    "z = np.linspace(-8,8,100)\n",
    "\n",
    "plt.figure(figsize=(7,5))\n",
    "plt.plot(z, 1/(1+np.exp(-z)))\n",
    "plt.plot(z, [0.5]*len(z),'--')\n",
    "plt.xlabel('$z$',size=20); plt.ylabel('$\\phi(z)$',size=20);\n",
    "plt.title('Sigmoid Function',size=15);"
   ]
  },
  {
   "cell_type": "markdown",
   "metadata": {},
   "source": [
    "* We can see that $\\phi(z)\\rightarrow 1$ as $z\\rightarrow\\infty$, since $\\exp(-z)$ becomes very small for large values of $z$.\n",
    "\n",
    "* Similarly, $\\phi(z)\\rightarrow 0$ as $z\\rightarrow -\\infty$ as the result of an increasingly large denominator. \n",
    "\n",
    "Thus, we conclude that this sigmoid function takes real number values as input and transforms them to values in the range $[0, 1]$ with an intercept at $\\phi(z)=0.5$."
   ]
  },
  {
   "cell_type": "markdown",
   "metadata": {},
   "source": [
    "This is the same as using a sigmoid function as the **activation function** in the perceptron diagram.\n",
    "\n",
    "Thus the output of the sigmoid function is then interpreted as the probability of particular sample belonging to $C_1$, given its features $x$ parameterized by the weights $w$. \n",
    "\n",
    "* For example, if we compute $\\phi(z)=0.8$ for a particular sample, it means that the chance that this sample is in $C_1$ is 80%. \n",
    "\n",
    "The predicted probability can then simply be converted into a binary outcome via a quantizer (unit step function):\n",
    "\n",
    "\\begin{align}\n",
    "\\hat{t} = y &= \\begin{cases}1, & \\phi(z)\\geq 0.5\\\\ 0, & \\text{otherwise}\\end{cases}\\\\\n",
    "&=\\begin{cases}1, & \\phi(\\mathbf{w}^Tx+w_0)\\geq 0.5\\\\ 0, & \\text{otherwise}\\end{cases}\n",
    "\\end{align}\n",
    "\n",
    "or,\n",
    "\n",
    "\\begin{align}\n",
    "\\hat{t} = y &= \\begin{cases}1, & z\\geq 0\\\\ 0, & z<0\\end{cases} \\\\\n",
    "&= \\begin{cases}1, & \\mathbf{w}^Tx+w_0\\geq 0\\\\ 0, & \\mathbf{w}^Tx+w_0<0\\end{cases}\n",
    "\\end{align}"
   ]
  },
  {
   "cell_type": "markdown",
   "metadata": {},
   "source": [
    "## The Objective Function\n",
    "\n",
    "Let $\\{(x_i,t_i)\\}_{i=1}^N$ be the set of input samples and its class labels, where $t_i\\in\\{0,1\\}$. Assuming the data samples are i.i.d., we can build the observed data likelihood:\n",
    "\n",
    "$$\\mathcal{L}^0 = \\prod_{i=1}^N P(y_i|x_i; \\mathbf{w}) = \\phi(z_i)^{t_i}(1-\\phi(z_i))^{1-t_i}$$\n",
    "\n",
    "We can apply the \"trick\" (log-likelihood) to build the data likelihood\":\n",
    "\n",
    "$$\\mathcal{L} = \\sum_{i=1}^N t_i\\log\\phi(z_i) +(1-t_i)\\log(1-\\phi(z_i))$$\n",
    "\n",
    "where $\\phi(z) = \\frac{1}{1+\\exp(-z)}$ and $z_i = \\mathbf{w}^Tx_i+w_0$.\n",
    "\n",
    "We want to maximize this likelihood to the data, or we can also write it as a minimization optimization:\n",
    "\n",
    "$$J(\\mathbf{w},w_0) = \\sum_{i=1}^N - t_i\\log\\phi(z_i) - (1-t_i)\\log(1-\\phi(z_i))$$\n",
    "\n",
    "This objective function is also known as **cross-entropy**."
   ]
  },
  {
   "cell_type": "code",
   "execution_count": null,
   "metadata": {},
   "outputs": [],
   "source": [
    "z = np.linspace(-2,2,100)\n",
    "\n",
    "phi = lambda z: 1/(1+np.exp(-z))\n",
    "\n",
    "plt.figure(figsize=(7,5))\n",
    "plt.plot(phi(z), -np.log(phi(z)),label='when $t=1$')\n",
    "plt.plot(phi(z), -np.log(1-phi(z)),'--',label='when $t=0$')\n",
    "plt.legend(fontsize=15); plt.xlabel('$\\phi(z)$',size=20)\n",
    "plt.ylabel('$J(\\mathbf{w})$',size=20);"
   ]
  },
  {
   "cell_type": "markdown",
   "metadata": {},
   "source": [
    "We can see that the cost approaches 0 if we correctly predict that a sample belongs to class 1. Similarly, we can see on the y axis that the cost also approaches 0 if we correctly predict class 0. However, if the prediction is wrong, the cost goes towards infinity: we penalize wrong predictions with an increasingly larger cost."
   ]
  },
  {
   "cell_type": "markdown",
   "metadata": {},
   "source": [
    "As we do not have the global *picture* of what the objective function, $J(\\mathbf{w})$, we apply a search method to navigate through the objective function to find the *local optima* starting from an initial value, namely, **gradient descent**.\n",
    "\n",
    "$$\\mathbf{w}^{(t+1)} \\longleftarrow \\mathbf{w}^{(t)} - \\eta \\frac{\\partial J(\\mathbf{w})}{\\partial \\mathbf{w}^{(t)}}$$\n",
    "\n",
    "$$\\mathbf{w_0}^{(t+1)} \\longleftarrow \\mathbf{w_0}^{(t)} - \\eta \\frac{\\partial J(\\mathbf{w})}{\\partial \\mathbf{w_0}^{(t)}}$$\n",
    "\n",
    "where $\\eta$ is the learning rate (or step size)."
   ]
  },
  {
   "cell_type": "markdown",
   "metadata": {},
   "source": [
    "$$\\frac{\\partial J(\\mathbf{w})}{\\partial \\mathbf{w}^{(t)}} =\n",
    "\\sum_{i=1}^N -t_i\\frac{1}{\\phi(z_i)}\\frac{\\partial\\phi(z_i)}{\\partial z_i}\\frac{\\partial z_i}{\\partial\\mathbf{w}} -(1-t_i)\\frac{1}{1-\\phi(z_i)}\\left(-\\frac{\\partial\\phi(z_i)}{\\partial z_i}\\frac{\\partial z_i}{\\partial\\mathbf{w}}\\right)$$\n",
    "\n",
    "where $\\frac{\\partial\\phi(z_i)}{\\partial z_i} = \\phi'(z_i)$ and $\\frac{\\partial z_i}{\\partial\\mathbf{w}} = x_i$. Substituting:\n",
    "\n",
    "\\begin{align}\n",
    "\\frac{\\partial J(\\mathbf{w})}{\\partial \\mathbf{w}^{(t)}} &= \\sum_{i=1}^N -t_i \\frac{\\phi'(z_i)}{\\phi(z_i)} x_i + (1-t_i)\\frac{\\phi'(z_i)}{1-\\phi(z_i)} x_i \\\\\n",
    "&= \\sum_{i=1}^N \\left(\\frac{t_i}{\\phi(z_i)} - \\frac{1-t_i}{1-\\phi(z_i)}\\right)\\phi'(z_i)x_i\n",
    "\\end{align}\n",
    "\n",
    "where $\\phi'(z_i)= \\phi(z_i)(1-\\phi(z_i))$, then applying some substitutions we have:\n",
    "\n",
    "$$\\frac{\\partial J(\\mathbf{w})}{\\partial \\mathbf{w}^{(t)}} = (t_i - y_i)x_i$$\n",
    "\n",
    "and, similarly,\n",
    "\n",
    "$$\\frac{\\partial J(\\mathbf{w})}{\\partial w_0^{(t)}} = (t_i - y_i)$$\n",
    "\n",
    "Finally,\n",
    "\n",
    "$$\\mathbf{w}^{(t+1)} \\longleftarrow \\mathbf{w}^{(t)} - \\eta (t_i - y_i)x_i$$\n",
    "\n",
    "$$\\mathbf{w_0}^{(t+1)} \\longleftarrow \\mathbf{w_0}^{(t)} - \\eta (t_i - y_i)$$"
   ]
  },
  {
   "cell_type": "markdown",
   "metadata": {},
   "source": [
    "**Initialization:** it is best to initialize $\\mathbf{w}$ with random values close to 0; generally they are drawn uniformly from the interval $[−0.01, 0.01]$. \n",
    "\n",
    "* The reason for this is that if the initial $\\mathbf{w}$ are large in magnitude, the weighted sum may also be large and may saturate the sigmoid. \n",
    "\n",
    "* If the initial weights are close to 0, the sum will stay in the middle region where the derivative is nonzero and an update can take place. \n",
    "\n",
    "* If the weighted sum is large in magnitude (smaller than −5 or larger than +5), the derivative of the sigmoid will be almost 0 and weights will not be updated. \n",
    "    * When we stack up a lot of these perceptrons in layers and add a few layers, this \"close to 0\" gradient will lead to a phenomenon in neural networks known as the **vanishing gradient**."
   ]
  },
  {
   "cell_type": "code",
   "execution_count": null,
   "metadata": {},
   "outputs": [],
   "source": [
    "from matplotlib.colors import ListedColormap\n",
    "from sklearn.model_selection import train_test_split\n",
    "from sklearn.preprocessing import StandardScaler\n",
    "from sklearn.datasets import make_moons, make_classification\n",
    "from sklearn.neighbors import KNeighborsClassifier\n",
    "from sklearn.naive_bayes import GaussianNB\n",
    "from sklearn.discriminant_analysis import LinearDiscriminantAnalysis\n",
    "from sklearn.linear_model import Perceptron\n",
    "from sklearn.linear_model import LogisticRegression\n",
    "plt.style.use('seaborn-colorblind')\n",
    "\n",
    "h = .02  # step size in the mesh\n",
    "\n",
    "names = [\"Naive Bayes\", \"kNN (k=3)\", \"LDA\", \"Perceptron\", \"Logistic\\nDiscrimination\"]\n",
    "\n",
    "classifiers = [\n",
    "    GaussianNB(),\n",
    "    KNeighborsClassifier(3),\n",
    "    LinearDiscriminantAnalysis(),\n",
    "    Perceptron(),\n",
    "    LogisticRegression()]\n",
    "\n",
    "X, y = make_classification(n_features=2, n_redundant=0, n_informative=2,\n",
    "                           random_state=1, n_clusters_per_class=1)\n",
    "rng = np.random.RandomState(2)\n",
    "X += 2 * rng.uniform(size=X.shape)\n",
    "linearly_separable = (X, y)\n",
    "\n",
    "X2, y2 = make_classification(n_features=2, n_redundant=0, n_informative=2,\n",
    "                           random_state=1, n_clusters_per_class=1, n_classes=3)\n",
    "rng = np.random.RandomState(2)\n",
    "X2 += 2 * rng.uniform(size=X2.shape)\n",
    "linearly_separable2 = (X2, y2)\n",
    "\n",
    "\n",
    "datasets = [make_moons(noise=0.3, random_state=0),\n",
    "            linearly_separable,\n",
    "           linearly_separable2]\n",
    "\n",
    "figure = plt.figure(figsize=(15, 8))\n",
    "i = 1\n",
    "# iterate over datasets\n",
    "for ds_cnt, ds in enumerate(datasets):\n",
    "    # preprocess dataset, split into training and test part\n",
    "    X, y = ds\n",
    "    X = StandardScaler().fit_transform(X)\n",
    "\n",
    "    x_min, x_max = X[:, 0].min() - .5, X[:, 0].max() + .5\n",
    "    y_min, y_max = X[:, 1].min() - .5, X[:, 1].max() + .5\n",
    "    xx, yy = np.meshgrid(np.arange(x_min, x_max, h),\n",
    "                         np.arange(y_min, y_max, h))\n",
    "\n",
    "    # just plot the dataset first\n",
    "    cm = plt.cm.RdBu\n",
    "    cm_bright = ListedColormap(['red', 'orange','blue'])\n",
    "    ax = plt.subplot(len(datasets), len(classifiers) + 1, i)\n",
    "    if ds_cnt == 0:\n",
    "        ax.set_title(\"Input data\", fontsize=20)\n",
    "    # Plot the training points\n",
    "    ax.scatter(X[:, 0], X[:, 1], c=y, cmap=cm_bright, edgecolors='k')\n",
    "    ax.set_xlim(xx.min(), xx.max())\n",
    "    ax.set_ylim(yy.min(), yy.max())\n",
    "    ax.set_xticks(())\n",
    "    ax.set_yticks(())\n",
    "    i += 1\n",
    "\n",
    "    # iterate over classifiers\n",
    "    for name, clf in zip(names, classifiers):\n",
    "        ax = plt.subplot(len(datasets), len(classifiers) + 1, i)\n",
    "        clf.fit(X, y)\n",
    "        Z = clf.predict(np.c_[xx.ravel(), yy.ravel()])\n",
    "\n",
    "        # Put the result into a color plot\n",
    "        Z = Z.reshape(xx.shape)\n",
    "        ax.contourf(xx, yy, Z, cmap=cm, alpha=.8)\n",
    "\n",
    "        # Plot the training points\n",
    "        ax.scatter(X[:, 0], X[:, 1], c=y, cmap=cm_bright, edgecolors='k')\n",
    "\n",
    "        ax.set_xlim(xx.min(), xx.max())\n",
    "        ax.set_ylim(yy.min(), yy.max())\n",
    "        ax.set_xticks(())\n",
    "        ax.set_yticks(())\n",
    "        if ds_cnt == 0:\n",
    "            ax.set_title(name, fontsize=20)\n",
    "        i += 1\n",
    "\n",
    "plt.tight_layout()"
   ]
  },
  {
   "cell_type": "markdown",
   "metadata": {},
   "source": [
    "___"
   ]
  },
  {
   "cell_type": "markdown",
   "metadata": {},
   "source": [
    "# Kernel Machine"
   ]
  },
  {
   "cell_type": "code",
   "execution_count": null,
   "metadata": {},
   "outputs": [],
   "source": [
    "from sklearn.datasets import make_blobs\n",
    "X, y = make_blobs(n_samples=50, centers=2,\n",
    "                  random_state=0, cluster_std=0.60)\n",
    "plt.scatter(X[:, 0], X[:, 1], c=y, s=50, cmap='autumn');"
   ]
  },
  {
   "cell_type": "markdown",
   "metadata": {},
   "source": [
    "A linear discriminative classifier would attempt to draw a straight line separating the two sets of data, and thereby create a model for classification. For two dimensional data like that shown here, this is a task we could do by hand. But immediately we see a problem: there is more than one possible dividing line that can perfectly discriminate between the two classes!\n",
    "\n",
    "We can draw them as follows:"
   ]
  },
  {
   "cell_type": "code",
   "execution_count": null,
   "metadata": {},
   "outputs": [],
   "source": [
    "xfit = np.linspace(-1, 3.5)\n",
    "plt.scatter(X[:, 0], X[:, 1], c=y, s=50, cmap='autumn')\n",
    "plt.plot([0.6], [2.1], 'x', color='red', markeredgewidth=2, markersize=10)\n",
    "\n",
    "for m, b in [(1, 0.65), (0.5, 1.6), (-0.2, 2.9)]:\n",
    "    plt.plot(xfit, m * xfit + b, '-k')\n",
    "\n",
    "plt.xlim(-1, 3.5);"
   ]
  },
  {
   "cell_type": "markdown",
   "metadata": {},
   "source": [
    "These are three very different separators which, nevertheless, perfectly discriminate between these samples. Depending on which you choose, a new data point (e.g., the one marked by the \"X\" in this plot) will be assigned a different label! Evidently our simple intuition of \"drawing a line between classes\" is not enough, and we need to think a bit deeper."
   ]
  },
  {
   "cell_type": "markdown",
   "metadata": {},
   "source": [
    "# Kernel Machine\n",
    "\n",
    "Consider the following data set:"
   ]
  },
  {
   "cell_type": "code",
   "execution_count": null,
   "metadata": {},
   "outputs": [],
   "source": [
    "from sklearn.datasets import make_circles\n",
    "X, y = make_circles(100, factor=.1, noise=.1)\n",
    "plt.scatter(X[:, 0], X[:, 1], c=y, s=50, cmap='autumn');"
   ]
  },
  {
   "cell_type": "markdown",
   "metadata": {},
   "source": [
    "The two classes are clearly not linearly separable. What would you do?"
   ]
  },
  {
   "cell_type": "code",
   "execution_count": null,
   "metadata": {},
   "outputs": [],
   "source": [
    "r = np.exp(-((X - X.mean(axis=0))** 2/(2*X.std(axis=0, ddof=1)**2)).sum(axis=1))"
   ]
  },
  {
   "cell_type": "code",
   "execution_count": null,
   "metadata": {},
   "outputs": [],
   "source": [
    "from mpl_toolkits import mplot3d\n",
    "\n",
    "def plot_3D(elev=30, azim=30, X=X, y=y):\n",
    "    ax = plt.subplot(projection='3d')\n",
    "    ax.scatter3D(X[:, 0], X[:, 1], r, c=y, s=50, cmap='autumn')\n",
    "    ax.view_init(elev=elev, azim=azim)\n",
    "    ax.set_xlabel('x')\n",
    "    ax.set_ylabel('y')\n",
    "    ax.set_zlabel('r')\n",
    "\n",
    "%matplotlib notebook\n",
    "plot_3D();"
   ]
  },
  {
   "cell_type": "markdown",
   "metadata": {},
   "source": [
    "## Support Vector Machines: Maximizing the Margin\n",
    "\n",
    "SVMs offer one way to improve on this. The intuition is this: rather than simply drawing a zero-width line between the classes, we can draw around each line a margin of some width, up to the nearest point. Here is an example of how this might look:"
   ]
  },
  {
   "cell_type": "code",
   "execution_count": null,
   "metadata": {},
   "outputs": [],
   "source": [
    "%matplotlib inline\n",
    "X, y = make_blobs(n_samples=50, centers=2,\n",
    "                  random_state=0, cluster_std=0.60)\n",
    "xfit = np.linspace(-1, 3.5)\n",
    "plt.scatter(X[:, 0], X[:, 1], c=y, s=50, cmap='autumn')\n",
    "\n",
    "for m, b, d in [(1, 0.65, 0.33), (0.5, 1.6, 0.55), (-0.2, 2.9, 0.2)]:\n",
    "    yfit = m * xfit + b\n",
    "    plt.plot(xfit, yfit, '-k')\n",
    "    plt.fill_between(xfit, yfit - d, yfit + d, edgecolor='none',\n",
    "                     color='#AAAAAA', alpha=0.4)\n",
    "\n",
    "plt.xlim(-1, 3.5);"
   ]
  },
  {
   "cell_type": "markdown",
   "metadata": {},
   "source": [
    "In support vector machines, the line that maximizes this margin is the one we will choose as the optimal model. Support vector machines are an example of such a maximum margin estimator."
   ]
  },
  {
   "cell_type": "markdown",
   "metadata": {},
   "source": [
    "# Support Vector Machine: Separable Classes\n",
    "\n",
    "Let's start with the two-class linearly separable task and then we will extend the method to more general cases where data are not separable. Let $\\phi(x_i)$, $i=1,2,\\dots,N$, be the feature vectors of the training set, $X$, and corresponding target values $t_1, t_2, \\cdots, t_N$ where $t_n\\in\\{-1,1\\}$. These belong to either of two classes, $C_1$, $C_2$, which are *assumed to be linearly separable*.\n",
    "\n",
    "The goal, once more, is to design a hyperplane\n",
    "\n",
    "$$y(x) = w^T\\phi(x) + b = 0$$\n",
    "\n",
    "that classifies correctly all the training vectors.\n",
    "\n",
    "Because the training data is linearly separable in the feature space, by definition there exists at least one choice of the parameters $w$ and $b$ such that $y(x)$ satisfies $y(x_n)>0$ for points having $t_n = +1$ and $y(x_n)<0$ for points having $t_n = -1$, so that $t_ny(x_n) > 0$ for all training data points.\n",
    "\n",
    "Such a hyperplane is not unique. The perceptron algorithm may converge to any one of the possible solutions. Having gained in experience, this time we will be more demanding. \n",
    "\n",
    "* Which hyperplane would any sensible engineer choose as the classifier for operation in practice, where data outside the training set will be fed to it? \n",
    "\n",
    "* Once again, the hyperplane that leaves more “room” on either side, so that data in both classes can move a bit more freely, with less risk of causing an error. \n",
    "\n",
    "* A sensible choice for the hyperplane classifier would be the one that leaves the maximum margin from both classes.\n",
    "\n",
    "* Thus such a hyperplane can be trusted more, when it is faced with the challenge of operating with unknown data.\n",
    "    * It has a higher generalizarion performance."
   ]
  },
  {
   "cell_type": "markdown",
   "metadata": {},
   "source": [
    "## Quantifying the \"Margin\"\n",
    "\n",
    "Let us now quantify the term \"margin\" that a hyperplane leaves from both classes. Every hyperplane is characterized by its direction (determined by $w$) and its exact position in space (determined by $b$). Since we want to give no preference to either of the classes, then it is reasonable for each direction to select that hyperplane which has the same distance from the respective nearest points in $c_1$ and $c_2$."
   ]
  },
  {
   "cell_type": "code",
   "execution_count": 1,
   "metadata": {},
   "outputs": [
    {
     "data": {
      "image/png": "[encoded data removed]",
      "text/plain": [
       "<IPython.core.display.Image object>"
      ]
     },
     "execution_count": 1,
     "metadata": {
      "image/png": {
       "width": 400
      }
     },
     "output_type": "execute_result"
    }
   ],
   "source": [
    "from IPython.display import Image\n",
    "Image('figures/Figure7.1a.png', width=400)"
   ]
  },
  {
   "cell_type": "code",
   "execution_count": 2,
   "metadata": {},
   "outputs": [
    {
     "data": {
      "image/png": "[encoded data removed]",
      "text/plain": [
       "<IPython.core.display.Image object>"
      ]
     },
     "execution_count": 2,
     "metadata": {
      "image/png": {
       "width": 400
      }
     },
     "output_type": "execute_result"
    }
   ],
   "source": [
    "Image('figures/Figure7.1b.png', width=400)"
   ]
  },
  {
   "cell_type": "markdown",
   "metadata": {},
   "source": [
    "to be continued..."
   ]
  }
 ],
 "metadata": {
  "kernelspec": {
   "display_name": "Python 3",
   "language": "python",
   "name": "python3"
  },
  "language_info": {
   "codemirror_mode": {
    "name": "ipython",
    "version": 3
   },
   "file_extension": ".py",
   "mimetype": "text/x-python",
   "name": "python",
   "nbconvert_exporter": "python",
   "pygments_lexer": "ipython3",
   "version": "3.8.8"
  },
  "latex_envs": {
   "LaTeX_envs_menu_present": true,
   "autoclose": false,
   "autocomplete": true,
   "bibliofile": "biblio.bib",
   "cite_by": "apalike",
   "current_citInitial": 1,
   "eqLabelWithNumbers": true,
   "eqNumInitial": 1,
   "hotkeys": {
    "equation": "Ctrl-E",
    "itemize": "Ctrl-I"
   },
   "labels_anchors": false,
   "latex_user_defs": false,
   "report_style_numbering": false,
   "user_envs_cfg": false
  },
  "varInspector": {
   "cols": {
    "lenName": 16,
    "lenType": 16,
    "lenVar": 40
   },
   "kernels_config": {
    "python": {
     "delete_cmd_postfix": "",
     "delete_cmd_prefix": "del ",
     "library": "var_list.py",
     "varRefreshCmd": "print(var_dic_list())"
    },
    "r": {
     "delete_cmd_postfix": ") ",
     "delete_cmd_prefix": "rm(",
     "library": "var_list.r",
     "varRefreshCmd": "cat(var_dic_list()) "
    }
   },
   "types_to_exclude": [
    "module",
    "function",
    "builtin_function_or_method",
    "instance",
    "_Feature"
   ],
   "window_display": false
  }
 },
 "nbformat": 4,
 "nbformat_minor": 4
}
