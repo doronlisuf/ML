{
 "cells": [
  {
   "cell_type": "markdown",
   "metadata": {
    "slideshow": {
     "slide_type": "slide"
    }
   },
   "source": [
    "# Lecture 40 - Principal Component Analysis (PCA)"
   ]
  },
  {
   "cell_type": "markdown",
   "metadata": {},
   "source": [
    "# Feature Selection & Feature Extraction\n",
    "\n",
    "Note that feature selection and feature extraction are two different approaches.\n",
    "\n",
    "1. **Feature Selection:** Choosing a subset of the original pool of features.\n",
    "    \n",
    "2. **Feature Extraction:** Creating useful features from data.\n",
    "    * Dimensionality reduction techniques such as PCA are performing feature extraction."
   ]
  },
  {
   "cell_type": "markdown",
   "metadata": {},
   "source": [
    "In **feature selection**, we can have three main approaches:\n",
    "\n",
    "1. **Wrappers:** a wrapper evaluates a specific model sequentially using different potential subsets of features to get the subset that best works in the end. They are highly costly and have a high chance of overfitting, but also a high chance of success, on the other hand.\n",
    "    * Example: Forward Sequential Feature Selection, Backward Feature Elimination, etc.\n",
    "\n",
    "2. **Filters:** for a much faster alternative, filters do not test any particular algorithm, but rank the original features according to their relationship with the problem (labels) and just select the top of them. Correlation and mutual information are the most widespread criteria. There are many easy to use tools, like the [feature selection ```scikit-learn``` package](https://scikit-learn.org/stable/modules/feature_selection.html).\n",
    "\n",
    "    * Example: Correlation, chi-squared test, ANOVA, information gain, etc.\n",
    "\n",
    "3. **Embedded:** this group is made up of all the Machine Learning techniques that include feature selection during their training stage. \n",
    "    * Example: LASSO, Elastic Net, Ridge, etc."
   ]
  },
  {
   "cell_type": "markdown",
   "metadata": {},
   "source": [
    "___"
   ]
  },
  {
   "cell_type": "markdown",
   "metadata": {},
   "source": [
    "# Principal Component Analysis (PCA)\n",
    "\n",
    "A very common approach (and one of the simplest approaches) to **dimensionality reduction** is **Principal Component Analysis** (or **PCA**). \n",
    "\n",
    "* PCA takes data from *sensor coordinates* to *data centric coordinates* using linear transformations.\n",
    "\n",
    "PCA uses a **linear transformation** to **minimize the redundancy** of the resulting transformed data (by ending up with data that is uncorrelated).\n",
    "* This means that every transformed dimension is more informative.\n",
    "* In this approach, the dimensionality of the space is still the same as the original data, but the space of features are now arranged such that they contain the most information.\n",
    "\n",
    "If we wish to reduce dimensionality of our feature space, we can choose only the features that carry over the most information in the linearly transformed space.\n",
    "* In other words, PCA will find the underlying **linear manifold** that the data is embedded in.\n",
    "\n",
    "**PCA finds the directions of maximum variance in high-dimensional data and projects it onto a new subspace with equal or fewer dimensions than the original one**. \n",
    "\n",
    "There are a couple of points-of-view on how to find $A$: \n",
    "\n",
    "1. Maximum Variance Formulation\n",
    "2. Minimum-error Formulation"
   ]
  },
  {
   "cell_type": "markdown",
   "metadata": {},
   "source": [
    "## 1. PCA as Maximum Variance Formulation\n",
    "\n",
    "Consider the data $X$ comprised on $N$ data samples in a D-dimensional space, so $X$ is a matrix of size $D\\times N$.\n",
    "\n",
    "The **first step** in PCA is to centralize or demean $X$. This will is to guarantee that all features will have the same impact and not weight more only because their range of values is much larger (example, age vs income).\n",
    "\n",
    "* Without loss of generality, let's assume that we subtracted the mean to the input data, $X$. Now, $X$ has zero mean.\n",
    "\n",
    "The **second step** is to find the linear transformation $A$ that transforms $X$ to a space where features are:\n",
    "1. Uncorrelated (preserve all dimensions)\n",
    "2. reduced (dimensionality reduction)\n",
    "\n",
    "\\begin{align*}Y = AX\\end{align*}\n",
    "\n",
    "where $A$ is a $D\\times D$ matrix, $X$ is a $D\\times N$ data matrix and therefore $Y$ is also a $D\\times N$ transformed data matrix.\n",
    "\n",
    "The variance of the transformed data $Y$ is given by:\n",
    "\n",
    "\\begin{align*}\n",
    "R_y &= E[YY^T] \\\\\n",
    "&= E[AX(AX)^T] \\\\\n",
    "&= E[AXX^TA^T] \\\\\n",
    "&= AE[XX^T]A^T \\\\\n",
    "&= AR_xA^T\n",
    "\\end{align*}\n",
    "\n",
    "Note that we are computing the variance along the dimensions of $Y$, therefore, $R_y$ is a $D\\times D$ matrix. Similarly, $R_X$ represents the covariance of the data $X$. Covariances matrices are symmetric therefore $R_X=R_X^T$ and $R_Y=R_Y^T$.\n",
    "\n",
    "Similarly, $R_X$ represents the covariance of the data $X$. \n",
    "\n",
    "If we write $A$ in terms of vector elements:\n",
    "\n",
    "\\begin{align*}A = \\left[\\begin{array}{cc}\n",
    "a_{11} & a_{12}\\\\\n",
    "a_{21} & a_{22}\n",
    "\\end{array}\\right]=\\left[\\begin{array}{c}\n",
    "\\overrightarrow{a_{1}}\\\\\n",
    "\\overrightarrow{a_{2}}\n",
    "\\end{array}\\right]\\end{align*}\n",
    "\n",
    "Then,\n",
    "\n",
    "\\begin{align*}\n",
    "R_y &= \\left[\\begin{array}{c}a_{1}\\\\a_{2}\\end{array}\\right] R_X \\left[\\begin{array}{cc}a_{1} & a_{2}\\end{array}\\right] \\\\\n",
    "&= \\left[\\begin{array}{cc} a_1 R_X a_1^T & a_1 R_X a_2^T\\\\ a_2 R_X a_1^T & a_2 R_X a_2^T\\end{array}\\right]\n",
    "\\end{align*}\n",
    "\n",
    "* If we want to represent the data in a space in which the features are **uncorrelated**, what shape does the covariance matrix have to take?\n",
    "\n",
    "Diagonal! Why?\n",
    "\n",
    "* Can we use the eigenvectors of $R_X$ as our linear transformation $A$?"
   ]
  },
  {
   "cell_type": "markdown",
   "metadata": {},
   "source": [
    "Consider the case where we are trying to project the data $X$ into a 1-dimensional space, so we are trying to find the direction $a_1$ where maximal data variance is preserved:\n",
    "\n",
    "\\begin{align*}\n",
    "\\arg_{a_1} \\max a_1 R_X a_1^T\\end{align*}\n",
    "\n",
    "We want this solution to be bounded (considering $a_1 = \\infty$ would maximize), so we need to constraint the vector to have norm 1\n",
    "\n",
    "\\begin{align*}\\Vert a_1\\Vert_2^2 = 1 \\iff a_1 a_1^T = 1\\end{align*}\n",
    "\n",
    "Then, we using Lagrange Optimization:\n",
    "\n",
    "\\begin{align*}\\mathcal{L} = a_1 R_X a_1^T + \\lambda_1 (1-a_1 a_1^T)\\end{align*}\n",
    "\n",
    "Solving for $a_1$:\n",
    "\n",
    "\\begin{align*}\n",
    "\\frac{\\partial \\mathcal{L}}{\\partial a_1} &= 0 \\\\\n",
    "R_X a_1^T + R_X^T a_1^T - 2\\lambda_1 a_1^T &= 0 \\\\\n",
    "R_X a_1^T = \\lambda a_1^T\n",
    "\\end{align*}\n",
    "\n",
    "* Does this look familiar?\n",
    "\n",
    "This is stating that $a_1^T$ must be an eigenvector of $R_X$!\n",
    "\n",
    "So coming back to the question \"Can we use the eigenvectors of $X$ as our linear transformation $A$?\" YES!\n",
    "\n",
    "* If we left multiply by $a_1$ and make use of $a_1a_1^T = 1$:\n",
    "\n",
    "\\begin{align*}a_1 R_X a_1^T = \\lambda_1\\end{align*}\n",
    "\n",
    "**So the variance will be maximum when we set the project direction $a_1$ equal to the eigenvector having the largest eigenvalue $\\lambda_1$**.\n",
    "\n",
    "* This eigenvector is known as the firt **principal component**.\n",
    "\n",
    "* As you may anticipate, the linear trasnformation $A$ will the be a matrix whose row entries are **sorted** the eigenvectors (sorted by their correspondent eigenvalue).\n",
    "\n",
    "\\begin{align*}A &= \\left[\\begin{array}{c}\n",
    "\\overrightarrow{a_{1}}\\\\\n",
    "\\overrightarrow{a_{2}}\n",
    "\\end{array}\\right]\\end{align*}\n",
    "\n",
    "where $a_1$ and $a_2$ are eigenvectors of $R_X$ with correspondent eigenvalues $\\lambda_1$ and $\\lambda_2$ with $\\lambda_1>\\lambda_2$."
   ]
  },
  {
   "cell_type": "markdown",
   "metadata": {},
   "source": [
    "## 2. PCA as Minimum-error Formulation\n",
    "\n",
    "We can also look at PCA as a minimization of mean squared error."
   ]
  },
  {
   "cell_type": "code",
   "execution_count": 1,
   "metadata": {},
   "outputs": [
    {
     "data": {
      "image/png": "[encoded data removed]",
      "text/plain": [
       "<IPython.core.display.Image object>"
      ]
     },
     "execution_count": 1,
     "metadata": {
      "image/png": {
       "width": 300
      }
     },
     "output_type": "execute_result"
    }
   ],
   "source": [
    "from IPython.display import Image\n",
    "Image('figures/Figure12.2.png',width=300)"
   ]
  },
  {
   "cell_type": "markdown",
   "metadata": {},
   "source": [
    "Consider $X$ and a D-dimensional orthogonal basis $\\mathbf{u}$:\n",
    "\n",
    "\\begin{align*}\\hat{x} = \\sum_{i=1}^m y_i a_i\\end{align*}\n",
    "\n",
    "where $m<D$.\n",
    "\n",
    "\\begin{align*}y_j = x^Ta_j \\end{align*}\n",
    "\n",
    "where $A^TA = I$.\n",
    "\n",
    "We want to minimize the residual error:\n",
    "\n",
    "\\begin{align*}\\epsilon = x - \\hat{x} = \\sum_{i=m+1}^D y_i a_i\\end{align*}\n",
    "\n",
    "* The objective function we will use is the mean square residual:\n",
    "\n",
    "\\begin{align*}\n",
    "J &= E\\left[ \\|\\epsilon\\|^2_2\\right]\\\\\n",
    "&= E\\left[\\left( \\sum_{i=m+1}^D y_ia_i\\right)\\left( \\sum_{i=m+1}^D y_i a_i\\right) \\right]\\\\\n",
    "&=\\sum_{j=m+1}^D E [y_j^2]\\\\\n",
    "&=\\sum_{j=m+1}^D E [(a_j^T\\mathbf{x})(\\mathbf{x}^Ta_j)]\\\\\n",
    "&= \\sum_{j=m+1}^D a_j^T E[\\mathbf{x}\\mathbf{x}^T]a_j\\\\\n",
    "&= \\sum_{j=m+1}^D a_j^T R_x a_j\n",
    "\\end{align*}\n",
    "\n",
    "Minimize the error and incorporate Lagrange parameters for $U^TU=I$:\n",
    "\n",
    "\\begin{align*}\n",
    "\\frac{\\partial J}{\\partial a_j} &= 2(R_x a_j - \\lambda_j a_j) = 0\\\\\n",
    "R_x a_j &= \\lambda_j a_j\n",
    "\\end{align*}\n",
    "\n",
    "So, the sum of the error is the sum of the eigenvalues of the unused eigenvectors.  So, we want to select the eigenvectors with the $m$ largest eigenvalues. "
   ]
  },
  {
   "cell_type": "markdown",
   "metadata": {},
   "source": [
    "___"
   ]
  },
  {
   "cell_type": "markdown",
   "metadata": {},
   "source": [
    "# Steps of PCA\n",
    "\n",
    "Consider the data $X$:\n",
    "\n",
    "1. Subtract the mean $\\mu = \\frac{1}{N}\\sum_{i=1}^N x_i$\n",
    "\n",
    "2. Compute the covariance matrix $R_X$ (by definition, the covariance already subtracts the data's mean)\n",
    "\n",
    "3. Compute eigenvectors and eigenvalues of the matrix $R_X$, and store the sorted eigenvectors ($e_i$) in decreasing eigenvalue ($\\lambda_i$) order.\n",
    "\n",
    "4. The linear transformation $A$ will be: $A = \\left[\\begin{array}{c} \\mathbf{a_{1}}\\\\ \\mathbf{a_{2}} \\end{array}\\right]$, where $\\lambda_1 > \\lambda_2$\n",
    "\n",
    "5. Projection: $y=Ax$\n",
    "\n",
    "Note that the formal definition of covariance already accounts for demeaning the data."
   ]
  },
  {
   "cell_type": "code",
   "execution_count": null,
   "metadata": {},
   "outputs": [],
   "source": [
    "import numpy as np\n",
    "import numpy.random as npr\n",
    "import matplotlib.pyplot as plt\n",
    "%matplotlib inline\n",
    "plt.style.use('bmh')"
   ]
  },
  {
   "cell_type": "code",
   "execution_count": null,
   "metadata": {},
   "outputs": [],
   "source": [
    "def PCA(X, m, display=1):\n",
    "    '''This function implements PCA. The data matrix X is DxN matrix, \n",
    "    where D is the dimension and N the number of points'''\n",
    "    \n",
    "    D, N = X.shape\n",
    "    \n",
    "    # Demean the Data\n",
    "    data = X - X.mean(axis=1).reshape(-1, 1)\n",
    "    \n",
    "    # Covariance of the input data X\n",
    "    cov_mat = np.cov(data)\n",
    "    \n",
    "    # Find eigenvectors and eigenvalues \n",
    "    eigen_vals, eigen_vecs = np.linalg.eig(cov_mat)\n",
    "    \n",
    "    # Sort eigenvectors by magnitude of eigenvalues\n",
    "    eigen_pairs = [(np.abs(eigen_vals[i]), eigen_vecs[:,i]) for i in range(len(eigen_vals))]\n",
    "    eigen_pairs = sorted(eigen_pairs, key=lambda x: x[0], reverse=True)\n",
    "\n",
    "    # Linear transformation\n",
    "    A = np.hstack(([eigen_pairs[i][1][:, np.newaxis] for i in range(m)]))\n",
    "    \n",
    "    #compute explained variance and plot\n",
    "    cum_var_exp=0\n",
    "    if display:\n",
    "        total = sum(eigen_vals)\n",
    "        var_explained = [(i/total) for i in sorted(eigen_vals, reverse=True)]\n",
    "        cum_var_exp = np.cumsum(var_explained)\n",
    "        plt.bar(range(1,D+1), var_explained, alpha=0.5, align='center', label='individual explained variance')\n",
    "        plt.step(range(1,D+1), cum_var_exp, alpha=0.5, where='mid', label='cumulative explained variance')\n",
    "        plt.ylabel('Explained variance ratio')\n",
    "        plt.xlabel('Principal components')\n",
    "        plt.legend(loc='best')\n",
    "        plt.show();\n",
    "    return A, eigen_pairs, cum_var_exp"
   ]
  },
  {
   "cell_type": "markdown",
   "metadata": {},
   "source": [
    "## Example: Half-Moons"
   ]
  },
  {
   "cell_type": "code",
   "execution_count": null,
   "metadata": {},
   "outputs": [],
   "source": [
    "from sklearn.datasets import make_moons\n",
    "\n",
    "X, y = make_moons(n_samples = 100, random_state = 123)\n",
    "\n",
    "plt.scatter(X[:,0], X[:,1], c=y);"
   ]
  },
  {
   "cell_type": "code",
   "execution_count": null,
   "metadata": {},
   "outputs": [],
   "source": []
  },
  {
   "cell_type": "code",
   "execution_count": null,
   "metadata": {},
   "outputs": [],
   "source": [
    "# TO BE FINISHED IN CLASS\n",
    "\n",
    "plt.scatter(projection_PCA, np.zeros(len(projection_PCA)), c=y)\n",
    "plt.title('PCA Projection', fontsize=15);"
   ]
  },
  {
   "cell_type": "code",
   "execution_count": null,
   "metadata": {},
   "outputs": [],
   "source": [
    "from sklearn.discriminant_analysis import LinearDiscriminantAnalysis as LDA\n",
    "\n",
    "model = LDA(n_components=1)\n",
    "projection_LDA = model.fit_transform(X,y)\n",
    "\n",
    "plt.scatter(projection_LDA, np.zeros(len(projection_LDA)), c=y)\n",
    "plt.title('LDA Projection', fontsize=15);"
   ]
  },
  {
   "cell_type": "markdown",
   "metadata": {},
   "source": [
    "## Example: Synthetic oval-shaped data"
   ]
  },
  {
   "cell_type": "code",
   "execution_count": null,
   "metadata": {},
   "outputs": [],
   "source": [
    "from sklearn import datasets\n",
    "X, y = datasets.make_blobs(n_samples=1500,centers=2,cluster_std=2.5) \n",
    "X    = np.dot(X, [[0.60834549, -0.63667341], [-0.40887718, 0.85253229]])\n",
    "plt.scatter(X[y==0,0],X[y==0,1],c='r')\n",
    "plt.scatter(X[y==1,0],X[y==1,1],c='b');"
   ]
  },
  {
   "cell_type": "code",
   "execution_count": null,
   "metadata": {},
   "outputs": [],
   "source": [
    "A,_,_ = PCA(X.T,1,0)\n",
    "projection_PCA = X@A\n",
    "\n",
    "model = LDA(n_components=1)\n",
    "projection_LDA = model.fit_transform(X,y)\n",
    "\n",
    "plt.figure(figsize=(15,5))\n",
    "plt.subplot(121)\n",
    "plt.scatter(projection_PCA[y==0], np.zeros(len(projection_PCA[y==0])), c='r')\n",
    "plt.scatter(projection_PCA[y==1], 0.01+np.zeros(len(projection_PCA[y==1])), c='b')\n",
    "plt.ylim([-0.1,0.1]);plt.title('PCA Projection', fontsize=15);\n",
    "plt.subplot(122)\n",
    "plt.scatter(projection_LDA[y==0], np.zeros(len(projection_LDA[y==0])), c='r')\n",
    "plt.scatter(projection_LDA[y==1], 0.01+np.zeros(len(projection_LDA[y==1])), c='b')\n",
    "plt.ylim([-0.1,0.1]); plt.title('LDA Projection', fontsize=15);"
   ]
  },
  {
   "cell_type": "markdown",
   "metadata": {},
   "source": [
    "## Example: Wine Dataset\n",
    "\n",
    "https://archive.ics.uci.edu/ml/datasets/wine"
   ]
  },
  {
   "cell_type": "code",
   "execution_count": 2,
   "metadata": {},
   "outputs": [],
   "source": [
    "from sklearn.datasets import load_wine\n",
    "\n",
    "wine_data = load_wine(return_X_y=False)\n",
    "# print(wine_data.DESCR)"
   ]
  },
  {
   "cell_type": "code",
   "execution_count": null,
   "metadata": {},
   "outputs": [],
   "source": [
    "from sklearn.preprocessing import StandardScaler\n",
    "\n",
    "X = wine_data.data\n",
    "y = wine_data.target\n",
    "\n",
    "sc = StandardScaler()\n",
    "X = sc.fit_transform(X)\n",
    "\n",
    "print(X.shape, y.shape)"
   ]
  },
  {
   "cell_type": "code",
   "execution_count": null,
   "metadata": {},
   "outputs": [],
   "source": [
    "A, _, cum_var_exp= PCA(X.T,2,1)\n",
    "\n",
    "projection = X@A"
   ]
  },
  {
   "cell_type": "code",
   "execution_count": null,
   "metadata": {},
   "outputs": [],
   "source": [
    "cum_var_exp"
   ]
  },
  {
   "cell_type": "code",
   "execution_count": null,
   "metadata": {},
   "outputs": [],
   "source": [
    "np.where(cum_var_exp>=0.9)[0]"
   ]
  },
  {
   "cell_type": "code",
   "execution_count": null,
   "metadata": {},
   "outputs": [],
   "source": [
    "fig, ax = plt.subplots(figsize=(10, 10))\n",
    "plt.scatter(projection[:, 0], projection[:, 1], c=y)\n",
    "plt.xlabel('Principal Component 1', fontsize=15)\n",
    "plt.ylabel('Principal Component 2', fontsize=15);"
   ]
  },
  {
   "cell_type": "markdown",
   "metadata": {},
   "source": [
    "## Example: MNIST Dataset Handwritten Digits\n",
    "\n",
    "(http://yann.lecun.com/exdb/mnist/)"
   ]
  },
  {
   "cell_type": "code",
   "execution_count": null,
   "metadata": {},
   "outputs": [],
   "source": [
    "from keras.datasets import mnist\n",
    "\n",
    "(images, labels), (images_test, labels_test) = mnist.load_data()\n",
    "\n",
    "images = images/255.\n",
    "images_test = images_test/255.\n",
    "print(images.shape,labels.shape,images_test.shape,labels_test.shape)"
   ]
  },
  {
   "cell_type": "code",
   "execution_count": null,
   "metadata": {},
   "outputs": [],
   "source": [
    "plt.figure(figsize=(15,5))\n",
    "for i in range(15):\n",
    "    idx = npr.choice(len(images),size=1)\n",
    "    plt.subplot(3,5,i+1)\n",
    "    plt.imshow(np.squeeze(images[idx,:,:],axis=0), cmap='gray')\n",
    "    plt.title(labels[idx][0])\n",
    "    plt.axis('off');"
   ]
  },
  {
   "cell_type": "code",
   "execution_count": null,
   "metadata": {},
   "outputs": [],
   "source": [
    "# Flattening image into vector\n",
    "N,D,_ = images.shape\n",
    "Ntest,D,_ = images_test.shape\n",
    "\n",
    "X = images.flatten().reshape(N, D*D)\n",
    "X_test = images_test.flatten().reshape(Ntest, D*D)\n",
    "\n",
    "X.shape, X_test.shape"
   ]
  },
  {
   "cell_type": "code",
   "execution_count": null,
   "metadata": {},
   "outputs": [],
   "source": [
    "A, eigen_pairs, cum_var_exp = PCA(X.T,2,0)\n",
    "\n",
    "y = X@A"
   ]
  },
  {
   "cell_type": "code",
   "execution_count": null,
   "metadata": {},
   "outputs": [],
   "source": [
    "plt.figure(figsize=(10,5))\n",
    "plt.suptitle('MNIST Top 9 Eigenvectors', size=16)\n",
    "for i in range(9):\n",
    "        plt.subplot(3, 3, i + 1)\n",
    "        plt.imshow(np.real(eigen_pairs[i][1].reshape(28,28)),cmap='gray')\n",
    "        plt.axis('off');"
   ]
  },
  {
   "cell_type": "code",
   "execution_count": null,
   "metadata": {},
   "outputs": [],
   "source": [
    "fig, ax = plt.subplots(figsize=(10, 10))\n",
    "plt.scatter(np.real(y[:, 0]), np.real(y[:, 1]), c=labels, edgecolor='none', alpha=0.8, cmap=plt.cm.get_cmap('jet', 10))\n",
    "plt.colorbar(ticks=range(10));"
   ]
  },
  {
   "cell_type": "markdown",
   "metadata": {},
   "source": [
    "## Recap\n",
    "\n",
    "PCA is an **unsupervised** model that can be used to:\n",
    "\n",
    "1. Perform Dimensionality Reduction, by projecting data into directions with maximum explained variance\n",
    "2. Uncorrelate Data, by rotating the data space such that data becomes uncorrelated\n",
    "\n",
    "PCA uses **linear transformations** (projections or rotations) of the input data $X$:\n",
    "\n",
    "$$Y=AX$$\n",
    "\n",
    "where $A$ is a $D\\times D$ linear transformation matrix, $X$ is an $D\\times N$ data matrix, and $Y$ is a $D\\times N$ transformed data matrix.\n",
    "\n",
    "Therefore PCA will work well when the relationship between features are linear. Moreover, PCA is unsupervised because it **does not** use the class labels to find vector projections (or rotations). So the projections may not necessarily be in the direction that maximize class separability.\n",
    "\n",
    "PCA can be formulated from two points-of-view:\n",
    "1. Maximum explained variance\n",
    "2. Minimum reconstruction error"
   ]
  },
  {
   "cell_type": "markdown",
   "metadata": {},
   "source": [
    "## Kernel PCA\n",
    "\n",
    "There are other variants of PCA such as **Kernel PCA**, where we first project the data to a space where classes are linearly separable (RBF kernel) and then apply PCA:"
   ]
  },
  {
   "cell_type": "code",
   "execution_count": null,
   "metadata": {},
   "outputs": [],
   "source": [
    "from sklearn.datasets import make_circles\n",
    "\n",
    "X, y = make_circles(n_samples=1500, noise=0.1, factor=0.2)\n",
    "plt.scatter(X[:,0],X[:,1],c=y);"
   ]
  },
  {
   "cell_type": "code",
   "execution_count": null,
   "metadata": {},
   "outputs": [],
   "source": [
    "from sklearn.decomposition import PCA, KernelPCA\n",
    "\n",
    "model_pca = PCA(n_components=1)\n",
    "proj = model_pca.fit_transform(X)\n",
    "\n",
    "model_kpca = KernelPCA(n_components=1,kernel='rbf',gamma=2)\n",
    "proj_kpca = model_kpca.fit_transform(X)\n",
    "\n",
    "plt.figure(figsize=(15,5))\n",
    "plt.subplot(121); plt.scatter(proj,np.ones(len(proj)),c=y)\n",
    "plt.title('PCA Projection', size=15)\n",
    "plt.subplot(122); plt.scatter(proj_kpca,np.ones(len(proj_kpca)),c=y)\n",
    "plt.title('Kernel PCA Projection with RBF kernel',size=15);"
   ]
  },
  {
   "cell_type": "markdown",
   "metadata": {},
   "source": [
    "___"
   ]
  },
  {
   "cell_type": "markdown",
   "metadata": {},
   "source": [
    "# Manifold Learning\n",
    "\n",
    "As we have already noted, many natural sources of data correspond to low-dimensional, possibly noisy, non-linear manifolds embedded within the higher dimensional observed data space. Capturing this property explicitly can lead to improved density modelling compared with more general methods.\n",
    "\n",
    "PCA and LDA are often used to project a data set onto a lower-dimensional space. However both of then assume that the data samples *live* in an underlying linear manifold.\n",
    "\n",
    "There are other dimensionality reduction techniques that do not assume the manifold is linear. They include:\n",
    "\n",
    "1. **Multi-Dimensional Scaling (MDS)**\n",
    "\n",
    "2. **Isometric Mapping (ISOMAP)**\n",
    "\n",
    "3. **Locally Linear Embedding (LLE)**"
   ]
  },
  {
   "cell_type": "markdown",
   "metadata": {},
   "source": [
    "# MultiDimensional Scaling (MDS)\n",
    "\n",
    "Another linear technique with a similar aim is **multidimensional scaling**, or **MDS**. It finds a low-dimensional projection of the data such as to preserve, as closely as possible, the pairwise distances between data points, and involves finding the eigenvectors of the distance matrix. In the case where the distances are Euclidean, it gives equivalent results to PCA. Therefore, MDS is a generalization of PCA."
   ]
  },
  {
   "cell_type": "markdown",
   "metadata": {},
   "source": [
    "Consider a set of mean-centered observations $X=\\{x_1,x_2,\\dots,x_N\\}$ where $x_i\\in\\mathbb{R}^D$. By mean-centered samples $X$, I mean that $\\mu_j = \\sum_{i=1}^N x_{ij} = 0, \\forall j=1,2,\\dots,D$.\n",
    "\n",
    "Consider the **proximity matrix** $D$ that stores pairwise distances of data points $d_{ij} = \\text{distance}(x_i,x_j)$:\n",
    "\n",
    "$$D = \\left[\\begin{array}{cccc}\n",
    "d_{11} & d_{12} & \\cdots & d_{1N}\\\\\n",
    "d_{21} & d_{22} & \\cdots & d_{2N}\\\\\n",
    "\\vdots & \\vdots & \\ddots & \\vdots\\\\\n",
    "d_{N1} & d_{N2} & \\cdots & d_{NN}\n",
    "\\end{array}\\right]$$\n",
    "\n",
    "Note that $D$ is an $N\\times N$ symmetric matrix.\n",
    "\n",
    "A proximity matrix is:\n",
    "* A *metric* if \n",
    "    1. $d_{ii}=0$\n",
    "    2. $d_{ij}\\geq 0, i\\neq j$\n",
    "    3. $d_{ij} = d_{ji},\\forall i,j$\n",
    "    4. $d_{ij} \\leq d_{ik} + d_{jk},\\forall i,j,k$ (triangle inequality).\n",
    "* *Euclidean* if there exists a configuration of points in Euclidean space with the same $d_{ij}$ values."
   ]
  },
  {
   "cell_type": "markdown",
   "metadata": {},
   "source": [
    "Given an assumed Euclidean proximity matrix, $D$, the **goal** of MDS is to find a set of points, $Y$, that have the same proximity matrix in an M-dimensional space, where $M<D$.\n",
    "\n",
    "Let:\n",
    "\n",
    "$$B = YY^T = \\left[\\begin{array}{c} y_{1}\\\\ y_{2}\\\\ \\vdots\\\\ y_{N} \\end{array}\\right]\\left[\\begin{array}{cccc}\n",
    "y_{1}^{T} & y_{2}^{T} & \\cdots & y_{N}^{T}\\end{array}\\right]=\\left[\\begin{array}{cccc}\n",
    "y_{1}y_{1}^{T} & y_{1}y_{2}^{T} & \\cdots & y_{1}y_{N}^{T}\\\\\n",
    "y_{2}y_{1}^{T} & y_{2}y_{2}^{T} & \\cdots & y_{2}y_{N}^{T}\\\\\n",
    "\\vdots & \\vdots & \\ddots & \\vdots\\\\\n",
    "y_{N}y_{1}^{T} & y_{N}y_{2}^{T} & \\cdots & y_{N}y_{N}^{T}\n",
    "\\end{array}\\right]$$\n",
    "\n",
    "Then $$b_{ij} = \\sum_{k=1}^M y_{ik}y_{jk}$$\n",
    "\n",
    "* So, if we want to find $B$, then we can determine $Y$ by taking: \n",
    "\n",
    "$$Y\\approx B^{1/2}$$\n",
    "\n",
    "since $B=YY^T$.\n",
    "\n",
    "* The squared Euclidean distance between points of M-dimensional data $Y$ can be written in terms of $B$:\n",
    "\n",
    "\\begin{align*}\n",
    "d_{ij}^2 &= (y_i - y_j) (y_i - y_j)^T \\\\\n",
    "&= (y_i - y_j) (y_i^T - y_j^T) \\\\\n",
    "&= y_iy_i^T - y_iy_j^T -y_jy_i^T + y_jy_j^T \\\\\n",
    "&= y_iy_i^T - 2 y_iy_j^T + y_jy_j^T \\\\\n",
    "&= b_{ii} - 2 b_{ij} + b_{jj} \\\\\n",
    "\\end{align*}\n",
    "\n",
    "* Note that if we *translate* or *rotate* the data, we get the same proximity matrix! \n",
    "\n",
    "* Let's add some constraints to our transformed data: constraint data $Y$ to have mean zero for all dimensions, which is to say, $\\sum_{i=1}^N y_{ik} = 0, \\forall k$.\n",
    "\n",
    "* This implies that each row and column of $B$ sum to 0. Proof:\n",
    "\n",
    "$$\\sum_{j=1}^N b_{ij} = \\sum_{j=1}^N\\sum_{k=1}^M y_{ik}y_{jk} = \\sum_{k=1}^M y_{ik} \\left(\\sum_{j=1}^N y_{jk}\\right) = 0 \\text{ (sum of columns)} $$\n",
    "\n",
    "$$\\sum_{i=1}^N b_{ij} = \\sum_{i=1}^N\\sum_{k=1}^M y_{jk}y_{ik} = \\sum_{k=1}^M y_{ik} \\left(\\sum_{j=1}^N y_{jk}\\right) = 0 \\text{ (sum of rows)} $$\n",
    "\n",
    "Given this, we have:\n",
    "\n",
    "\\begin{align*}\n",
    "\\sum_{i=1}^N d_{ij}^2 &= \\sum_{i=1}^N (b_{ii} + b_{jj} - 2b_{ij}) = \\sum_{i=1}^N b_{ii} + \\sum_{i=1}^N b_{jj} - \\sum_{i=1}^N 2b_{ij} = T + Nb_{jj}\\\\\n",
    "\\iff b_{jj} &= \\frac{1}{N}\\left(\\sum_{i=1}^N d_{ij}^2 - T\\right) = \\frac{1}{N}\\left(\\sum_{i=1}^N d_{ij}^2 - \\frac{1}{2N}\\sum_{i=1}^N\\sum_{j=1}^N d_{ij}^2\\right)\n",
    "\\end{align*}\n",
    "\n",
    "\\begin{align*}\n",
    "\\sum_{j=1}^N d_{ij}^2 &= \\sum_{j=1}^N (b_{ii} + b_{jj} - 2b_{ij}) = \\sum_{j=1}^N b_{ii} + \\sum_{j=1}^N b_{jj} - \\sum_{j=1}^N 2b_{ij} = T + Nb_{ii}\\\\\n",
    "\\iff b_{ii} &= \\frac{1}{N}\\left(\\sum_{j=1}^N d_{ij}^2 - T\\right) = \\frac{1}{N}\\left(\\sum_{j=1}^N d_{ij}^2 - \\frac{1}{2N}\\sum_{i=1}^N\\sum_{j=1}^N d_{ij}^2\\right)\n",
    "\\end{align*}\n",
    "\n",
    "\\begin{align*}\n",
    "\\sum_{i=1}^N\\sum_{j=1}^N d_{ij}^2 &= \\sum_{i=1}^N\\sum_{j=1}^N (b_{ii} + b_{jj} - 2b_{ij}) = 2NT \\\\\n",
    "\\iff T &= \\frac{1}{2N} \\sum_{i=1}^N\\sum_{j=1}^N d_{ij}^2\n",
    "\\end{align*}\n",
    "\n",
    "where $T = \\text{trace}(B) = \\sum_{i=1}^N b_{ii}$.\n",
    "\n",
    "\n",
    "* Coming back to proximity matrix, $D$:\n",
    "\\begin{align*}\n",
    "d_{ij}^2 &= b_{ii} - 2 b_{ij} + b_{jj} \\\\\n",
    "d_{ij}^2 &= \\frac{1}{N}\\left(\\sum_{j=1}^N d_{ij}^2 - \\frac{1}{2N}\\sum_{i=1}^N\\sum_{j=1}^N d_{ij}^2\\right) - 2b_{ij} + \\frac{1}{N}\\left(\\sum_{i=1}^N d_{ij}^2 - \\frac{1}{2N}\\sum_{i=1}^N\\sum_{j=1}^N d_{ij}^2\\right) \\\\\n",
    "2b_{ij} &= -d_{ij}^2 + \\frac{1}{N}\\sum_{j=1}^N d_{ij}^2 + \\frac{1}{N}\\sum_{i=1}^N d_{ij}^2 - \\frac{1}{N^2}\\sum_{i=1}^N\\sum_{j=1}^N d_{ij}^2 \\\\\n",
    "b_{ij} &= -\\frac{1}{2} \\left(d_{ij}^2 - \\frac{1}{N}\\sum_{j=1}^N d_{ij}^2 - \\frac{1}{N}\\sum_{i=1}^N d_{ij}^2 + \\frac{1}{N^2}\\sum_{i=1}^N\\sum_{j=1}^N d_{ij}^2\\right)\n",
    "\\end{align*}\n",
    "\n",
    "* So, now, we can estimate $B$ using the proximity matrix $D$. In a matrix form, we can write:\n",
    "\n",
    "$$B = -\\frac{1}{2} JD^{2}J$$\n",
    "\n",
    "where $J = I - \\frac{1}{N}\\mathbf{1}\\mathbf{1}^T$, $I$ is an $N\\times N$ identity matrix, $\\mathbf{1}$ is an $N\\times 1$ vector of 1's and $D^{2} = \\left[d_{ij}^2\\right]$ is the proximity matrix of size $N\\times N$."
   ]
  },
  {
   "cell_type": "markdown",
   "metadata": {},
   "source": [
    "* Recall that for any real symmetruc matrix $B$, the eigenvalues are real and the eigenvectors can be chosen such that they are orthogonal to each other. Thus a real symmetric matrix $B$ can be described in the eigenspace, as follows:\n",
    "\n",
    "$$B=V\\Lambda V^T$$\n",
    "\n",
    "where $V$ is an orthogonal matrix containing the eigenvectors of $B$ and $\\Lambda$ is a diagonal matrix containing the eigenvalues of $B$.\n",
    "\n",
    "Then we can estimate $Y$ as follows:\n",
    "\n",
    "$$Y = B^{1/2} = V\\Lambda^{1/2}$$\n",
    "\n",
    "keeping only the $M$ dimensions of interest ($M<D$) corresponding to the $M$ largest eigenvalues.\n",
    "\n",
    "* Note: If we use the Euclidean distance to compute $D$ then MDS is equivalent to PCA! However, $D$ can be computed with any metric and therefore, MDS is a generalization of PCA."
   ]
  },
  {
   "cell_type": "markdown",
   "metadata": {},
   "source": [
    "### Steps to Implement MDS\n",
    "\n",
    "The MDS algorithm:\n",
    "\n",
    "1. Compute the distance/proximity matrix, $D$.\n",
    "2. Compute $D^2$.\n",
    "3. Compute $J = I - \\frac{1}{N}\\mathbf{1}\\mathbf{1}^T$\n",
    "4. Compute $B = -\\frac{1}{2} JD^{2}J$\n",
    "5. Compute eigenvectors, $V$, and eigenvalues,$\\Lambda$, of $B$. (store them in a matrix in decreasing eigenvalue order.)\n",
    "6. Compute $Y = V\\Lambda^{1/2}$"
   ]
  }
 ],
 "metadata": {
  "kernelspec": {
   "display_name": "Python 3",
   "language": "python",
   "name": "python3"
  },
  "language_info": {
   "codemirror_mode": {
    "name": "ipython",
    "version": 3
   },
   "file_extension": ".py",
   "mimetype": "text/x-python",
   "name": "python",
   "nbconvert_exporter": "python",
   "pygments_lexer": "ipython3",
   "version": "3.8.8"
  },
  "latex_envs": {
   "LaTeX_envs_menu_present": true,
   "autoclose": true,
   "autocomplete": true,
   "bibliofile": "biblio.bib",
   "cite_by": "apalike",
   "current_citInitial": 1,
   "eqLabelWithNumbers": true,
   "eqNumInitial": 1,
   "hotkeys": {
    "equation": "Ctrl-E",
    "itemize": "Ctrl-I"
   },
   "labels_anchors": false,
   "latex_user_defs": false,
   "report_style_numbering": false,
   "user_envs_cfg": false
  },
  "varInspector": {
   "cols": {
    "lenName": 16,
    "lenType": 16,
    "lenVar": 40
   },
   "kernels_config": {
    "python": {
     "delete_cmd_postfix": "",
     "delete_cmd_prefix": "del ",
     "library": "var_list.py",
     "varRefreshCmd": "print(var_dic_list())"
    },
    "r": {
     "delete_cmd_postfix": ") ",
     "delete_cmd_prefix": "rm(",
     "library": "var_list.r",
     "varRefreshCmd": "cat(var_dic_list()) "
    }
   },
   "types_to_exclude": [
    "module",
    "function",
    "builtin_function_or_method",
    "instance",
    "_Feature"
   ],
   "window_display": false
  }
 },
 "nbformat": 4,
 "nbformat_minor": 2
}
