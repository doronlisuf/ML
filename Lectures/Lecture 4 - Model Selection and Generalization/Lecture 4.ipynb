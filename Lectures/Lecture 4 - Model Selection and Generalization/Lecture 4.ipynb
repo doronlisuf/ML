{
 "cells": [
  {
   "cell_type": "markdown",
   "metadata": {},
   "source": [
    "# Lecture 4 - Model Selection and Generalization"
   ]
  },
  {
   "cell_type": "markdown",
   "metadata": {},
   "source": [
    "Last class we introduced **linear regression** with polynomial features and discussed the different system components.\n",
    "\n",
    "Let $\\{(x_i,t_i)\\}_{i=1}^N$ be a set of training data samples, where each sample $x_i$ and target $t_i$ are continuous-valued, i.e. $x_i, t_i \\in\\mathbb{R}$.\n",
    "\n",
    "1. **Feature Space:** we can create a *deterministic* set of features with, for example, polynomials:\n",
    "\n",
    "$$\\phi(x_i) = \\left[1, x_i, x_i^2, \\dots, x_i^{M-1}\\right]^T$$\n",
    "\n",
    "Each data sample $\\{x_i\\}_{i=1}^N$ will have its own representation, and so we can build a **data matrix** (or feature matrix) of size $N\\times M$:\n",
    "\n",
    "$$\\mathbf{X} =\\left[\\begin{array}{c} \\phi(x_1)^T \\\\ \\phi(x_2)^T \\\\ \\vdots \\\\ \\phi(x_N)^T \\end{array}\\right]  = \\left[\\begin{array}{ccccc}\n",
    "1 & x_{1} & x_{1}^{2} & \\cdots & x_{1}^{M-1}\\\\\n",
    "1 & x_{2} & x_{2}^{2} & \\cdots & x_{2}^{M-1}\\\\\n",
    "\\vdots & \\vdots & \\vdots & \\ddots & \\vdots\\\\\n",
    "1 & x_{N} & x_{N}^{2} & \\cdots & x_{N}^{M-1}\n",
    "\\end{array}\\right]$$\n",
    "\n",
    "2. **Mapper**: a linear combination of features weighted by a set of parameters $\\mathbf{w}=\\left[w_0, w_1, w_2,\\dots, w_{M-1}\\right]^T$, taking the form\n",
    "\n",
    "$$y = f(\\phi(x),\\mathbf{w}) = \\sum_{j=0}^{M-1} w_j\\phi_j(x)$$\n",
    "\n",
    "or, in matrix form,\n",
    "\n",
    "$$y = f(\\phi(x),\\mathbf{w}) = \\mathbf{X}\\mathbf{w}$$\n",
    "\n",
    "3. **Objective Function**: function that assesses the *quality* of the output of the model, for example, an error-based function such as L2-norm of the error or the mean-squared error (MSE) function:\n",
    "\n",
    "$$J(\\mathbf{w}) = \\frac{1}{2N} \\sum_{n=1}^N \\left(t_n - f(\\phi(x_n),\\mathbf{w})\\right)^2 = \\frac{1}{2N}\\left\\Vert \\mathbf{t} - \\mathbf{X}\\mathbf{w} \\right\\Vert^2_2$$\n",
    "\n",
    "4. **Learning Algorithm**: an algorithm that solves or searches for the *optimal* values of the parameters $\\mathbf{w}$ that optimize the objective function. It solves the following optimization problem:\n",
    "\n",
    "$$\\arg_{\\mathbf{w}}\\min J(\\mathbf{w})$$\n",
    "\n",
    "This is the **least mean squares (LMS)** function.\n",
    "\n",
    "Because the selected model is linear on the parameters, we can solve for a solution analytical without having to resort to search algorithms such as the gradient descent.\n",
    "\n",
    "Therefore, the solution for the parameters $\\mathbf{w}$ is the one that solves the equation\n",
    "\n",
    "$$\\frac{\\partial J(\\mathbf{w})}{\\partial\\mathbf{w}}=0$$\n",
    "\n",
    "We can use calculus algebra to take this derivative and solve for $\\mathbf{w}$ (see Lecture 3 notes for this approach), or we can refer to our knowledge of statistics. Recall that the want the output $\\mathbf{y}$ to be as close as possible to the target response $\\mathbf{t}$, therefore, we are solving for $\\mathbf{w}$ using the following equation:\n",
    "\n",
    "$$\\mathbf{t} = \\mathbf{X}\\mathbf{w}$$\n",
    "\n",
    "But, note that $\\mathbf{X}$ is a tall matrix (usually - and ideally - $N>>M$), so we **cannot** just that the left-inverse of $\\mathbf{X}$.\n",
    "\n",
    "This is the problem of finding the best line (or curve) that fits a set of points:"
   ]
  },
  {
   "cell_type": "code",
   "execution_count": 1,
   "metadata": {},
   "outputs": [
    {
     "data": {
      "image/png": "[encoded data removed]",
      "text/plain": [
       "<IPython.core.display.Image object>"
      ]
     },
     "execution_count": 1,
     "metadata": {
      "image/png": {
       "width": 400
      }
     },
     "output_type": "execute_result"
    }
   ],
   "source": [
    "from IPython.display import Image\n",
    "Image('figures/LeastSquares.png', width=400)"
   ]
  },
  {
   "cell_type": "markdown",
   "metadata": {},
   "source": [
    "From your statistics course, you learned a solution to this problem: the **least squares solution**, which provides us with an analytical solution for $\\mathbf{w}$, the $\\mathbf{w}^*$:\n",
    "\n",
    "$$\\mathbf{w}^* = \\mathbf{X}^{\\dagger}\\mathbf{t}$$\n",
    "\n",
    "where $\\mathbf{X}^{\\dagger}$ is the pseudo-inverse of the tall matrix $\\mathbf{X}$ and can be computed as\n",
    "\n",
    "$$\\mathbf{X}^{\\dagger} = \\left(\\mathbf{X}^T\\mathbf{X}\\right)^{-1}\\mathbf{X}^T$$\n",
    "\n",
    "**This completes the training stage.** For any given input data, we can compute its polynomial representation and find a solution for $\\mathbf{w}$:\n",
    "\n",
    "$$\\mathbf{w}^* = \\mathbf{X}_{\\text{train}} ^{\\dagger}\\mathbf{t}_{\\text{train}}$$\n",
    "\n",
    "and \n",
    "\n",
    "$$y_{\\text{train}} = \\mathbf{X}_{\\text{train}}\\mathbf{w}^*$$ \n",
    "\n",
    "In the **testing stage**, for any point we first component its polynomial representation, and then use the trained model (essentially the optimal set of parameters $\\mathbf{w}^*$) to compute a prediction for that point:\n",
    "\n",
    "$$y_{\\text{test}} = \\mathbf{X}_{\\text{test}}\\mathbf{w}^*$$ "
   ]
  },
  {
   "cell_type": "markdown",
   "metadata": {},
   "source": [
    "## Code Implementation\n",
    "\n",
    "**What can you control?** \n",
    "\n",
    "<!-- * Model order $M$\n",
    "* Feature representation or *basis functions* -->\n",
    "\n",
    "How would you implement linear regression using polynomial features?\n",
    " * Let's see with an example."
   ]
  },
  {
   "cell_type": "markdown",
   "metadata": {},
   "source": [
    "## Polynomial Curve Fitting"
   ]
  },
  {
   "cell_type": "markdown",
   "metadata": {},
   "source": [
    "### Example: Suppose Input Data is sampled from a (noisy) sine curve \n",
    "\n",
    "Suppose our data comes from a noisy sinusoidal: $t = \\sin(2\\pi x) + \\epsilon$ where $\\epsilon$ is a (univariate) Gaussian zero-mean random noise. \n",
    "\n",
    "* The univariate Gaussian Distribution is defined as:\n",
    "$$\\mathcal{N}(x | \\mu, \\sigma^2) = \\frac{1}{(2\\pi \\sigma^2)^{1/2}} \\exp\\left\\{ - \\frac{(x - \\mu)^2}{2\\sigma^2}\\right\\}$$\n",
    "\n",
    "where $\\mu$ is the mean and $\\sigma^2$ is the variance. \n",
    "\n",
    "* If the noise is zero-mean Gaussian distributed, it is like we are saying there is a Gaussian around the true curve: \n",
    "\n",
    "$$t = y + \\epsilon$$\n",
    "\n",
    "Let's generate data from the *true* underlying function (which, in practice, we would not know)."
   ]
  },
  {
   "cell_type": "code",
   "execution_count": null,
   "metadata": {},
   "outputs": [],
   "source": [
    "import numpy as np\n",
    "import matplotlib.pyplot as plt\n",
    "%matplotlib inline\n",
    "plt.style.use('bmh')"
   ]
  },
  {
   "cell_type": "code",
   "execution_count": null,
   "metadata": {},
   "outputs": [],
   "source": [
    "def NoisySinusoidalData(N, a, b, sigma):\n",
    "    '''Generates N data points in the range [a,b) sampled from a sin(2*pi*x) \n",
    "    with additive zero-mean Gaussian random noise with standard deviation gVar'''\n",
    "    # N input samples, evenly spaced numbers between [a,b) incrementing by 1/N\n",
    "    x = np.linspace(a,b,N)\n",
    "    # draw N sampled from a univariate Gaussian distribution with mean 0, sigma standard deviation and N data points\n",
    "    noise = np.random.normal(0,sigma,N) \n",
    "    # desired values, noisy sinusoidal\n",
    "    t = np.sin(2*np.pi*x) + noise\n",
    "    return x, t"
   ]
  },
  {
   "cell_type": "code",
   "execution_count": null,
   "metadata": {},
   "outputs": [],
   "source": [
    "# Generate input samples and desired values\n",
    "\n",
    "N = 50 # number of data samples\n",
    "a, b = [0,1] # data samples interval\n",
    "sigma_train = 0.3 # standard deviation of the zero-mean Gaussian noise\n",
    "sigma_test = 0.1\n",
    "x_train, t_train = NoisySinusoidalData(N, a, b, sigma_train) # Training Data - Noisy sinusoidal\n",
    "x_true, t_true = NoisySinusoidalData(N, a, b, 0) # True Sinusoidal - in practice, we don't have the true function\n",
    "x_test, t_test = NoisySinusoidalData(20, a, b, sigma_test) # Test Data - Noisy sinusoidal"
   ]
  },
  {
   "cell_type": "code",
   "execution_count": null,
   "metadata": {},
   "outputs": [],
   "source": [
    "plt.figure(figsize=(10,7))\n",
    "plt.scatter(x_train, t_train, c='b',linewidths=3,  label = 'Training Data')\n",
    "plt.plot(x_true, t_true, 'g', linewidth=3, label = 'True Sinusoidal')\n",
    "plt.scatter(x_test, t_test,c='r', marker='*',linewidths=3, label = 'Test Data')\n",
    "plt.legend()\n",
    "plt.xlabel('Data Samples, x')\n",
    "plt.ylabel('Desired Values, t');"
   ]
  },
  {
   "cell_type": "markdown",
   "metadata": {},
   "source": [
    "Now, let us implement linear regression with polynomial features or **polynomial regression**.\n",
    "\n",
    "Before build this function, let's take a look at some strategies to create the **data matrix** $\\mathbf{X}$:"
   ]
  },
  {
   "cell_type": "code",
   "execution_count": null,
   "metadata": {},
   "outputs": [],
   "source": []
  },
  {
   "cell_type": "code",
   "execution_count": null,
   "metadata": {},
   "outputs": [],
   "source": []
  },
  {
   "cell_type": "code",
   "execution_count": null,
   "metadata": {},
   "outputs": [],
   "source": []
  },
  {
   "cell_type": "code",
   "execution_count": null,
   "metadata": {},
   "outputs": [],
   "source": []
  },
  {
   "cell_type": "code",
   "execution_count": null,
   "metadata": {},
   "outputs": [],
   "source": []
  },
  {
   "cell_type": "code",
   "execution_count": null,
   "metadata": {},
   "outputs": [],
   "source": []
  },
  {
   "cell_type": "code",
   "execution_count": null,
   "metadata": {},
   "outputs": [],
   "source": []
  },
  {
   "cell_type": "code",
   "execution_count": null,
   "metadata": {
    "scrolled": false
   },
   "outputs": [],
   "source": [
    "# Model Order\n",
    "M = #select a model order\n",
    "\n",
    "# Find the parameters that fit the noisy sinusoidal\n",
    "w, y_train, error = PolynomialRegression(x_train,t_train,M) \n",
    "\n",
    "plt.figure(figsize=(10,7))\n",
    "plt.scatter(x_train,t_train, c='b',linewidths=3, label='Training Data')\n",
    "plt.plot(x_train,y_train,'r--', linewidth=3,label = 'Estimated Polynomial')\n",
    "plt.plot(x_true,t_true,'g',linewidth=3, label = 'True Function')\n",
    "plt.legend(fontsize=15)\n",
    "plt.xlabel('Data Samples, x',size=15)\n",
    "plt.ylabel('Desired Values, t',size=15);"
   ]
  },
  {
   "cell_type": "markdown",
   "metadata": {},
   "source": [
    "### Observations\n",
    "\n",
    "* What happens when the polynomial model order $M$ increases/decreases?\n",
    "\n",
    "* How large/small do the weight parameter values are as we increase $M$? Could this information be useful?\n",
    "\n",
    "* Which model order $M$ works best? Which $M$ would you choose?"
   ]
  },
  {
   "cell_type": "code",
   "execution_count": null,
   "metadata": {},
   "outputs": [],
   "source": [
    "plt.figure(figsize=(10,5))\n",
    "\n",
    "# To be finished in class\n",
    "\n",
    "plt.ylabel('Weight values', size=15)\n",
    "plt.xticks(np.arange(len(w)), ['$w_{'+str(i)+'}$' for i in range(len(w))],rotation=0, size=15);"
   ]
  },
  {
   "cell_type": "markdown",
   "metadata": {},
   "source": [
    "Let's see how well does this trained model **generalize** to the test data, to which we do not have labels.\n",
    "\n",
    "- In this synthetic environment, we have the label values for the test samples. But in practice, we will **not** have labels for the test data.\n",
    "\n",
    "**Testing Stage**\n",
    "* Apply the same feature extraction as in training: $\\mathbf{X}_{test}$, where $\\mathbf{X}_{test}$ is a $K\\times M$ data matrix\n",
    "* Predict the output using the learned parameters $\\mathbf{w}^*$, that is, $\\mathbf{y}_{test} = \\mathbf{X}_{test}\\mathbf{w}^*$"
   ]
  },
  {
   "cell_type": "code",
   "execution_count": null,
   "metadata": {},
   "outputs": [],
   "source": []
  },
  {
   "cell_type": "markdown",
   "metadata": {},
   "source": [
    "3. **Predict Labels.** In this step, we will use the trained model (the vector of coefficients $\\mathbf{w}^*$ and compute the predicted labels for the feature representation of the test samples."
   ]
  },
  {
   "cell_type": "code",
   "execution_count": null,
   "metadata": {},
   "outputs": [],
   "source": []
  },
  {
   "cell_type": "code",
   "execution_count": null,
   "metadata": {},
   "outputs": [],
   "source": [
    "# To be finished in class: Predict output for test samples\n",
    "\n",
    "plt.figure(figsize=(10,7))\n",
    "plt.scatter(x_train,t_train,c='b', linewidths=3, label='Training Data')\n",
    "plt.plot(x_train,y_train,'r--', linewidth=3, label = 'Estimated Polynomial')\n",
    "plt.plot(x_true,t_true,'g', linewidth=3, label = 'True Function')\n",
    "plt.scatter(x_test,t_test,c='r', marker='*', linewidths=3, label = 'Test Data')\n",
    "plt.plot(x_test,y_test,'m--',linewidth=3, label = 'Predictions')\n",
    "plt.legend(fontsize=15)\n",
    "plt.xlabel('Data Samples, x',size=15)\n",
    "plt.ylabel('Desired Values, t',size=15);"
   ]
  },
  {
   "cell_type": "markdown",
   "metadata": {},
   "source": [
    "### Observations:\n",
    "\n",
    "* How did the trained model *fit* in the test data?\n",
    "* Is it able to *generalize*?\n",
    "* Can we **design** a *training* strategy that can tells us how *well* we are performing in *unseen and unlabeled* data?"
   ]
  },
  {
   "cell_type": "markdown",
   "metadata": {},
   "source": [
    "* What happens when the test points fall outside the range of what the model has *learned*?"
   ]
  },
  {
   "cell_type": "code",
   "execution_count": null,
   "metadata": {},
   "outputs": [],
   "source": [
    "M = 4\n",
    "w, y, error = PolynomialRegression(x_train,t_train,M) \n",
    "\n",
    "x_test2, t_test2 = NoisySinusoidalData(20, 0, 1.5, 0.1)\n",
    "\n",
    "plt.figure(figsize=(10,7))\n",
    "plt.scatter(x_train, t_train, c='b', linewidths=3, label = 'Training Data')\n",
    "plt.plot(x_true, t_true, 'g', linewidth=3, label = 'True Sinusoidal')\n",
    "plt.scatter(x_test2, t_test2, c='r', marker='*',linewidths=3, label = 'Test Data')\n",
    "plt.legend(fontsize=15)\n",
    "plt.xlabel('Data Samples, x',size=15)\n",
    "plt.ylabel('Desired Values, t',size=15);"
   ]
  },
  {
   "cell_type": "code",
   "execution_count": null,
   "metadata": {},
   "outputs": [],
   "source": [
    "%matplotlib notebook\n",
    "\n",
    "# To be finished in class: Predict output for test samples\n",
    "\n",
    "plt.figure(figsize=(10,7))\n",
    "plt.scatter(x_train,t_train,c='b', linewidths=3, label='Training Data')\n",
    "plt.plot(x_train,y_train,'r--', linewidth=3, label = 'Estimated Polynomial')\n",
    "plt.plot(x_true,t_true,'g', linewidth=3, label = 'True Function')\n",
    "plt.scatter(x_test2,t_test2,c='r', marker='*', linewidths=3, label = 'Test Data')\n",
    "plt.plot(x_test2,y_test2,'m--',linewidth=3, label = 'Predictions')\n",
    "plt.legend(fontsize=15)\n",
    "plt.xlabel('Data Samples, x',size=15)\n",
    "plt.ylabel('Desired Values, t',size=15);"
   ]
  },
  {
   "cell_type": "markdown",
   "metadata": {},
   "source": [
    "* How do we select the *best* model order? - Cross-validation"
   ]
  },
  {
   "cell_type": "markdown",
   "metadata": {},
   "source": [
    "Let's compute the **Least Mean Squares (LMS)** objective function as a function of the model order $M$:"
   ]
  },
  {
   "cell_type": "code",
   "execution_count": null,
   "metadata": {},
   "outputs": [],
   "source": []
  },
  {
   "cell_type": "code",
   "execution_count": null,
   "metadata": {},
   "outputs": [],
   "source": []
  },
  {
   "cell_type": "code",
   "execution_count": null,
   "metadata": {},
   "outputs": [],
   "source": [
    "J_train = []\n",
    "J_validation = []\n",
    "Mrange = 18\n",
    "\n",
    "for M in range(1,Mrange):\n",
    "    \n",
    "    # To be finished in class\n",
    "\n",
    "fig = plt.figure(figsize=(8,5))\n",
    "plt.plot(list(range(1,Mrange)),J_train,'bo-', label = 'Training')\n",
    "plt.plot(list(range(1,Mrange)),J_validation,'r*-', label = 'Validation')\n",
    "plt.title('Cross-Validation',size=15)\n",
    "plt.xlabel('Model order, $M$',size=15)\n",
    "plt.ylabel('$J(\\mathbf{w})$',size=15)\n",
    "plt.legend(fontsize=20);"
   ]
  },
  {
   "cell_type": "markdown",
   "metadata": {},
   "source": [
    "## Another Example\n",
    "\n",
    "Let's take a look at COVID-19 data from the state of Florida. Data obtained from the [CDC COVID Data Tracker](https://covid.cdc.gov/covid-data-tracker/#trends_dailytrendscases) on August 29, 2021."
   ]
  },
  {
   "cell_type": "code",
   "execution_count": null,
   "metadata": {},
   "outputs": [],
   "source": []
  },
  {
   "cell_type": "code",
   "execution_count": null,
   "metadata": {},
   "outputs": [],
   "source": []
  },
  {
   "cell_type": "code",
   "execution_count": null,
   "metadata": {},
   "outputs": [],
   "source": []
  },
  {
   "cell_type": "code",
   "execution_count": null,
   "metadata": {},
   "outputs": [],
   "source": []
  },
  {
   "cell_type": "code",
   "execution_count": null,
   "metadata": {},
   "outputs": [],
   "source": []
  },
  {
   "cell_type": "code",
   "execution_count": null,
   "metadata": {},
   "outputs": [],
   "source": [
    "%matplotlib inline\n",
    "\n",
    "plt.figure(figsize=(10,5))\n",
    "plt.plot(cases)\n",
    "plt.xlabel('Days', size=15)\n",
    "plt.ylabel('Cumulative Total Cases', size=15)\n",
    "plt.xticks(range(0,len(cases),50), date[range(0,len(cases),50)],rotation=30,size=15);"
   ]
  },
  {
   "cell_type": "code",
   "execution_count": null,
   "metadata": {},
   "outputs": [],
   "source": [
    "plt.figure(figsize=(10,5))\n",
    "\n",
    "# To be finished in class\n",
    "\n",
    "plt.xlabel('Days', size=15)\n",
    "plt.ylabel('Cumulative Total Cases', size=15);"
   ]
  },
  {
   "cell_type": "markdown",
   "metadata": {},
   "source": [
    "Let's fit a **polynomial regression** model that predicts the number of daily new cases of COVID-19 in Florida."
   ]
  },
  {
   "cell_type": "code",
   "execution_count": null,
   "metadata": {},
   "outputs": [],
   "source": []
  },
  {
   "cell_type": "code",
   "execution_count": null,
   "metadata": {},
   "outputs": [],
   "source": []
  },
  {
   "cell_type": "code",
   "execution_count": null,
   "metadata": {},
   "outputs": [],
   "source": []
  },
  {
   "cell_type": "markdown",
   "metadata": {},
   "source": [
    "Let's compute the optimal set of parameters for the foam height model for each brand:"
   ]
  },
  {
   "cell_type": "code",
   "execution_count": null,
   "metadata": {},
   "outputs": [],
   "source": [
    "M = ##choose model order\n",
    "\n",
    "w, y, e = PolynomialRegression(x, t, M)"
   ]
  },
  {
   "cell_type": "code",
   "execution_count": null,
   "metadata": {},
   "outputs": [],
   "source": [
    "print('Model Coefficients: w=',w)"
   ]
  },
  {
   "cell_type": "code",
   "execution_count": null,
   "metadata": {},
   "outputs": [],
   "source": []
  },
  {
   "cell_type": "code",
   "execution_count": null,
   "metadata": {},
   "outputs": [],
   "source": [
    "plt.figure(figsize=(10,5))\n",
    "plt.plot(x, t,'-o', label='data')\n",
    "plt.plot(x, y, 'r', label='Estimated Model')\n",
    "plt.xlabel('Days', size=15)\n",
    "plt.ylabel('New Cases', size=15)\n",
    "plt.legend(fontsize=15);"
   ]
  },
  {
   "cell_type": "markdown",
   "metadata": {},
   "source": [
    "**What is the predicted daily new cases for the next 3 days?**"
   ]
  },
  {
   "cell_type": "code",
   "execution_count": null,
   "metadata": {},
   "outputs": [],
   "source": [
    "prediction = PolynomialRegression_test(np.array([90,91,92]), M, w)\n",
    "\n",
    "prediction"
   ]
  },
  {
   "cell_type": "code",
   "execution_count": null,
   "metadata": {},
   "outputs": [],
   "source": [
    "plt.figure(figsize=(10,5))\n",
    "plt.plot(x, t,'-o', label='data')\n",
    "plt.plot(x, y, 'r', label='Estimated Model')\n",
    "plt.scatter([90,91,92], prediction, marker='*',c='r')\n",
    "plt.xlabel('Days', size=15)\n",
    "plt.ylabel('New Cases', size=15);"
   ]
  },
  {
   "cell_type": "markdown",
   "metadata": {},
   "source": [
    "### Observations\n",
    "\n",
    "* We did not encode any type of physical behavior into the model, (for example, enforcing the cumulative number of new cases to be the same or larger than the previous day), the model is not able to transcribe them.\n",
    "\n",
    "* The prediction point falls outside the region in which the model was trained and therefore the predictions might not be reliable. We can compute confidence intervals to access our confidence in these predictions.\n",
    "\n",
    "* The **model choice** also plays an important factor in the prediction. What if we considered an exponential model?"
   ]
  },
  {
   "cell_type": "code",
   "execution_count": null,
   "metadata": {},
   "outputs": [],
   "source": [
    "plt.figure(figsize=(10,5))\n",
    "\n",
    "#To be finished in class\n",
    "\n",
    "plt.xlabel('Days', fontsize=15)\n",
    "plt.ylabel('New Cases in log-scale', fontsize=15);"
   ]
  },
  {
   "cell_type": "code",
   "execution_count": null,
   "metadata": {},
   "outputs": [],
   "source": []
  },
  {
   "cell_type": "markdown",
   "metadata": {},
   "source": [
    "Now that we have transformed the desired label as its logarithm, our goal is to fit a linear model to approximate:\n",
    "\n",
    "\\begin{align}\n",
    "w_0 + w_1\\mathbf{x}+\\dots+w_M\\mathbf{x}^M &= \\ln(t) \\\\\n",
    "\\iff e^{w_0 + w_1\\mathbf{x}+\\dots+w_M\\mathbf{x}^M} &= t\n",
    "\\end{align}"
   ]
  },
  {
   "cell_type": "code",
   "execution_count": null,
   "metadata": {},
   "outputs": [],
   "source": [
    "M = 3\n",
    "\n",
    "w_log, y_log, e_log = PolynomialRegression(x, t_log, M)"
   ]
  },
  {
   "cell_type": "code",
   "execution_count": null,
   "metadata": {},
   "outputs": [],
   "source": []
  },
  {
   "cell_type": "code",
   "execution_count": null,
   "metadata": {},
   "outputs": [],
   "source": [
    "plt.figure(figsize=(10,5))\n",
    "plt.plot(x, t,'-o', label='data')\n",
    "\n",
    "#To be finished in class\n",
    "\n",
    "plt.xlabel('Days', fontsize=15)\n",
    "plt.ylabel('New Cases', fontsize=15)\n",
    "plt.legend();"
   ]
  },
  {
   "cell_type": "code",
   "execution_count": null,
   "metadata": {},
   "outputs": [],
   "source": [
    "pred_exp = np.exp(w_log[0] + w_log[1]*np.array([90,92,92]) + w_log[2]*np.array([90,91,92])**2)\n",
    "\n",
    "plt.figure(figsize=(10,5))\n",
    "plt.plot(x, t,'-o', label='data')\n",
    "plt.plot(x, np.exp(w_log[0] + w_log[1]*x + w_log[2]*x**2), 'c', label='Exponential Model')\n",
    "plt.scatter([90,92,92], pred_exp, marker='*',c='c')\n",
    "plt.xlabel('Days', fontsize=15)\n",
    "plt.ylabel('New Cases', fontsize=15);"
   ]
  },
  {
   "cell_type": "markdown",
   "metadata": {},
   "source": [
    "Qualitative comparison of both models:"
   ]
  },
  {
   "cell_type": "code",
   "execution_count": null,
   "metadata": {},
   "outputs": [],
   "source": [
    "plt.figure(figsize=(10,5))\n",
    "plt.plot(x, t,'o', label='data')\n",
    "plt.plot(x, y, 'r', label='Polynomial Model')\n",
    "plt.plot(x,  np.exp(w_log[0] + w_log[1]*x + w_log[2]*x**2), 'c', label='Exponential Model')\n",
    "plt.scatter([90,92,92], pred_exp, marker='*',c='c')\n",
    "plt.scatter([90,92,92], prediction, marker='*',c='r')\n",
    "plt.xlabel('Days', fontsize=15)\n",
    "plt.ylabel('New Cases', fontsize=15)\n",
    "plt.legend(fontsize=15);"
   ]
  },
  {
   "cell_type": "code",
   "execution_count": null,
   "metadata": {},
   "outputs": [],
   "source": []
  }
 ],
 "metadata": {
  "kernelspec": {
   "display_name": "Python 3",
   "language": "python",
   "name": "python3"
  },
  "language_info": {
   "codemirror_mode": {
    "name": "ipython",
    "version": 3
   },
   "file_extension": ".py",
   "mimetype": "text/x-python",
   "name": "python",
   "nbconvert_exporter": "python",
   "pygments_lexer": "ipython3",
   "version": "3.7.7"
  },
  "latex_envs": {
   "LaTeX_envs_menu_present": true,
   "autoclose": false,
   "autocomplete": true,
   "bibliofile": "biblio.bib",
   "cite_by": "apalike",
   "current_citInitial": 1,
   "eqLabelWithNumbers": true,
   "eqNumInitial": 1,
   "hotkeys": {
    "equation": "Ctrl-E",
    "itemize": "Ctrl-I"
   },
   "labels_anchors": false,
   "latex_user_defs": false,
   "report_style_numbering": false,
   "user_envs_cfg": false
  },
  "varInspector": {
   "cols": {
    "lenName": 16,
    "lenType": 16,
    "lenVar": 40
   },
   "kernels_config": {
    "python": {
     "delete_cmd_postfix": "",
     "delete_cmd_prefix": "del ",
     "library": "var_list.py",
     "varRefreshCmd": "print(var_dic_list())"
    },
    "r": {
     "delete_cmd_postfix": ") ",
     "delete_cmd_prefix": "rm(",
     "library": "var_list.r",
     "varRefreshCmd": "cat(var_dic_list()) "
    }
   },
   "types_to_exclude": [
    "module",
    "function",
    "builtin_function_or_method",
    "instance",
    "_Feature"
   ],
   "window_display": false
  }
 },
 "nbformat": 4,
 "nbformat_minor": 4
}
